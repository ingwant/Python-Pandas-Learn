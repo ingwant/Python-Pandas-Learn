{
 "cells": [
  {
   "cell_type": "markdown",
   "id": "4ce18266",
   "metadata": {},
   "source": [
    "### 1、导入三方库"
   ]
  },
  {
   "cell_type": "code",
   "execution_count": 1,
   "id": "514617a1",
   "metadata": {},
   "outputs": [],
   "source": [
    "import numpy as np\n",
    "import pandas as pd"
   ]
  },
  {
   "cell_type": "markdown",
   "id": "e06b2bb7",
   "metadata": {},
   "source": [
    "### 2、通过Series函数创建对象"
   ]
  },
  {
   "cell_type": "code",
   "execution_count": 2,
   "id": "a5217452",
   "metadata": {},
   "outputs": [
    {
     "data": {
      "text/plain": [
       "0    1.0\n",
       "1    3.0\n",
       "2    4.0\n",
       "3    NaN\n",
       "4    6.0\n",
       "5    8.0\n",
       "dtype: float64"
      ]
     },
     "execution_count": 2,
     "metadata": {},
     "output_type": "execute_result"
    }
   ],
   "source": [
    "s = pd.Series([1, 3, 4, np.nan, 6, 8])\n",
    "s"
   ]
  },
  {
   "cell_type": "markdown",
   "id": "70176e88",
   "metadata": {},
   "source": [
    "### 3、通过DataFrame创建对象（参数为Numpy数组）"
   ]
  },
  {
   "cell_type": "code",
   "execution_count": 3,
   "id": "b20bdc18",
   "metadata": {
    "scrolled": true
   },
   "outputs": [
    {
     "data": {
      "text/plain": [
       "DatetimeIndex(['2013-01-01', '2013-01-02', '2013-01-03', '2013-01-04',\n",
       "               '2013-01-05', '2013-01-06'],\n",
       "              dtype='datetime64[ns]', freq='D')"
      ]
     },
     "execution_count": 3,
     "metadata": {},
     "output_type": "execute_result"
    }
   ],
   "source": [
    "dates = pd.date_range(\"20130101\", periods=6) # 创建时间列表，参数1为起始日期，参数2为列表元素数量\n",
    "dates"
   ]
  },
  {
   "cell_type": "code",
   "execution_count": 4,
   "id": "9dc32521",
   "metadata": {},
   "outputs": [
    {
     "data": {
      "text/html": [
       "<div>\n",
       "<style scoped>\n",
       "    .dataframe tbody tr th:only-of-type {\n",
       "        vertical-align: middle;\n",
       "    }\n",
       "\n",
       "    .dataframe tbody tr th {\n",
       "        vertical-align: top;\n",
       "    }\n",
       "\n",
       "    .dataframe thead th {\n",
       "        text-align: right;\n",
       "    }\n",
       "</style>\n",
       "<table border=\"1\" class=\"dataframe\">\n",
       "  <thead>\n",
       "    <tr style=\"text-align: right;\">\n",
       "      <th></th>\n",
       "      <th>A</th>\n",
       "      <th>B</th>\n",
       "      <th>C</th>\n",
       "      <th>D</th>\n",
       "    </tr>\n",
       "  </thead>\n",
       "  <tbody>\n",
       "    <tr>\n",
       "      <th>2013-01-01</th>\n",
       "      <td>-0.700111</td>\n",
       "      <td>0.873755</td>\n",
       "      <td>-0.084570</td>\n",
       "      <td>1.681606</td>\n",
       "    </tr>\n",
       "    <tr>\n",
       "      <th>2013-01-02</th>\n",
       "      <td>-0.574513</td>\n",
       "      <td>0.454286</td>\n",
       "      <td>0.011059</td>\n",
       "      <td>2.266692</td>\n",
       "    </tr>\n",
       "    <tr>\n",
       "      <th>2013-01-03</th>\n",
       "      <td>-1.988976</td>\n",
       "      <td>0.373714</td>\n",
       "      <td>-0.946753</td>\n",
       "      <td>-0.782646</td>\n",
       "    </tr>\n",
       "    <tr>\n",
       "      <th>2013-01-04</th>\n",
       "      <td>1.338778</td>\n",
       "      <td>-0.689426</td>\n",
       "      <td>1.073727</td>\n",
       "      <td>1.700768</td>\n",
       "    </tr>\n",
       "    <tr>\n",
       "      <th>2013-01-05</th>\n",
       "      <td>0.503490</td>\n",
       "      <td>-0.479664</td>\n",
       "      <td>-2.795350</td>\n",
       "      <td>0.321425</td>\n",
       "    </tr>\n",
       "    <tr>\n",
       "      <th>2013-01-06</th>\n",
       "      <td>0.862433</td>\n",
       "      <td>-1.271988</td>\n",
       "      <td>-1.981780</td>\n",
       "      <td>0.916643</td>\n",
       "    </tr>\n",
       "  </tbody>\n",
       "</table>\n",
       "</div>"
      ],
      "text/plain": [
       "                   A         B         C         D\n",
       "2013-01-01 -0.700111  0.873755 -0.084570  1.681606\n",
       "2013-01-02 -0.574513  0.454286  0.011059  2.266692\n",
       "2013-01-03 -1.988976  0.373714 -0.946753 -0.782646\n",
       "2013-01-04  1.338778 -0.689426  1.073727  1.700768\n",
       "2013-01-05  0.503490 -0.479664 -2.795350  0.321425\n",
       "2013-01-06  0.862433 -1.271988 -1.981780  0.916643"
      ]
     },
     "execution_count": 4,
     "metadata": {},
     "output_type": "execute_result"
    }
   ],
   "source": [
    "df = pd.DataFrame(np.random.randn(6, 4), index=dates, columns=list(\"ABCD\")) # randn()返回值为标准正态分布中的值，参数为生成的数组维度\n",
    "df"
   ]
  },
  {
   "cell_type": "markdown",
   "id": "66d45407",
   "metadata": {},
   "source": [
    "### 4、通过DataFrame创建对象（参数为字典）"
   ]
  },
  {
   "cell_type": "code",
   "execution_count": 5,
   "id": "97ddbdfa",
   "metadata": {},
   "outputs": [
    {
     "data": {
      "text/html": [
       "<div>\n",
       "<style scoped>\n",
       "    .dataframe tbody tr th:only-of-type {\n",
       "        vertical-align: middle;\n",
       "    }\n",
       "\n",
       "    .dataframe tbody tr th {\n",
       "        vertical-align: top;\n",
       "    }\n",
       "\n",
       "    .dataframe thead th {\n",
       "        text-align: right;\n",
       "    }\n",
       "</style>\n",
       "<table border=\"1\" class=\"dataframe\">\n",
       "  <thead>\n",
       "    <tr style=\"text-align: right;\">\n",
       "      <th></th>\n",
       "      <th>A</th>\n",
       "      <th>B</th>\n",
       "      <th>C</th>\n",
       "      <th>D</th>\n",
       "      <th>E</th>\n",
       "      <th>F</th>\n",
       "    </tr>\n",
       "  </thead>\n",
       "  <tbody>\n",
       "    <tr>\n",
       "      <th>0</th>\n",
       "      <td>1.0</td>\n",
       "      <td>2021-08-09</td>\n",
       "      <td>1.0</td>\n",
       "      <td>3</td>\n",
       "      <td>test</td>\n",
       "      <td>Foo</td>\n",
       "    </tr>\n",
       "    <tr>\n",
       "      <th>1</th>\n",
       "      <td>1.0</td>\n",
       "      <td>2021-08-09</td>\n",
       "      <td>1.0</td>\n",
       "      <td>3</td>\n",
       "      <td>train</td>\n",
       "      <td>Foo</td>\n",
       "    </tr>\n",
       "    <tr>\n",
       "      <th>2</th>\n",
       "      <td>1.0</td>\n",
       "      <td>2021-08-09</td>\n",
       "      <td>1.0</td>\n",
       "      <td>3</td>\n",
       "      <td>test</td>\n",
       "      <td>Foo</td>\n",
       "    </tr>\n",
       "    <tr>\n",
       "      <th>3</th>\n",
       "      <td>1.0</td>\n",
       "      <td>2021-08-09</td>\n",
       "      <td>1.0</td>\n",
       "      <td>3</td>\n",
       "      <td>train</td>\n",
       "      <td>Foo</td>\n",
       "    </tr>\n",
       "  </tbody>\n",
       "</table>\n",
       "</div>"
      ],
      "text/plain": [
       "     A          B    C  D      E    F\n",
       "0  1.0 2021-08-09  1.0  3   test  Foo\n",
       "1  1.0 2021-08-09  1.0  3  train  Foo\n",
       "2  1.0 2021-08-09  1.0  3   test  Foo\n",
       "3  1.0 2021-08-09  1.0  3  train  Foo"
      ]
     },
     "execution_count": 5,
     "metadata": {},
     "output_type": "execute_result"
    }
   ],
   "source": [
    "data_dict = {\n",
    "    \"A\": 1.0,\n",
    "    \"B\": pd.Timestamp(\"20210809\"), \n",
    "    \"C\": pd.Series(1, index=list(range(4)), dtype=\"float32\"),  \n",
    "    \"D\": np.array([3] * 4, dtype=\"int32\"),                     \n",
    "    \"E\": pd.Categorical([\"test\", \"train\", \"test\", \"train\"]),\n",
    "    \"F\": \"Foo\",\n",
    "}\n",
    "df2 = pd.DataFrame(data_dict)\n",
    "df2"
   ]
  },
  {
   "cell_type": "code",
   "execution_count": 6,
   "id": "01d9215a",
   "metadata": {},
   "outputs": [
    {
     "data": {
      "text/plain": [
       "A           float64\n",
       "B    datetime64[ns]\n",
       "C           float32\n",
       "D             int32\n",
       "E          category\n",
       "F            object\n",
       "dtype: object"
      ]
     },
     "execution_count": 6,
     "metadata": {},
     "output_type": "execute_result"
    }
   ],
   "source": [
    "df2.dtypes"
   ]
  },
  {
   "cell_type": "markdown",
   "id": "2f2d96ba",
   "metadata": {},
   "source": [
    "#### 注释"
   ]
  },
  {
   "cell_type": "code",
   "execution_count": 7,
   "id": "dba7890a",
   "metadata": {},
   "outputs": [
    {
     "data": {
      "text/plain": [
       "Timestamp('2021-08-09 00:00:00')"
      ]
     },
     "execution_count": 7,
     "metadata": {},
     "output_type": "execute_result"
    }
   ],
   "source": [
    "pd.Timestamp(\"20210809\")   # 创建时间戳"
   ]
  },
  {
   "cell_type": "code",
   "execution_count": 8,
   "id": "7213b052",
   "metadata": {},
   "outputs": [
    {
     "data": {
      "text/plain": [
       "0    1.0\n",
       "1    1.0\n",
       "2    1.0\n",
       "3    1.0\n",
       "dtype: float32"
      ]
     },
     "execution_count": 8,
     "metadata": {},
     "output_type": "execute_result"
    }
   ],
   "source": [
    "pd.Series(1, index=list(range(4)), dtype=\"float32\") # 创建一维数组"
   ]
  },
  {
   "cell_type": "code",
   "execution_count": 9,
   "id": "08c3b4e7",
   "metadata": {},
   "outputs": [
    {
     "data": {
      "text/plain": [
       "array([3, 3, 3, 3])"
      ]
     },
     "execution_count": 9,
     "metadata": {},
     "output_type": "execute_result"
    }
   ],
   "source": [
    "np.array([3] * 4, dtype=\"int32\")  # 数组创建"
   ]
  },
  {
   "cell_type": "code",
   "execution_count": 10,
   "id": "6b8d4aff",
   "metadata": {},
   "outputs": [
    {
     "data": {
      "text/plain": [
       "['test', 'train', 'test', 'train']\n",
       "Categories (2, object): ['test', 'train']"
      ]
     },
     "execution_count": 10,
     "metadata": {},
     "output_type": "execute_result"
    }
   ],
   "source": [
    "pd.Categorical([\"test\", \"train\", \"test\", \"train\"]) # 创建category数据类型"
   ]
  },
  {
   "cell_type": "markdown",
   "id": "e7e0ceff",
   "metadata": {},
   "source": [
    "### 5、DataFrame对象对应方法"
   ]
  },
  {
   "cell_type": "markdown",
   "id": "d3954b3a",
   "metadata": {},
   "source": [
    "df2.A                  df2.bool\n",
    "df2.abs                df2.boxplot\n",
    "df2.add                df2.C\n",
    "df2.add_prefix         df2.clip\n",
    "df2.add_suffix         df2.columns\n",
    "df2.align              df2.copy\n",
    "df2.all                df2.count\n",
    "df2.any                df2.combine\n",
    "df2.append             df2.D\n",
    "df2.apply              df2.describe\n",
    "df2.applymap           df2.diff\n",
    "df2.B                  df2.duplicated"
   ]
  },
  {
   "cell_type": "markdown",
   "id": "5fc288a4",
   "metadata": {},
   "source": [
    "### 6、查看DataFrame对象中的数据"
   ]
  },
  {
   "cell_type": "code",
   "execution_count": 11,
   "id": "c3efb675",
   "metadata": {},
   "outputs": [
    {
     "data": {
      "text/html": [
       "<div>\n",
       "<style scoped>\n",
       "    .dataframe tbody tr th:only-of-type {\n",
       "        vertical-align: middle;\n",
       "    }\n",
       "\n",
       "    .dataframe tbody tr th {\n",
       "        vertical-align: top;\n",
       "    }\n",
       "\n",
       "    .dataframe thead th {\n",
       "        text-align: right;\n",
       "    }\n",
       "</style>\n",
       "<table border=\"1\" class=\"dataframe\">\n",
       "  <thead>\n",
       "    <tr style=\"text-align: right;\">\n",
       "      <th></th>\n",
       "      <th>A</th>\n",
       "      <th>B</th>\n",
       "      <th>C</th>\n",
       "      <th>D</th>\n",
       "    </tr>\n",
       "  </thead>\n",
       "  <tbody>\n",
       "    <tr>\n",
       "      <th>2013-01-01</th>\n",
       "      <td>-0.700111</td>\n",
       "      <td>0.873755</td>\n",
       "      <td>-0.084570</td>\n",
       "      <td>1.681606</td>\n",
       "    </tr>\n",
       "    <tr>\n",
       "      <th>2013-01-02</th>\n",
       "      <td>-0.574513</td>\n",
       "      <td>0.454286</td>\n",
       "      <td>0.011059</td>\n",
       "      <td>2.266692</td>\n",
       "    </tr>\n",
       "    <tr>\n",
       "      <th>2013-01-03</th>\n",
       "      <td>-1.988976</td>\n",
       "      <td>0.373714</td>\n",
       "      <td>-0.946753</td>\n",
       "      <td>-0.782646</td>\n",
       "    </tr>\n",
       "    <tr>\n",
       "      <th>2013-01-04</th>\n",
       "      <td>1.338778</td>\n",
       "      <td>-0.689426</td>\n",
       "      <td>1.073727</td>\n",
       "      <td>1.700768</td>\n",
       "    </tr>\n",
       "    <tr>\n",
       "      <th>2013-01-05</th>\n",
       "      <td>0.503490</td>\n",
       "      <td>-0.479664</td>\n",
       "      <td>-2.795350</td>\n",
       "      <td>0.321425</td>\n",
       "    </tr>\n",
       "    <tr>\n",
       "      <th>2013-01-06</th>\n",
       "      <td>0.862433</td>\n",
       "      <td>-1.271988</td>\n",
       "      <td>-1.981780</td>\n",
       "      <td>0.916643</td>\n",
       "    </tr>\n",
       "  </tbody>\n",
       "</table>\n",
       "</div>"
      ],
      "text/plain": [
       "                   A         B         C         D\n",
       "2013-01-01 -0.700111  0.873755 -0.084570  1.681606\n",
       "2013-01-02 -0.574513  0.454286  0.011059  2.266692\n",
       "2013-01-03 -1.988976  0.373714 -0.946753 -0.782646\n",
       "2013-01-04  1.338778 -0.689426  1.073727  1.700768\n",
       "2013-01-05  0.503490 -0.479664 -2.795350  0.321425\n",
       "2013-01-06  0.862433 -1.271988 -1.981780  0.916643"
      ]
     },
     "execution_count": 11,
     "metadata": {},
     "output_type": "execute_result"
    }
   ],
   "source": [
    "df"
   ]
  },
  {
   "cell_type": "code",
   "execution_count": 12,
   "id": "09845f95",
   "metadata": {},
   "outputs": [
    {
     "data": {
      "text/html": [
       "<div>\n",
       "<style scoped>\n",
       "    .dataframe tbody tr th:only-of-type {\n",
       "        vertical-align: middle;\n",
       "    }\n",
       "\n",
       "    .dataframe tbody tr th {\n",
       "        vertical-align: top;\n",
       "    }\n",
       "\n",
       "    .dataframe thead th {\n",
       "        text-align: right;\n",
       "    }\n",
       "</style>\n",
       "<table border=\"1\" class=\"dataframe\">\n",
       "  <thead>\n",
       "    <tr style=\"text-align: right;\">\n",
       "      <th></th>\n",
       "      <th>A</th>\n",
       "      <th>B</th>\n",
       "      <th>C</th>\n",
       "      <th>D</th>\n",
       "    </tr>\n",
       "  </thead>\n",
       "  <tbody>\n",
       "    <tr>\n",
       "      <th>2013-01-01</th>\n",
       "      <td>-0.700111</td>\n",
       "      <td>0.873755</td>\n",
       "      <td>-0.084570</td>\n",
       "      <td>1.681606</td>\n",
       "    </tr>\n",
       "    <tr>\n",
       "      <th>2013-01-02</th>\n",
       "      <td>-0.574513</td>\n",
       "      <td>0.454286</td>\n",
       "      <td>0.011059</td>\n",
       "      <td>2.266692</td>\n",
       "    </tr>\n",
       "    <tr>\n",
       "      <th>2013-01-03</th>\n",
       "      <td>-1.988976</td>\n",
       "      <td>0.373714</td>\n",
       "      <td>-0.946753</td>\n",
       "      <td>-0.782646</td>\n",
       "    </tr>\n",
       "    <tr>\n",
       "      <th>2013-01-04</th>\n",
       "      <td>1.338778</td>\n",
       "      <td>-0.689426</td>\n",
       "      <td>1.073727</td>\n",
       "      <td>1.700768</td>\n",
       "    </tr>\n",
       "    <tr>\n",
       "      <th>2013-01-05</th>\n",
       "      <td>0.503490</td>\n",
       "      <td>-0.479664</td>\n",
       "      <td>-2.795350</td>\n",
       "      <td>0.321425</td>\n",
       "    </tr>\n",
       "  </tbody>\n",
       "</table>\n",
       "</div>"
      ],
      "text/plain": [
       "                   A         B         C         D\n",
       "2013-01-01 -0.700111  0.873755 -0.084570  1.681606\n",
       "2013-01-02 -0.574513  0.454286  0.011059  2.266692\n",
       "2013-01-03 -1.988976  0.373714 -0.946753 -0.782646\n",
       "2013-01-04  1.338778 -0.689426  1.073727  1.700768\n",
       "2013-01-05  0.503490 -0.479664 -2.795350  0.321425"
      ]
     },
     "execution_count": 12,
     "metadata": {},
     "output_type": "execute_result"
    }
   ],
   "source": [
    "df.head() # 默认前5行数据"
   ]
  },
  {
   "cell_type": "code",
   "execution_count": 13,
   "id": "37fe913f",
   "metadata": {},
   "outputs": [
    {
     "data": {
      "text/html": [
       "<div>\n",
       "<style scoped>\n",
       "    .dataframe tbody tr th:only-of-type {\n",
       "        vertical-align: middle;\n",
       "    }\n",
       "\n",
       "    .dataframe tbody tr th {\n",
       "        vertical-align: top;\n",
       "    }\n",
       "\n",
       "    .dataframe thead th {\n",
       "        text-align: right;\n",
       "    }\n",
       "</style>\n",
       "<table border=\"1\" class=\"dataframe\">\n",
       "  <thead>\n",
       "    <tr style=\"text-align: right;\">\n",
       "      <th></th>\n",
       "      <th>A</th>\n",
       "      <th>B</th>\n",
       "      <th>C</th>\n",
       "      <th>D</th>\n",
       "    </tr>\n",
       "  </thead>\n",
       "  <tbody>\n",
       "    <tr>\n",
       "      <th>2013-01-01</th>\n",
       "      <td>-0.700111</td>\n",
       "      <td>0.873755</td>\n",
       "      <td>-0.084570</td>\n",
       "      <td>1.681606</td>\n",
       "    </tr>\n",
       "    <tr>\n",
       "      <th>2013-01-02</th>\n",
       "      <td>-0.574513</td>\n",
       "      <td>0.454286</td>\n",
       "      <td>0.011059</td>\n",
       "      <td>2.266692</td>\n",
       "    </tr>\n",
       "    <tr>\n",
       "      <th>2013-01-03</th>\n",
       "      <td>-1.988976</td>\n",
       "      <td>0.373714</td>\n",
       "      <td>-0.946753</td>\n",
       "      <td>-0.782646</td>\n",
       "    </tr>\n",
       "  </tbody>\n",
       "</table>\n",
       "</div>"
      ],
      "text/plain": [
       "                   A         B         C         D\n",
       "2013-01-01 -0.700111  0.873755 -0.084570  1.681606\n",
       "2013-01-02 -0.574513  0.454286  0.011059  2.266692\n",
       "2013-01-03 -1.988976  0.373714 -0.946753 -0.782646"
      ]
     },
     "execution_count": 13,
     "metadata": {},
     "output_type": "execute_result"
    }
   ],
   "source": [
    "df.head(3) # 指定显示前行数"
   ]
  },
  {
   "cell_type": "code",
   "execution_count": 14,
   "id": "1ab71180",
   "metadata": {},
   "outputs": [
    {
     "data": {
      "text/html": [
       "<div>\n",
       "<style scoped>\n",
       "    .dataframe tbody tr th:only-of-type {\n",
       "        vertical-align: middle;\n",
       "    }\n",
       "\n",
       "    .dataframe tbody tr th {\n",
       "        vertical-align: top;\n",
       "    }\n",
       "\n",
       "    .dataframe thead th {\n",
       "        text-align: right;\n",
       "    }\n",
       "</style>\n",
       "<table border=\"1\" class=\"dataframe\">\n",
       "  <thead>\n",
       "    <tr style=\"text-align: right;\">\n",
       "      <th></th>\n",
       "      <th>A</th>\n",
       "      <th>B</th>\n",
       "      <th>C</th>\n",
       "      <th>D</th>\n",
       "    </tr>\n",
       "  </thead>\n",
       "  <tbody>\n",
       "    <tr>\n",
       "      <th>2013-01-02</th>\n",
       "      <td>-0.574513</td>\n",
       "      <td>0.454286</td>\n",
       "      <td>0.011059</td>\n",
       "      <td>2.266692</td>\n",
       "    </tr>\n",
       "    <tr>\n",
       "      <th>2013-01-03</th>\n",
       "      <td>-1.988976</td>\n",
       "      <td>0.373714</td>\n",
       "      <td>-0.946753</td>\n",
       "      <td>-0.782646</td>\n",
       "    </tr>\n",
       "    <tr>\n",
       "      <th>2013-01-04</th>\n",
       "      <td>1.338778</td>\n",
       "      <td>-0.689426</td>\n",
       "      <td>1.073727</td>\n",
       "      <td>1.700768</td>\n",
       "    </tr>\n",
       "    <tr>\n",
       "      <th>2013-01-05</th>\n",
       "      <td>0.503490</td>\n",
       "      <td>-0.479664</td>\n",
       "      <td>-2.795350</td>\n",
       "      <td>0.321425</td>\n",
       "    </tr>\n",
       "    <tr>\n",
       "      <th>2013-01-06</th>\n",
       "      <td>0.862433</td>\n",
       "      <td>-1.271988</td>\n",
       "      <td>-1.981780</td>\n",
       "      <td>0.916643</td>\n",
       "    </tr>\n",
       "  </tbody>\n",
       "</table>\n",
       "</div>"
      ],
      "text/plain": [
       "                   A         B         C         D\n",
       "2013-01-02 -0.574513  0.454286  0.011059  2.266692\n",
       "2013-01-03 -1.988976  0.373714 -0.946753 -0.782646\n",
       "2013-01-04  1.338778 -0.689426  1.073727  1.700768\n",
       "2013-01-05  0.503490 -0.479664 -2.795350  0.321425\n",
       "2013-01-06  0.862433 -1.271988 -1.981780  0.916643"
      ]
     },
     "execution_count": 14,
     "metadata": {},
     "output_type": "execute_result"
    }
   ],
   "source": [
    "df.tail() # 默认显示数据最后5行"
   ]
  },
  {
   "cell_type": "code",
   "execution_count": 15,
   "id": "6d3b455d",
   "metadata": {},
   "outputs": [
    {
     "data": {
      "text/html": [
       "<div>\n",
       "<style scoped>\n",
       "    .dataframe tbody tr th:only-of-type {\n",
       "        vertical-align: middle;\n",
       "    }\n",
       "\n",
       "    .dataframe tbody tr th {\n",
       "        vertical-align: top;\n",
       "    }\n",
       "\n",
       "    .dataframe thead th {\n",
       "        text-align: right;\n",
       "    }\n",
       "</style>\n",
       "<table border=\"1\" class=\"dataframe\">\n",
       "  <thead>\n",
       "    <tr style=\"text-align: right;\">\n",
       "      <th></th>\n",
       "      <th>A</th>\n",
       "      <th>B</th>\n",
       "      <th>C</th>\n",
       "      <th>D</th>\n",
       "    </tr>\n",
       "  </thead>\n",
       "  <tbody>\n",
       "    <tr>\n",
       "      <th>2013-01-04</th>\n",
       "      <td>1.338778</td>\n",
       "      <td>-0.689426</td>\n",
       "      <td>1.073727</td>\n",
       "      <td>1.700768</td>\n",
       "    </tr>\n",
       "    <tr>\n",
       "      <th>2013-01-05</th>\n",
       "      <td>0.503490</td>\n",
       "      <td>-0.479664</td>\n",
       "      <td>-2.795350</td>\n",
       "      <td>0.321425</td>\n",
       "    </tr>\n",
       "    <tr>\n",
       "      <th>2013-01-06</th>\n",
       "      <td>0.862433</td>\n",
       "      <td>-1.271988</td>\n",
       "      <td>-1.981780</td>\n",
       "      <td>0.916643</td>\n",
       "    </tr>\n",
       "  </tbody>\n",
       "</table>\n",
       "</div>"
      ],
      "text/plain": [
       "                   A         B         C         D\n",
       "2013-01-04  1.338778 -0.689426  1.073727  1.700768\n",
       "2013-01-05  0.503490 -0.479664 -2.795350  0.321425\n",
       "2013-01-06  0.862433 -1.271988 -1.981780  0.916643"
      ]
     },
     "execution_count": 15,
     "metadata": {},
     "output_type": "execute_result"
    }
   ],
   "source": [
    "df.tail(3) # 指定显示后3行"
   ]
  },
  {
   "cell_type": "code",
   "execution_count": 16,
   "id": "686f380b",
   "metadata": {},
   "outputs": [
    {
     "data": {
      "text/plain": [
       "DatetimeIndex(['2013-01-01', '2013-01-02', '2013-01-03', '2013-01-04',\n",
       "               '2013-01-05', '2013-01-06'],\n",
       "              dtype='datetime64[ns]', freq='D')"
      ]
     },
     "execution_count": 16,
     "metadata": {},
     "output_type": "execute_result"
    }
   ],
   "source": [
    "df.index # 查看数据索引"
   ]
  },
  {
   "cell_type": "code",
   "execution_count": 17,
   "id": "8b3f6aa8",
   "metadata": {},
   "outputs": [
    {
     "data": {
      "text/plain": [
       "Index(['A', 'B', 'C', 'D'], dtype='object')"
      ]
     },
     "execution_count": 17,
     "metadata": {},
     "output_type": "execute_result"
    }
   ],
   "source": [
    "df.columns # 查看数据列名"
   ]
  },
  {
   "cell_type": "markdown",
   "id": "a4ff230a",
   "metadata": {},
   "source": [
    "### 7、将DataFrame数据类型转化为numpy array数组"
   ]
  },
  {
   "cell_type": "code",
   "execution_count": 18,
   "id": "f16a1c0d",
   "metadata": {},
   "outputs": [
    {
     "data": {
      "text/plain": [
       "array([[-0.70011053,  0.87375485, -0.08456999,  1.68160558],\n",
       "       [-0.57451328,  0.45428611,  0.01105858,  2.26669161],\n",
       "       [-1.98897601,  0.3737144 , -0.94675313, -0.7826456 ],\n",
       "       [ 1.3387779 , -0.68942583,  1.07372655,  1.70076828],\n",
       "       [ 0.50348995, -0.47966407, -2.79534993,  0.32142462],\n",
       "       [ 0.86243258, -1.27198756, -1.98177952,  0.91664347]])"
      ]
     },
     "execution_count": 18,
     "metadata": {},
     "output_type": "execute_result"
    }
   ],
   "source": [
    "df.to_numpy() # 纯浮点数类型转化速度较快，多数据类型转化速度慢"
   ]
  },
  {
   "cell_type": "markdown",
   "id": "5fafbe5a",
   "metadata": {},
   "source": [
    "### 8、DataFrame快速统计数据"
   ]
  },
  {
   "cell_type": "code",
   "execution_count": 19,
   "id": "01e55758",
   "metadata": {},
   "outputs": [
    {
     "data": {
      "text/html": [
       "<div>\n",
       "<style scoped>\n",
       "    .dataframe tbody tr th:only-of-type {\n",
       "        vertical-align: middle;\n",
       "    }\n",
       "\n",
       "    .dataframe tbody tr th {\n",
       "        vertical-align: top;\n",
       "    }\n",
       "\n",
       "    .dataframe thead th {\n",
       "        text-align: right;\n",
       "    }\n",
       "</style>\n",
       "<table border=\"1\" class=\"dataframe\">\n",
       "  <thead>\n",
       "    <tr style=\"text-align: right;\">\n",
       "      <th></th>\n",
       "      <th>A</th>\n",
       "      <th>B</th>\n",
       "      <th>C</th>\n",
       "      <th>D</th>\n",
       "    </tr>\n",
       "  </thead>\n",
       "  <tbody>\n",
       "    <tr>\n",
       "      <th>count</th>\n",
       "      <td>6.000000</td>\n",
       "      <td>6.000000</td>\n",
       "      <td>6.000000</td>\n",
       "      <td>6.000000</td>\n",
       "    </tr>\n",
       "    <tr>\n",
       "      <th>mean</th>\n",
       "      <td>-0.093150</td>\n",
       "      <td>-0.123220</td>\n",
       "      <td>-0.787278</td>\n",
       "      <td>1.017415</td>\n",
       "    </tr>\n",
       "    <tr>\n",
       "      <th>std</th>\n",
       "      <td>1.225871</td>\n",
       "      <td>0.817524</td>\n",
       "      <td>1.419796</td>\n",
       "      <td>1.113875</td>\n",
       "    </tr>\n",
       "    <tr>\n",
       "      <th>min</th>\n",
       "      <td>-1.988976</td>\n",
       "      <td>-1.271988</td>\n",
       "      <td>-2.795350</td>\n",
       "      <td>-0.782646</td>\n",
       "    </tr>\n",
       "    <tr>\n",
       "      <th>25%</th>\n",
       "      <td>-0.668711</td>\n",
       "      <td>-0.636985</td>\n",
       "      <td>-1.723023</td>\n",
       "      <td>0.470229</td>\n",
       "    </tr>\n",
       "    <tr>\n",
       "      <th>50%</th>\n",
       "      <td>-0.035512</td>\n",
       "      <td>-0.052975</td>\n",
       "      <td>-0.515662</td>\n",
       "      <td>1.299125</td>\n",
       "    </tr>\n",
       "    <tr>\n",
       "      <th>75%</th>\n",
       "      <td>0.772697</td>\n",
       "      <td>0.434143</td>\n",
       "      <td>-0.012849</td>\n",
       "      <td>1.695978</td>\n",
       "    </tr>\n",
       "    <tr>\n",
       "      <th>max</th>\n",
       "      <td>1.338778</td>\n",
       "      <td>0.873755</td>\n",
       "      <td>1.073727</td>\n",
       "      <td>2.266692</td>\n",
       "    </tr>\n",
       "  </tbody>\n",
       "</table>\n",
       "</div>"
      ],
      "text/plain": [
       "              A         B         C         D\n",
       "count  6.000000  6.000000  6.000000  6.000000\n",
       "mean  -0.093150 -0.123220 -0.787278  1.017415\n",
       "std    1.225871  0.817524  1.419796  1.113875\n",
       "min   -1.988976 -1.271988 -2.795350 -0.782646\n",
       "25%   -0.668711 -0.636985 -1.723023  0.470229\n",
       "50%   -0.035512 -0.052975 -0.515662  1.299125\n",
       "75%    0.772697  0.434143 -0.012849  1.695978\n",
       "max    1.338778  0.873755  1.073727  2.266692"
      ]
     },
     "execution_count": 19,
     "metadata": {},
     "output_type": "execute_result"
    }
   ],
   "source": [
    "df.describe()"
   ]
  },
  {
   "cell_type": "markdown",
   "id": "99a6fd8f",
   "metadata": {},
   "source": [
    "### 9、将索引与列名的位置互换"
   ]
  },
  {
   "cell_type": "code",
   "execution_count": 20,
   "id": "0d9c1fd6",
   "metadata": {},
   "outputs": [
    {
     "data": {
      "text/html": [
       "<div>\n",
       "<style scoped>\n",
       "    .dataframe tbody tr th:only-of-type {\n",
       "        vertical-align: middle;\n",
       "    }\n",
       "\n",
       "    .dataframe tbody tr th {\n",
       "        vertical-align: top;\n",
       "    }\n",
       "\n",
       "    .dataframe thead th {\n",
       "        text-align: right;\n",
       "    }\n",
       "</style>\n",
       "<table border=\"1\" class=\"dataframe\">\n",
       "  <thead>\n",
       "    <tr style=\"text-align: right;\">\n",
       "      <th></th>\n",
       "      <th>A</th>\n",
       "      <th>B</th>\n",
       "      <th>C</th>\n",
       "      <th>D</th>\n",
       "    </tr>\n",
       "  </thead>\n",
       "  <tbody>\n",
       "    <tr>\n",
       "      <th>2013-01-01</th>\n",
       "      <td>-0.700111</td>\n",
       "      <td>0.873755</td>\n",
       "      <td>-0.084570</td>\n",
       "      <td>1.681606</td>\n",
       "    </tr>\n",
       "    <tr>\n",
       "      <th>2013-01-02</th>\n",
       "      <td>-0.574513</td>\n",
       "      <td>0.454286</td>\n",
       "      <td>0.011059</td>\n",
       "      <td>2.266692</td>\n",
       "    </tr>\n",
       "    <tr>\n",
       "      <th>2013-01-03</th>\n",
       "      <td>-1.988976</td>\n",
       "      <td>0.373714</td>\n",
       "      <td>-0.946753</td>\n",
       "      <td>-0.782646</td>\n",
       "    </tr>\n",
       "    <tr>\n",
       "      <th>2013-01-04</th>\n",
       "      <td>1.338778</td>\n",
       "      <td>-0.689426</td>\n",
       "      <td>1.073727</td>\n",
       "      <td>1.700768</td>\n",
       "    </tr>\n",
       "    <tr>\n",
       "      <th>2013-01-05</th>\n",
       "      <td>0.503490</td>\n",
       "      <td>-0.479664</td>\n",
       "      <td>-2.795350</td>\n",
       "      <td>0.321425</td>\n",
       "    </tr>\n",
       "    <tr>\n",
       "      <th>2013-01-06</th>\n",
       "      <td>0.862433</td>\n",
       "      <td>-1.271988</td>\n",
       "      <td>-1.981780</td>\n",
       "      <td>0.916643</td>\n",
       "    </tr>\n",
       "  </tbody>\n",
       "</table>\n",
       "</div>"
      ],
      "text/plain": [
       "                   A         B         C         D\n",
       "2013-01-01 -0.700111  0.873755 -0.084570  1.681606\n",
       "2013-01-02 -0.574513  0.454286  0.011059  2.266692\n",
       "2013-01-03 -1.988976  0.373714 -0.946753 -0.782646\n",
       "2013-01-04  1.338778 -0.689426  1.073727  1.700768\n",
       "2013-01-05  0.503490 -0.479664 -2.795350  0.321425\n",
       "2013-01-06  0.862433 -1.271988 -1.981780  0.916643"
      ]
     },
     "execution_count": 20,
     "metadata": {},
     "output_type": "execute_result"
    }
   ],
   "source": [
    "df"
   ]
  },
  {
   "cell_type": "code",
   "execution_count": 21,
   "id": "cbc803c4",
   "metadata": {},
   "outputs": [
    {
     "data": {
      "text/html": [
       "<div>\n",
       "<style scoped>\n",
       "    .dataframe tbody tr th:only-of-type {\n",
       "        vertical-align: middle;\n",
       "    }\n",
       "\n",
       "    .dataframe tbody tr th {\n",
       "        vertical-align: top;\n",
       "    }\n",
       "\n",
       "    .dataframe thead th {\n",
       "        text-align: right;\n",
       "    }\n",
       "</style>\n",
       "<table border=\"1\" class=\"dataframe\">\n",
       "  <thead>\n",
       "    <tr style=\"text-align: right;\">\n",
       "      <th></th>\n",
       "      <th>2013-01-01</th>\n",
       "      <th>2013-01-02</th>\n",
       "      <th>2013-01-03</th>\n",
       "      <th>2013-01-04</th>\n",
       "      <th>2013-01-05</th>\n",
       "      <th>2013-01-06</th>\n",
       "    </tr>\n",
       "  </thead>\n",
       "  <tbody>\n",
       "    <tr>\n",
       "      <th>A</th>\n",
       "      <td>-0.700111</td>\n",
       "      <td>-0.574513</td>\n",
       "      <td>-1.988976</td>\n",
       "      <td>1.338778</td>\n",
       "      <td>0.503490</td>\n",
       "      <td>0.862433</td>\n",
       "    </tr>\n",
       "    <tr>\n",
       "      <th>B</th>\n",
       "      <td>0.873755</td>\n",
       "      <td>0.454286</td>\n",
       "      <td>0.373714</td>\n",
       "      <td>-0.689426</td>\n",
       "      <td>-0.479664</td>\n",
       "      <td>-1.271988</td>\n",
       "    </tr>\n",
       "    <tr>\n",
       "      <th>C</th>\n",
       "      <td>-0.084570</td>\n",
       "      <td>0.011059</td>\n",
       "      <td>-0.946753</td>\n",
       "      <td>1.073727</td>\n",
       "      <td>-2.795350</td>\n",
       "      <td>-1.981780</td>\n",
       "    </tr>\n",
       "    <tr>\n",
       "      <th>D</th>\n",
       "      <td>1.681606</td>\n",
       "      <td>2.266692</td>\n",
       "      <td>-0.782646</td>\n",
       "      <td>1.700768</td>\n",
       "      <td>0.321425</td>\n",
       "      <td>0.916643</td>\n",
       "    </tr>\n",
       "  </tbody>\n",
       "</table>\n",
       "</div>"
      ],
      "text/plain": [
       "   2013-01-01  2013-01-02  2013-01-03  2013-01-04  2013-01-05  2013-01-06\n",
       "A   -0.700111   -0.574513   -1.988976    1.338778    0.503490    0.862433\n",
       "B    0.873755    0.454286    0.373714   -0.689426   -0.479664   -1.271988\n",
       "C   -0.084570    0.011059   -0.946753    1.073727   -2.795350   -1.981780\n",
       "D    1.681606    2.266692   -0.782646    1.700768    0.321425    0.916643"
      ]
     },
     "execution_count": 21,
     "metadata": {},
     "output_type": "execute_result"
    }
   ],
   "source": [
    "df.T # Transposing"
   ]
  },
  {
   "cell_type": "markdown",
   "id": "f58e463e",
   "metadata": {},
   "source": [
    "### 10、数据根据规则排序"
   ]
  },
  {
   "cell_type": "code",
   "execution_count": 30,
   "id": "e0060a37",
   "metadata": {},
   "outputs": [
    {
     "data": {
      "text/html": [
       "<div>\n",
       "<style scoped>\n",
       "    .dataframe tbody tr th:only-of-type {\n",
       "        vertical-align: middle;\n",
       "    }\n",
       "\n",
       "    .dataframe tbody tr th {\n",
       "        vertical-align: top;\n",
       "    }\n",
       "\n",
       "    .dataframe thead th {\n",
       "        text-align: right;\n",
       "    }\n",
       "</style>\n",
       "<table border=\"1\" class=\"dataframe\">\n",
       "  <thead>\n",
       "    <tr style=\"text-align: right;\">\n",
       "      <th></th>\n",
       "      <th>D</th>\n",
       "      <th>C</th>\n",
       "      <th>B</th>\n",
       "      <th>A</th>\n",
       "    </tr>\n",
       "  </thead>\n",
       "  <tbody>\n",
       "    <tr>\n",
       "      <th>2013-01-01</th>\n",
       "      <td>1.681606</td>\n",
       "      <td>-0.084570</td>\n",
       "      <td>0.873755</td>\n",
       "      <td>-0.700111</td>\n",
       "    </tr>\n",
       "    <tr>\n",
       "      <th>2013-01-02</th>\n",
       "      <td>2.266692</td>\n",
       "      <td>0.011059</td>\n",
       "      <td>0.454286</td>\n",
       "      <td>-0.574513</td>\n",
       "    </tr>\n",
       "    <tr>\n",
       "      <th>2013-01-03</th>\n",
       "      <td>-0.782646</td>\n",
       "      <td>-0.946753</td>\n",
       "      <td>0.373714</td>\n",
       "      <td>-1.988976</td>\n",
       "    </tr>\n",
       "    <tr>\n",
       "      <th>2013-01-04</th>\n",
       "      <td>1.700768</td>\n",
       "      <td>1.073727</td>\n",
       "      <td>-0.689426</td>\n",
       "      <td>1.338778</td>\n",
       "    </tr>\n",
       "    <tr>\n",
       "      <th>2013-01-05</th>\n",
       "      <td>0.321425</td>\n",
       "      <td>-2.795350</td>\n",
       "      <td>-0.479664</td>\n",
       "      <td>0.503490</td>\n",
       "    </tr>\n",
       "    <tr>\n",
       "      <th>2013-01-06</th>\n",
       "      <td>0.916643</td>\n",
       "      <td>-1.981780</td>\n",
       "      <td>-1.271988</td>\n",
       "      <td>0.862433</td>\n",
       "    </tr>\n",
       "  </tbody>\n",
       "</table>\n",
       "</div>"
      ],
      "text/plain": [
       "                   D         C         B         A\n",
       "2013-01-01  1.681606 -0.084570  0.873755 -0.700111\n",
       "2013-01-02  2.266692  0.011059  0.454286 -0.574513\n",
       "2013-01-03 -0.782646 -0.946753  0.373714 -1.988976\n",
       "2013-01-04  1.700768  1.073727 -0.689426  1.338778\n",
       "2013-01-05  0.321425 -2.795350 -0.479664  0.503490\n",
       "2013-01-06  0.916643 -1.981780 -1.271988  0.862433"
      ]
     },
     "execution_count": 30,
     "metadata": {},
     "output_type": "execute_result"
    }
   ],
   "source": [
    "# 根据axis=1（列名）排序\n",
    "df.sort_index(axis=1, ascending=False) "
   ]
  },
  {
   "cell_type": "code",
   "execution_count": 32,
   "id": "f79ab5a8",
   "metadata": {},
   "outputs": [
    {
     "data": {
      "text/html": [
       "<div>\n",
       "<style scoped>\n",
       "    .dataframe tbody tr th:only-of-type {\n",
       "        vertical-align: middle;\n",
       "    }\n",
       "\n",
       "    .dataframe tbody tr th {\n",
       "        vertical-align: top;\n",
       "    }\n",
       "\n",
       "    .dataframe thead th {\n",
       "        text-align: right;\n",
       "    }\n",
       "</style>\n",
       "<table border=\"1\" class=\"dataframe\">\n",
       "  <thead>\n",
       "    <tr style=\"text-align: right;\">\n",
       "      <th></th>\n",
       "      <th>A</th>\n",
       "      <th>B</th>\n",
       "      <th>C</th>\n",
       "      <th>D</th>\n",
       "    </tr>\n",
       "  </thead>\n",
       "  <tbody>\n",
       "    <tr>\n",
       "      <th>2013-01-06</th>\n",
       "      <td>0.862433</td>\n",
       "      <td>-1.271988</td>\n",
       "      <td>-1.981780</td>\n",
       "      <td>0.916643</td>\n",
       "    </tr>\n",
       "    <tr>\n",
       "      <th>2013-01-05</th>\n",
       "      <td>0.503490</td>\n",
       "      <td>-0.479664</td>\n",
       "      <td>-2.795350</td>\n",
       "      <td>0.321425</td>\n",
       "    </tr>\n",
       "    <tr>\n",
       "      <th>2013-01-04</th>\n",
       "      <td>1.338778</td>\n",
       "      <td>-0.689426</td>\n",
       "      <td>1.073727</td>\n",
       "      <td>1.700768</td>\n",
       "    </tr>\n",
       "    <tr>\n",
       "      <th>2013-01-03</th>\n",
       "      <td>-1.988976</td>\n",
       "      <td>0.373714</td>\n",
       "      <td>-0.946753</td>\n",
       "      <td>-0.782646</td>\n",
       "    </tr>\n",
       "    <tr>\n",
       "      <th>2013-01-02</th>\n",
       "      <td>-0.574513</td>\n",
       "      <td>0.454286</td>\n",
       "      <td>0.011059</td>\n",
       "      <td>2.266692</td>\n",
       "    </tr>\n",
       "    <tr>\n",
       "      <th>2013-01-01</th>\n",
       "      <td>-0.700111</td>\n",
       "      <td>0.873755</td>\n",
       "      <td>-0.084570</td>\n",
       "      <td>1.681606</td>\n",
       "    </tr>\n",
       "  </tbody>\n",
       "</table>\n",
       "</div>"
      ],
      "text/plain": [
       "                   A         B         C         D\n",
       "2013-01-06  0.862433 -1.271988 -1.981780  0.916643\n",
       "2013-01-05  0.503490 -0.479664 -2.795350  0.321425\n",
       "2013-01-04  1.338778 -0.689426  1.073727  1.700768\n",
       "2013-01-03 -1.988976  0.373714 -0.946753 -0.782646\n",
       "2013-01-02 -0.574513  0.454286  0.011059  2.266692\n",
       "2013-01-01 -0.700111  0.873755 -0.084570  1.681606"
      ]
     },
     "execution_count": 32,
     "metadata": {},
     "output_type": "execute_result"
    }
   ],
   "source": [
    "# 根据axis=0（索引）排序\n",
    "df.sort_index(axis=0, ascending=False)"
   ]
  },
  {
   "cell_type": "code",
   "execution_count": 33,
   "id": "ab83dc9a",
   "metadata": {},
   "outputs": [
    {
     "data": {
      "text/html": [
       "<div>\n",
       "<style scoped>\n",
       "    .dataframe tbody tr th:only-of-type {\n",
       "        vertical-align: middle;\n",
       "    }\n",
       "\n",
       "    .dataframe tbody tr th {\n",
       "        vertical-align: top;\n",
       "    }\n",
       "\n",
       "    .dataframe thead th {\n",
       "        text-align: right;\n",
       "    }\n",
       "</style>\n",
       "<table border=\"1\" class=\"dataframe\">\n",
       "  <thead>\n",
       "    <tr style=\"text-align: right;\">\n",
       "      <th></th>\n",
       "      <th>A</th>\n",
       "      <th>B</th>\n",
       "      <th>C</th>\n",
       "      <th>D</th>\n",
       "    </tr>\n",
       "  </thead>\n",
       "  <tbody>\n",
       "    <tr>\n",
       "      <th>2013-01-03</th>\n",
       "      <td>-1.988976</td>\n",
       "      <td>0.373714</td>\n",
       "      <td>-0.946753</td>\n",
       "      <td>-0.782646</td>\n",
       "    </tr>\n",
       "    <tr>\n",
       "      <th>2013-01-01</th>\n",
       "      <td>-0.700111</td>\n",
       "      <td>0.873755</td>\n",
       "      <td>-0.084570</td>\n",
       "      <td>1.681606</td>\n",
       "    </tr>\n",
       "    <tr>\n",
       "      <th>2013-01-02</th>\n",
       "      <td>-0.574513</td>\n",
       "      <td>0.454286</td>\n",
       "      <td>0.011059</td>\n",
       "      <td>2.266692</td>\n",
       "    </tr>\n",
       "    <tr>\n",
       "      <th>2013-01-05</th>\n",
       "      <td>0.503490</td>\n",
       "      <td>-0.479664</td>\n",
       "      <td>-2.795350</td>\n",
       "      <td>0.321425</td>\n",
       "    </tr>\n",
       "    <tr>\n",
       "      <th>2013-01-06</th>\n",
       "      <td>0.862433</td>\n",
       "      <td>-1.271988</td>\n",
       "      <td>-1.981780</td>\n",
       "      <td>0.916643</td>\n",
       "    </tr>\n",
       "    <tr>\n",
       "      <th>2013-01-04</th>\n",
       "      <td>1.338778</td>\n",
       "      <td>-0.689426</td>\n",
       "      <td>1.073727</td>\n",
       "      <td>1.700768</td>\n",
       "    </tr>\n",
       "  </tbody>\n",
       "</table>\n",
       "</div>"
      ],
      "text/plain": [
       "                   A         B         C         D\n",
       "2013-01-03 -1.988976  0.373714 -0.946753 -0.782646\n",
       "2013-01-01 -0.700111  0.873755 -0.084570  1.681606\n",
       "2013-01-02 -0.574513  0.454286  0.011059  2.266692\n",
       "2013-01-05  0.503490 -0.479664 -2.795350  0.321425\n",
       "2013-01-06  0.862433 -1.271988 -1.981780  0.916643\n",
       "2013-01-04  1.338778 -0.689426  1.073727  1.700768"
      ]
     },
     "execution_count": 33,
     "metadata": {},
     "output_type": "execute_result"
    }
   ],
   "source": [
    "# 指定列的值进行排序，默认升序排列\n",
    "df.sort_values(by=\"A\")"
   ]
  },
  {
   "cell_type": "code",
   "execution_count": 35,
   "id": "e48316b7",
   "metadata": {},
   "outputs": [
    {
     "data": {
      "text/html": [
       "<div>\n",
       "<style scoped>\n",
       "    .dataframe tbody tr th:only-of-type {\n",
       "        vertical-align: middle;\n",
       "    }\n",
       "\n",
       "    .dataframe tbody tr th {\n",
       "        vertical-align: top;\n",
       "    }\n",
       "\n",
       "    .dataframe thead th {\n",
       "        text-align: right;\n",
       "    }\n",
       "</style>\n",
       "<table border=\"1\" class=\"dataframe\">\n",
       "  <thead>\n",
       "    <tr style=\"text-align: right;\">\n",
       "      <th></th>\n",
       "      <th>A</th>\n",
       "      <th>B</th>\n",
       "      <th>C</th>\n",
       "      <th>D</th>\n",
       "    </tr>\n",
       "  </thead>\n",
       "  <tbody>\n",
       "    <tr>\n",
       "      <th>2013-01-04</th>\n",
       "      <td>1.338778</td>\n",
       "      <td>-0.689426</td>\n",
       "      <td>1.073727</td>\n",
       "      <td>1.700768</td>\n",
       "    </tr>\n",
       "    <tr>\n",
       "      <th>2013-01-06</th>\n",
       "      <td>0.862433</td>\n",
       "      <td>-1.271988</td>\n",
       "      <td>-1.981780</td>\n",
       "      <td>0.916643</td>\n",
       "    </tr>\n",
       "    <tr>\n",
       "      <th>2013-01-05</th>\n",
       "      <td>0.503490</td>\n",
       "      <td>-0.479664</td>\n",
       "      <td>-2.795350</td>\n",
       "      <td>0.321425</td>\n",
       "    </tr>\n",
       "    <tr>\n",
       "      <th>2013-01-02</th>\n",
       "      <td>-0.574513</td>\n",
       "      <td>0.454286</td>\n",
       "      <td>0.011059</td>\n",
       "      <td>2.266692</td>\n",
       "    </tr>\n",
       "    <tr>\n",
       "      <th>2013-01-01</th>\n",
       "      <td>-0.700111</td>\n",
       "      <td>0.873755</td>\n",
       "      <td>-0.084570</td>\n",
       "      <td>1.681606</td>\n",
       "    </tr>\n",
       "    <tr>\n",
       "      <th>2013-01-03</th>\n",
       "      <td>-1.988976</td>\n",
       "      <td>0.373714</td>\n",
       "      <td>-0.946753</td>\n",
       "      <td>-0.782646</td>\n",
       "    </tr>\n",
       "  </tbody>\n",
       "</table>\n",
       "</div>"
      ],
      "text/plain": [
       "                   A         B         C         D\n",
       "2013-01-04  1.338778 -0.689426  1.073727  1.700768\n",
       "2013-01-06  0.862433 -1.271988 -1.981780  0.916643\n",
       "2013-01-05  0.503490 -0.479664 -2.795350  0.321425\n",
       "2013-01-02 -0.574513  0.454286  0.011059  2.266692\n",
       "2013-01-01 -0.700111  0.873755 -0.084570  1.681606\n",
       "2013-01-03 -1.988976  0.373714 -0.946753 -0.782646"
      ]
     },
     "execution_count": 35,
     "metadata": {},
     "output_type": "execute_result"
    }
   ],
   "source": [
    "# 指定列的值进行排序\n",
    "df.sort_values(by=\"A\", ascending=False)"
   ]
  },
  {
   "cell_type": "markdown",
   "id": "eb1a6700",
   "metadata": {},
   "source": [
    "### 11、数据的选择"
   ]
  },
  {
   "cell_type": "markdown",
   "id": "47d85f00",
   "metadata": {},
   "source": [
    "### 12、获取指定列数据"
   ]
  },
  {
   "cell_type": "code",
   "execution_count": 38,
   "id": "324bb583",
   "metadata": {},
   "outputs": [
    {
     "data": {
      "text/html": [
       "<div>\n",
       "<style scoped>\n",
       "    .dataframe tbody tr th:only-of-type {\n",
       "        vertical-align: middle;\n",
       "    }\n",
       "\n",
       "    .dataframe tbody tr th {\n",
       "        vertical-align: top;\n",
       "    }\n",
       "\n",
       "    .dataframe thead th {\n",
       "        text-align: right;\n",
       "    }\n",
       "</style>\n",
       "<table border=\"1\" class=\"dataframe\">\n",
       "  <thead>\n",
       "    <tr style=\"text-align: right;\">\n",
       "      <th></th>\n",
       "      <th>A</th>\n",
       "      <th>B</th>\n",
       "      <th>C</th>\n",
       "      <th>D</th>\n",
       "    </tr>\n",
       "  </thead>\n",
       "  <tbody>\n",
       "    <tr>\n",
       "      <th>2013-01-01</th>\n",
       "      <td>-0.700111</td>\n",
       "      <td>0.873755</td>\n",
       "      <td>-0.084570</td>\n",
       "      <td>1.681606</td>\n",
       "    </tr>\n",
       "    <tr>\n",
       "      <th>2013-01-02</th>\n",
       "      <td>-0.574513</td>\n",
       "      <td>0.454286</td>\n",
       "      <td>0.011059</td>\n",
       "      <td>2.266692</td>\n",
       "    </tr>\n",
       "    <tr>\n",
       "      <th>2013-01-03</th>\n",
       "      <td>-1.988976</td>\n",
       "      <td>0.373714</td>\n",
       "      <td>-0.946753</td>\n",
       "      <td>-0.782646</td>\n",
       "    </tr>\n",
       "    <tr>\n",
       "      <th>2013-01-04</th>\n",
       "      <td>1.338778</td>\n",
       "      <td>-0.689426</td>\n",
       "      <td>1.073727</td>\n",
       "      <td>1.700768</td>\n",
       "    </tr>\n",
       "    <tr>\n",
       "      <th>2013-01-05</th>\n",
       "      <td>0.503490</td>\n",
       "      <td>-0.479664</td>\n",
       "      <td>-2.795350</td>\n",
       "      <td>0.321425</td>\n",
       "    </tr>\n",
       "    <tr>\n",
       "      <th>2013-01-06</th>\n",
       "      <td>0.862433</td>\n",
       "      <td>-1.271988</td>\n",
       "      <td>-1.981780</td>\n",
       "      <td>0.916643</td>\n",
       "    </tr>\n",
       "  </tbody>\n",
       "</table>\n",
       "</div>"
      ],
      "text/plain": [
       "                   A         B         C         D\n",
       "2013-01-01 -0.700111  0.873755 -0.084570  1.681606\n",
       "2013-01-02 -0.574513  0.454286  0.011059  2.266692\n",
       "2013-01-03 -1.988976  0.373714 -0.946753 -0.782646\n",
       "2013-01-04  1.338778 -0.689426  1.073727  1.700768\n",
       "2013-01-05  0.503490 -0.479664 -2.795350  0.321425\n",
       "2013-01-06  0.862433 -1.271988 -1.981780  0.916643"
      ]
     },
     "execution_count": 38,
     "metadata": {},
     "output_type": "execute_result"
    }
   ],
   "source": [
    "df"
   ]
  },
  {
   "cell_type": "code",
   "execution_count": 36,
   "id": "9e9c81d8",
   "metadata": {},
   "outputs": [
    {
     "data": {
      "text/plain": [
       "2013-01-01   -0.700111\n",
       "2013-01-02   -0.574513\n",
       "2013-01-03   -1.988976\n",
       "2013-01-04    1.338778\n",
       "2013-01-05    0.503490\n",
       "2013-01-06    0.862433\n",
       "Freq: D, Name: A, dtype: float64"
      ]
     },
     "execution_count": 36,
     "metadata": {},
     "output_type": "execute_result"
    }
   ],
   "source": [
    "df[\"A\"]"
   ]
  },
  {
   "cell_type": "code",
   "execution_count": 37,
   "id": "a2109839",
   "metadata": {},
   "outputs": [
    {
     "data": {
      "text/plain": [
       "2013-01-01   -0.700111\n",
       "2013-01-02   -0.574513\n",
       "2013-01-03   -1.988976\n",
       "2013-01-04    1.338778\n",
       "2013-01-05    0.503490\n",
       "2013-01-06    0.862433\n",
       "Freq: D, Name: A, dtype: float64"
      ]
     },
     "execution_count": 37,
     "metadata": {},
     "output_type": "execute_result"
    }
   ],
   "source": [
    "df.A"
   ]
  },
  {
   "cell_type": "markdown",
   "id": "ec786afc",
   "metadata": {},
   "source": [
    "### 13、通过切片方式获取指定行数据"
   ]
  },
  {
   "cell_type": "code",
   "execution_count": 42,
   "id": "74fe2fc7",
   "metadata": {},
   "outputs": [
    {
     "data": {
      "text/html": [
       "<div>\n",
       "<style scoped>\n",
       "    .dataframe tbody tr th:only-of-type {\n",
       "        vertical-align: middle;\n",
       "    }\n",
       "\n",
       "    .dataframe tbody tr th {\n",
       "        vertical-align: top;\n",
       "    }\n",
       "\n",
       "    .dataframe thead th {\n",
       "        text-align: right;\n",
       "    }\n",
       "</style>\n",
       "<table border=\"1\" class=\"dataframe\">\n",
       "  <thead>\n",
       "    <tr style=\"text-align: right;\">\n",
       "      <th></th>\n",
       "      <th>A</th>\n",
       "      <th>B</th>\n",
       "      <th>C</th>\n",
       "      <th>D</th>\n",
       "    </tr>\n",
       "  </thead>\n",
       "  <tbody>\n",
       "    <tr>\n",
       "      <th>2013-01-01</th>\n",
       "      <td>-0.700111</td>\n",
       "      <td>0.873755</td>\n",
       "      <td>-0.084570</td>\n",
       "      <td>1.681606</td>\n",
       "    </tr>\n",
       "    <tr>\n",
       "      <th>2013-01-02</th>\n",
       "      <td>-0.574513</td>\n",
       "      <td>0.454286</td>\n",
       "      <td>0.011059</td>\n",
       "      <td>2.266692</td>\n",
       "    </tr>\n",
       "    <tr>\n",
       "      <th>2013-01-03</th>\n",
       "      <td>-1.988976</td>\n",
       "      <td>0.373714</td>\n",
       "      <td>-0.946753</td>\n",
       "      <td>-0.782646</td>\n",
       "    </tr>\n",
       "    <tr>\n",
       "      <th>2013-01-04</th>\n",
       "      <td>1.338778</td>\n",
       "      <td>-0.689426</td>\n",
       "      <td>1.073727</td>\n",
       "      <td>1.700768</td>\n",
       "    </tr>\n",
       "    <tr>\n",
       "      <th>2013-01-05</th>\n",
       "      <td>0.503490</td>\n",
       "      <td>-0.479664</td>\n",
       "      <td>-2.795350</td>\n",
       "      <td>0.321425</td>\n",
       "    </tr>\n",
       "    <tr>\n",
       "      <th>2013-01-06</th>\n",
       "      <td>0.862433</td>\n",
       "      <td>-1.271988</td>\n",
       "      <td>-1.981780</td>\n",
       "      <td>0.916643</td>\n",
       "    </tr>\n",
       "  </tbody>\n",
       "</table>\n",
       "</div>"
      ],
      "text/plain": [
       "                   A         B         C         D\n",
       "2013-01-01 -0.700111  0.873755 -0.084570  1.681606\n",
       "2013-01-02 -0.574513  0.454286  0.011059  2.266692\n",
       "2013-01-03 -1.988976  0.373714 -0.946753 -0.782646\n",
       "2013-01-04  1.338778 -0.689426  1.073727  1.700768\n",
       "2013-01-05  0.503490 -0.479664 -2.795350  0.321425\n",
       "2013-01-06  0.862433 -1.271988 -1.981780  0.916643"
      ]
     },
     "execution_count": 42,
     "metadata": {},
     "output_type": "execute_result"
    }
   ],
   "source": [
    "df"
   ]
  },
  {
   "cell_type": "code",
   "execution_count": 40,
   "id": "03e3a6e8",
   "metadata": {},
   "outputs": [
    {
     "data": {
      "text/html": [
       "<div>\n",
       "<style scoped>\n",
       "    .dataframe tbody tr th:only-of-type {\n",
       "        vertical-align: middle;\n",
       "    }\n",
       "\n",
       "    .dataframe tbody tr th {\n",
       "        vertical-align: top;\n",
       "    }\n",
       "\n",
       "    .dataframe thead th {\n",
       "        text-align: right;\n",
       "    }\n",
       "</style>\n",
       "<table border=\"1\" class=\"dataframe\">\n",
       "  <thead>\n",
       "    <tr style=\"text-align: right;\">\n",
       "      <th></th>\n",
       "      <th>A</th>\n",
       "      <th>B</th>\n",
       "      <th>C</th>\n",
       "      <th>D</th>\n",
       "    </tr>\n",
       "  </thead>\n",
       "  <tbody>\n",
       "    <tr>\n",
       "      <th>2013-01-02</th>\n",
       "      <td>-0.574513</td>\n",
       "      <td>0.454286</td>\n",
       "      <td>0.011059</td>\n",
       "      <td>2.266692</td>\n",
       "    </tr>\n",
       "    <tr>\n",
       "      <th>2013-01-03</th>\n",
       "      <td>-1.988976</td>\n",
       "      <td>0.373714</td>\n",
       "      <td>-0.946753</td>\n",
       "      <td>-0.782646</td>\n",
       "    </tr>\n",
       "  </tbody>\n",
       "</table>\n",
       "</div>"
      ],
      "text/plain": [
       "                   A         B         C         D\n",
       "2013-01-02 -0.574513  0.454286  0.011059  2.266692\n",
       "2013-01-03 -1.988976  0.373714 -0.946753 -0.782646"
      ]
     },
     "execution_count": 40,
     "metadata": {},
     "output_type": "execute_result"
    }
   ],
   "source": [
    "df[1:3]"
   ]
  },
  {
   "cell_type": "code",
   "execution_count": 41,
   "id": "7fefdcce",
   "metadata": {},
   "outputs": [
    {
     "data": {
      "text/html": [
       "<div>\n",
       "<style scoped>\n",
       "    .dataframe tbody tr th:only-of-type {\n",
       "        vertical-align: middle;\n",
       "    }\n",
       "\n",
       "    .dataframe tbody tr th {\n",
       "        vertical-align: top;\n",
       "    }\n",
       "\n",
       "    .dataframe thead th {\n",
       "        text-align: right;\n",
       "    }\n",
       "</style>\n",
       "<table border=\"1\" class=\"dataframe\">\n",
       "  <thead>\n",
       "    <tr style=\"text-align: right;\">\n",
       "      <th></th>\n",
       "      <th>A</th>\n",
       "      <th>B</th>\n",
       "      <th>C</th>\n",
       "      <th>D</th>\n",
       "    </tr>\n",
       "  </thead>\n",
       "  <tbody>\n",
       "    <tr>\n",
       "      <th>2013-01-02</th>\n",
       "      <td>-0.574513</td>\n",
       "      <td>0.454286</td>\n",
       "      <td>0.011059</td>\n",
       "      <td>2.266692</td>\n",
       "    </tr>\n",
       "    <tr>\n",
       "      <th>2013-01-03</th>\n",
       "      <td>-1.988976</td>\n",
       "      <td>0.373714</td>\n",
       "      <td>-0.946753</td>\n",
       "      <td>-0.782646</td>\n",
       "    </tr>\n",
       "  </tbody>\n",
       "</table>\n",
       "</div>"
      ],
      "text/plain": [
       "                   A         B         C         D\n",
       "2013-01-02 -0.574513  0.454286  0.011059  2.266692\n",
       "2013-01-03 -1.988976  0.373714 -0.946753 -0.782646"
      ]
     },
     "execution_count": 41,
     "metadata": {},
     "output_type": "execute_result"
    }
   ],
   "source": [
    "df[\"20130102\":\"20130103\"]"
   ]
  },
  {
   "cell_type": "code",
   "execution_count": null,
   "id": "4726340e",
   "metadata": {},
   "outputs": [],
   "source": []
  }
 ],
 "metadata": {
  "kernelspec": {
   "display_name": "Python 3",
   "language": "python",
   "name": "python3"
  },
  "language_info": {
   "codemirror_mode": {
    "name": "ipython",
    "version": 3
   },
   "file_extension": ".py",
   "mimetype": "text/x-python",
   "name": "python",
   "nbconvert_exporter": "python",
   "pygments_lexer": "ipython3",
   "version": "3.9.5"
  }
 },
 "nbformat": 4,
 "nbformat_minor": 5
}
