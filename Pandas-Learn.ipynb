{
 "cells": [
  {
   "cell_type": "markdown",
   "id": "752612db",
   "metadata": {},
   "source": [
    "### 1、导入三方库"
   ]
  },
  {
   "cell_type": "code",
   "execution_count": 4,
   "id": "46364ea5",
   "metadata": {},
   "outputs": [],
   "source": [
    "import numpy as np\n",
    "import pandas as pd"
   ]
  },
  {
   "cell_type": "markdown",
   "id": "f6988a70",
   "metadata": {},
   "source": [
    "### 2、通过Series函数创建对象"
   ]
  },
  {
   "cell_type": "code",
   "execution_count": 5,
   "id": "25613762",
   "metadata": {},
   "outputs": [
    {
     "data": {
      "text/plain": [
       "0    1.0\n",
       "1    3.0\n",
       "2    4.0\n",
       "3    NaN\n",
       "4    6.0\n",
       "5    8.0\n",
       "dtype: float64"
      ]
     },
     "execution_count": 5,
     "metadata": {},
     "output_type": "execute_result"
    }
   ],
   "source": [
    "s = pd.Series([1, 3, 4, np.nan, 6, 8])\n",
    "s"
   ]
  },
  {
   "cell_type": "markdown",
   "id": "1bc68657",
   "metadata": {},
   "source": [
    "### 3、通过DataFrame创建对象"
   ]
  },
  {
   "cell_type": "code",
   "execution_count": 7,
   "id": "7ede1804",
   "metadata": {},
   "outputs": [
    {
     "data": {
      "text/plain": [
       "DatetimeIndex(['2013-01-01', '2013-01-02', '2013-01-03', '2013-01-04',\n",
       "               '2013-01-05', '2013-01-06'],\n",
       "              dtype='datetime64[ns]', freq='D')"
      ]
     },
     "execution_count": 7,
     "metadata": {},
     "output_type": "execute_result"
    }
   ],
   "source": [
    "dates = pd.date_range(\"20130101\", periods=6) # 创建时间列表，参数1为起始日期，参数2为列表元素数量\n",
    "dates"
   ]
  },
  {
   "cell_type": "code",
   "execution_count": 10,
   "id": "949e4420",
   "metadata": {},
   "outputs": [
    {
     "data": {
      "text/html": [
       "<div>\n",
       "<style scoped>\n",
       "    .dataframe tbody tr th:only-of-type {\n",
       "        vertical-align: middle;\n",
       "    }\n",
       "\n",
       "    .dataframe tbody tr th {\n",
       "        vertical-align: top;\n",
       "    }\n",
       "\n",
       "    .dataframe thead th {\n",
       "        text-align: right;\n",
       "    }\n",
       "</style>\n",
       "<table border=\"1\" class=\"dataframe\">\n",
       "  <thead>\n",
       "    <tr style=\"text-align: right;\">\n",
       "      <th></th>\n",
       "      <th>A</th>\n",
       "      <th>B</th>\n",
       "      <th>C</th>\n",
       "      <th>D</th>\n",
       "    </tr>\n",
       "  </thead>\n",
       "  <tbody>\n",
       "    <tr>\n",
       "      <th>2013-01-01</th>\n",
       "      <td>0.198160</td>\n",
       "      <td>0.660857</td>\n",
       "      <td>-0.122421</td>\n",
       "      <td>-0.332646</td>\n",
       "    </tr>\n",
       "    <tr>\n",
       "      <th>2013-01-02</th>\n",
       "      <td>0.994801</td>\n",
       "      <td>0.117380</td>\n",
       "      <td>0.085585</td>\n",
       "      <td>-0.432281</td>\n",
       "    </tr>\n",
       "    <tr>\n",
       "      <th>2013-01-03</th>\n",
       "      <td>-0.395958</td>\n",
       "      <td>0.953713</td>\n",
       "      <td>-0.472531</td>\n",
       "      <td>0.230783</td>\n",
       "    </tr>\n",
       "    <tr>\n",
       "      <th>2013-01-04</th>\n",
       "      <td>-0.729467</td>\n",
       "      <td>0.072446</td>\n",
       "      <td>-0.616207</td>\n",
       "      <td>-0.247673</td>\n",
       "    </tr>\n",
       "    <tr>\n",
       "      <th>2013-01-05</th>\n",
       "      <td>-0.527766</td>\n",
       "      <td>-0.019511</td>\n",
       "      <td>-2.027707</td>\n",
       "      <td>-0.424626</td>\n",
       "    </tr>\n",
       "    <tr>\n",
       "      <th>2013-01-06</th>\n",
       "      <td>1.085490</td>\n",
       "      <td>-0.143765</td>\n",
       "      <td>-1.316341</td>\n",
       "      <td>0.342710</td>\n",
       "    </tr>\n",
       "  </tbody>\n",
       "</table>\n",
       "</div>"
      ],
      "text/plain": [
       "                   A         B         C         D\n",
       "2013-01-01  0.198160  0.660857 -0.122421 -0.332646\n",
       "2013-01-02  0.994801  0.117380  0.085585 -0.432281\n",
       "2013-01-03 -0.395958  0.953713 -0.472531  0.230783\n",
       "2013-01-04 -0.729467  0.072446 -0.616207 -0.247673\n",
       "2013-01-05 -0.527766 -0.019511 -2.027707 -0.424626\n",
       "2013-01-06  1.085490 -0.143765 -1.316341  0.342710"
      ]
     },
     "execution_count": 10,
     "metadata": {},
     "output_type": "execute_result"
    }
   ],
   "source": [
    "df = pd.DataFrame(np.random.randn(6, 4), index=dates, columns=list(\"ABCD\"))\n",
    "df"
   ]
  },
  {
   "cell_type": "code",
   "execution_count": null,
   "id": "d2daa541",
   "metadata": {},
   "outputs": [],
   "source": []
  }
 ],
 "metadata": {
  "kernelspec": {
   "display_name": "Python 3",
   "language": "python",
   "name": "python3"
  },
  "language_info": {
   "codemirror_mode": {
    "name": "ipython",
    "version": 3
   },
   "file_extension": ".py",
   "mimetype": "text/x-python",
   "name": "python",
   "nbconvert_exporter": "python",
   "pygments_lexer": "ipython3",
   "version": "3.9.5"
  }
 },
 "nbformat": 4,
 "nbformat_minor": 5
}
