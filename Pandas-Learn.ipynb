{
 "cells": [
  {
   "cell_type": "markdown",
   "id": "4ce18266",
   "metadata": {},
   "source": [
    "### 1、导入三方库"
   ]
  },
  {
   "cell_type": "code",
   "execution_count": 1,
   "id": "514617a1",
   "metadata": {},
   "outputs": [],
   "source": [
    "import numpy as np\n",
    "import pandas as pd"
   ]
  },
  {
   "cell_type": "markdown",
   "id": "e06b2bb7",
   "metadata": {},
   "source": [
    "### 2、通过Series函数创建对象"
   ]
  },
  {
   "cell_type": "code",
   "execution_count": 2,
   "id": "a5217452",
   "metadata": {},
   "outputs": [
    {
     "data": {
      "text/plain": [
       "0    1.0\n",
       "1    3.0\n",
       "2    4.0\n",
       "3    NaN\n",
       "4    6.0\n",
       "5    8.0\n",
       "dtype: float64"
      ]
     },
     "execution_count": 2,
     "metadata": {},
     "output_type": "execute_result"
    }
   ],
   "source": [
    "s = pd.Series([1, 3, 4, np.nan, 6, 8])\n",
    "s"
   ]
  },
  {
   "cell_type": "markdown",
   "id": "70176e88",
   "metadata": {},
   "source": [
    "### 3、通过DataFrame创建对象（参数为Numpy数组）"
   ]
  },
  {
   "cell_type": "code",
   "execution_count": 3,
   "id": "b20bdc18",
   "metadata": {},
   "outputs": [
    {
     "data": {
      "text/plain": [
       "DatetimeIndex(['2013-01-01', '2013-01-02', '2013-01-03', '2013-01-04',\n",
       "               '2013-01-05', '2013-01-06'],\n",
       "              dtype='datetime64[ns]', freq='D')"
      ]
     },
     "execution_count": 3,
     "metadata": {},
     "output_type": "execute_result"
    }
   ],
   "source": [
    "dates = pd.date_range(\"20130101\", periods=6) # 创建时间列表，参数1为起始日期，参数2为列表元素数量\n",
    "dates"
   ]
  },
  {
   "cell_type": "code",
   "execution_count": 4,
   "id": "9dc32521",
   "metadata": {},
   "outputs": [
    {
     "data": {
      "text/html": [
       "<div>\n",
       "<style scoped>\n",
       "    .dataframe tbody tr th:only-of-type {\n",
       "        vertical-align: middle;\n",
       "    }\n",
       "\n",
       "    .dataframe tbody tr th {\n",
       "        vertical-align: top;\n",
       "    }\n",
       "\n",
       "    .dataframe thead th {\n",
       "        text-align: right;\n",
       "    }\n",
       "</style>\n",
       "<table border=\"1\" class=\"dataframe\">\n",
       "  <thead>\n",
       "    <tr style=\"text-align: right;\">\n",
       "      <th></th>\n",
       "      <th>A</th>\n",
       "      <th>B</th>\n",
       "      <th>C</th>\n",
       "      <th>D</th>\n",
       "    </tr>\n",
       "  </thead>\n",
       "  <tbody>\n",
       "    <tr>\n",
       "      <th>2013-01-01</th>\n",
       "      <td>0.132573</td>\n",
       "      <td>-0.701502</td>\n",
       "      <td>-1.200405</td>\n",
       "      <td>0.555923</td>\n",
       "    </tr>\n",
       "    <tr>\n",
       "      <th>2013-01-02</th>\n",
       "      <td>-1.760077</td>\n",
       "      <td>-0.864887</td>\n",
       "      <td>0.664937</td>\n",
       "      <td>-1.509499</td>\n",
       "    </tr>\n",
       "    <tr>\n",
       "      <th>2013-01-03</th>\n",
       "      <td>-0.103424</td>\n",
       "      <td>0.853946</td>\n",
       "      <td>-0.057892</td>\n",
       "      <td>-0.608758</td>\n",
       "    </tr>\n",
       "    <tr>\n",
       "      <th>2013-01-04</th>\n",
       "      <td>-0.098113</td>\n",
       "      <td>-0.539654</td>\n",
       "      <td>-0.074772</td>\n",
       "      <td>0.566189</td>\n",
       "    </tr>\n",
       "    <tr>\n",
       "      <th>2013-01-05</th>\n",
       "      <td>0.526374</td>\n",
       "      <td>-0.723935</td>\n",
       "      <td>-0.978592</td>\n",
       "      <td>-0.684789</td>\n",
       "    </tr>\n",
       "    <tr>\n",
       "      <th>2013-01-06</th>\n",
       "      <td>-0.052740</td>\n",
       "      <td>0.867664</td>\n",
       "      <td>-1.937692</td>\n",
       "      <td>-0.463876</td>\n",
       "    </tr>\n",
       "  </tbody>\n",
       "</table>\n",
       "</div>"
      ],
      "text/plain": [
       "                   A         B         C         D\n",
       "2013-01-01  0.132573 -0.701502 -1.200405  0.555923\n",
       "2013-01-02 -1.760077 -0.864887  0.664937 -1.509499\n",
       "2013-01-03 -0.103424  0.853946 -0.057892 -0.608758\n",
       "2013-01-04 -0.098113 -0.539654 -0.074772  0.566189\n",
       "2013-01-05  0.526374 -0.723935 -0.978592 -0.684789\n",
       "2013-01-06 -0.052740  0.867664 -1.937692 -0.463876"
      ]
     },
     "execution_count": 4,
     "metadata": {},
     "output_type": "execute_result"
    }
   ],
   "source": [
    "df = pd.DataFrame(np.random.randn(6, 4), index=dates, columns=list(\"ABCD\")) # randn()返回值为标准正态分布中的值，参数为生成的数组维度\n",
    "df"
   ]
  },
  {
   "cell_type": "markdown",
   "id": "66d45407",
   "metadata": {},
   "source": [
    "### 4、通过DataFrame创建对象（参数为字典）"
   ]
  },
  {
   "cell_type": "code",
   "execution_count": 5,
   "id": "97ddbdfa",
   "metadata": {},
   "outputs": [
    {
     "data": {
      "text/html": [
       "<div>\n",
       "<style scoped>\n",
       "    .dataframe tbody tr th:only-of-type {\n",
       "        vertical-align: middle;\n",
       "    }\n",
       "\n",
       "    .dataframe tbody tr th {\n",
       "        vertical-align: top;\n",
       "    }\n",
       "\n",
       "    .dataframe thead th {\n",
       "        text-align: right;\n",
       "    }\n",
       "</style>\n",
       "<table border=\"1\" class=\"dataframe\">\n",
       "  <thead>\n",
       "    <tr style=\"text-align: right;\">\n",
       "      <th></th>\n",
       "      <th>A</th>\n",
       "      <th>B</th>\n",
       "      <th>C</th>\n",
       "      <th>D</th>\n",
       "      <th>E</th>\n",
       "      <th>F</th>\n",
       "    </tr>\n",
       "  </thead>\n",
       "  <tbody>\n",
       "    <tr>\n",
       "      <th>0</th>\n",
       "      <td>1.0</td>\n",
       "      <td>2021-08-09</td>\n",
       "      <td>1.0</td>\n",
       "      <td>3</td>\n",
       "      <td>test</td>\n",
       "      <td>Foo</td>\n",
       "    </tr>\n",
       "    <tr>\n",
       "      <th>1</th>\n",
       "      <td>1.0</td>\n",
       "      <td>2021-08-09</td>\n",
       "      <td>1.0</td>\n",
       "      <td>3</td>\n",
       "      <td>train</td>\n",
       "      <td>Foo</td>\n",
       "    </tr>\n",
       "    <tr>\n",
       "      <th>2</th>\n",
       "      <td>1.0</td>\n",
       "      <td>2021-08-09</td>\n",
       "      <td>1.0</td>\n",
       "      <td>3</td>\n",
       "      <td>test</td>\n",
       "      <td>Foo</td>\n",
       "    </tr>\n",
       "    <tr>\n",
       "      <th>3</th>\n",
       "      <td>1.0</td>\n",
       "      <td>2021-08-09</td>\n",
       "      <td>1.0</td>\n",
       "      <td>3</td>\n",
       "      <td>train</td>\n",
       "      <td>Foo</td>\n",
       "    </tr>\n",
       "  </tbody>\n",
       "</table>\n",
       "</div>"
      ],
      "text/plain": [
       "     A          B    C  D      E    F\n",
       "0  1.0 2021-08-09  1.0  3   test  Foo\n",
       "1  1.0 2021-08-09  1.0  3  train  Foo\n",
       "2  1.0 2021-08-09  1.0  3   test  Foo\n",
       "3  1.0 2021-08-09  1.0  3  train  Foo"
      ]
     },
     "execution_count": 5,
     "metadata": {},
     "output_type": "execute_result"
    }
   ],
   "source": [
    "data_dict = {\n",
    "    \"A\": 1.0,\n",
    "    \"B\": pd.Timestamp(\"20210809\"), \n",
    "    \"C\": pd.Series(1, index=list(range(4)), dtype=\"float32\"),  \n",
    "    \"D\": np.array([3] * 4, dtype=\"int32\"),                     \n",
    "    \"E\": pd.Categorical([\"test\", \"train\", \"test\", \"train\"]),\n",
    "    \"F\": \"Foo\",\n",
    "}\n",
    "df2 = pd.DataFrame(data_dict)\n",
    "df2"
   ]
  },
  {
   "cell_type": "code",
   "execution_count": 6,
   "id": "01d9215a",
   "metadata": {},
   "outputs": [
    {
     "data": {
      "text/plain": [
       "A           float64\n",
       "B    datetime64[ns]\n",
       "C           float32\n",
       "D             int32\n",
       "E          category\n",
       "F            object\n",
       "dtype: object"
      ]
     },
     "execution_count": 6,
     "metadata": {},
     "output_type": "execute_result"
    }
   ],
   "source": [
    "df2.dtypes"
   ]
  },
  {
   "cell_type": "markdown",
   "id": "2f2d96ba",
   "metadata": {},
   "source": [
    "#### 注释"
   ]
  },
  {
   "cell_type": "code",
   "execution_count": 7,
   "id": "dba7890a",
   "metadata": {},
   "outputs": [
    {
     "data": {
      "text/plain": [
       "Timestamp('2021-08-09 00:00:00')"
      ]
     },
     "execution_count": 7,
     "metadata": {},
     "output_type": "execute_result"
    }
   ],
   "source": [
    "pd.Timestamp(\"20210809\")   # 创建时间戳"
   ]
  },
  {
   "cell_type": "code",
   "execution_count": 8,
   "id": "7213b052",
   "metadata": {},
   "outputs": [
    {
     "data": {
      "text/plain": [
       "0    1.0\n",
       "1    1.0\n",
       "2    1.0\n",
       "3    1.0\n",
       "dtype: float32"
      ]
     },
     "execution_count": 8,
     "metadata": {},
     "output_type": "execute_result"
    }
   ],
   "source": [
    "pd.Series(1, index=list(range(4)), dtype=\"float32\") # 创建一维数组"
   ]
  },
  {
   "cell_type": "code",
   "execution_count": 9,
   "id": "08c3b4e7",
   "metadata": {},
   "outputs": [
    {
     "data": {
      "text/plain": [
       "array([3, 3, 3, 3])"
      ]
     },
     "execution_count": 9,
     "metadata": {},
     "output_type": "execute_result"
    }
   ],
   "source": [
    "np.array([3] * 4, dtype=\"int32\")  # 数组创建"
   ]
  },
  {
   "cell_type": "code",
   "execution_count": 10,
   "id": "6b8d4aff",
   "metadata": {},
   "outputs": [
    {
     "data": {
      "text/plain": [
       "['test', 'train', 'test', 'train']\n",
       "Categories (2, object): ['test', 'train']"
      ]
     },
     "execution_count": 10,
     "metadata": {},
     "output_type": "execute_result"
    }
   ],
   "source": [
    "pd.Categorical([\"test\", \"train\", \"test\", \"train\"]) # 创建category数据类型"
   ]
  },
  {
   "cell_type": "markdown",
   "id": "e7e0ceff",
   "metadata": {},
   "source": [
    "### 5、DataFrame对象对应方法"
   ]
  },
  {
   "cell_type": "markdown",
   "id": "d3954b3a",
   "metadata": {},
   "source": [
    "df2.A                  df2.bool\n",
    "df2.abs                df2.boxplot\n",
    "df2.add                df2.C\n",
    "df2.add_prefix         df2.clip\n",
    "df2.add_suffix         df2.columns\n",
    "df2.align              df2.copy\n",
    "df2.all                df2.count\n",
    "df2.any                df2.combine\n",
    "df2.append             df2.D\n",
    "df2.apply              df2.describe\n",
    "df2.applymap           df2.diff\n",
    "df2.B                  df2.duplicated"
   ]
  },
  {
   "cell_type": "markdown",
   "id": "5fc288a4",
   "metadata": {},
   "source": [
    "### 6、查看DataFrame对象中的数据"
   ]
  },
  {
   "cell_type": "code",
   "execution_count": 14,
   "id": "928cf285",
   "metadata": {},
   "outputs": [
    {
     "data": {
      "text/html": [
       "<div>\n",
       "<style scoped>\n",
       "    .dataframe tbody tr th:only-of-type {\n",
       "        vertical-align: middle;\n",
       "    }\n",
       "\n",
       "    .dataframe tbody tr th {\n",
       "        vertical-align: top;\n",
       "    }\n",
       "\n",
       "    .dataframe thead th {\n",
       "        text-align: right;\n",
       "    }\n",
       "</style>\n",
       "<table border=\"1\" class=\"dataframe\">\n",
       "  <thead>\n",
       "    <tr style=\"text-align: right;\">\n",
       "      <th></th>\n",
       "      <th>A</th>\n",
       "      <th>B</th>\n",
       "      <th>C</th>\n",
       "      <th>D</th>\n",
       "    </tr>\n",
       "  </thead>\n",
       "  <tbody>\n",
       "    <tr>\n",
       "      <th>2013-01-01</th>\n",
       "      <td>0.132573</td>\n",
       "      <td>-0.701502</td>\n",
       "      <td>-1.200405</td>\n",
       "      <td>0.555923</td>\n",
       "    </tr>\n",
       "    <tr>\n",
       "      <th>2013-01-02</th>\n",
       "      <td>-1.760077</td>\n",
       "      <td>-0.864887</td>\n",
       "      <td>0.664937</td>\n",
       "      <td>-1.509499</td>\n",
       "    </tr>\n",
       "    <tr>\n",
       "      <th>2013-01-03</th>\n",
       "      <td>-0.103424</td>\n",
       "      <td>0.853946</td>\n",
       "      <td>-0.057892</td>\n",
       "      <td>-0.608758</td>\n",
       "    </tr>\n",
       "    <tr>\n",
       "      <th>2013-01-04</th>\n",
       "      <td>-0.098113</td>\n",
       "      <td>-0.539654</td>\n",
       "      <td>-0.074772</td>\n",
       "      <td>0.566189</td>\n",
       "    </tr>\n",
       "    <tr>\n",
       "      <th>2013-01-05</th>\n",
       "      <td>0.526374</td>\n",
       "      <td>-0.723935</td>\n",
       "      <td>-0.978592</td>\n",
       "      <td>-0.684789</td>\n",
       "    </tr>\n",
       "    <tr>\n",
       "      <th>2013-01-06</th>\n",
       "      <td>-0.052740</td>\n",
       "      <td>0.867664</td>\n",
       "      <td>-1.937692</td>\n",
       "      <td>-0.463876</td>\n",
       "    </tr>\n",
       "  </tbody>\n",
       "</table>\n",
       "</div>"
      ],
      "text/plain": [
       "                   A         B         C         D\n",
       "2013-01-01  0.132573 -0.701502 -1.200405  0.555923\n",
       "2013-01-02 -1.760077 -0.864887  0.664937 -1.509499\n",
       "2013-01-03 -0.103424  0.853946 -0.057892 -0.608758\n",
       "2013-01-04 -0.098113 -0.539654 -0.074772  0.566189\n",
       "2013-01-05  0.526374 -0.723935 -0.978592 -0.684789\n",
       "2013-01-06 -0.052740  0.867664 -1.937692 -0.463876"
      ]
     },
     "execution_count": 14,
     "metadata": {},
     "output_type": "execute_result"
    }
   ],
   "source": [
    "df"
   ]
  },
  {
   "cell_type": "code",
   "execution_count": 15,
   "id": "09845f95",
   "metadata": {},
   "outputs": [
    {
     "data": {
      "text/html": [
       "<div>\n",
       "<style scoped>\n",
       "    .dataframe tbody tr th:only-of-type {\n",
       "        vertical-align: middle;\n",
       "    }\n",
       "\n",
       "    .dataframe tbody tr th {\n",
       "        vertical-align: top;\n",
       "    }\n",
       "\n",
       "    .dataframe thead th {\n",
       "        text-align: right;\n",
       "    }\n",
       "</style>\n",
       "<table border=\"1\" class=\"dataframe\">\n",
       "  <thead>\n",
       "    <tr style=\"text-align: right;\">\n",
       "      <th></th>\n",
       "      <th>A</th>\n",
       "      <th>B</th>\n",
       "      <th>C</th>\n",
       "      <th>D</th>\n",
       "    </tr>\n",
       "  </thead>\n",
       "  <tbody>\n",
       "    <tr>\n",
       "      <th>2013-01-01</th>\n",
       "      <td>0.132573</td>\n",
       "      <td>-0.701502</td>\n",
       "      <td>-1.200405</td>\n",
       "      <td>0.555923</td>\n",
       "    </tr>\n",
       "    <tr>\n",
       "      <th>2013-01-02</th>\n",
       "      <td>-1.760077</td>\n",
       "      <td>-0.864887</td>\n",
       "      <td>0.664937</td>\n",
       "      <td>-1.509499</td>\n",
       "    </tr>\n",
       "    <tr>\n",
       "      <th>2013-01-03</th>\n",
       "      <td>-0.103424</td>\n",
       "      <td>0.853946</td>\n",
       "      <td>-0.057892</td>\n",
       "      <td>-0.608758</td>\n",
       "    </tr>\n",
       "    <tr>\n",
       "      <th>2013-01-04</th>\n",
       "      <td>-0.098113</td>\n",
       "      <td>-0.539654</td>\n",
       "      <td>-0.074772</td>\n",
       "      <td>0.566189</td>\n",
       "    </tr>\n",
       "    <tr>\n",
       "      <th>2013-01-05</th>\n",
       "      <td>0.526374</td>\n",
       "      <td>-0.723935</td>\n",
       "      <td>-0.978592</td>\n",
       "      <td>-0.684789</td>\n",
       "    </tr>\n",
       "  </tbody>\n",
       "</table>\n",
       "</div>"
      ],
      "text/plain": [
       "                   A         B         C         D\n",
       "2013-01-01  0.132573 -0.701502 -1.200405  0.555923\n",
       "2013-01-02 -1.760077 -0.864887  0.664937 -1.509499\n",
       "2013-01-03 -0.103424  0.853946 -0.057892 -0.608758\n",
       "2013-01-04 -0.098113 -0.539654 -0.074772  0.566189\n",
       "2013-01-05  0.526374 -0.723935 -0.978592 -0.684789"
      ]
     },
     "execution_count": 15,
     "metadata": {},
     "output_type": "execute_result"
    }
   ],
   "source": [
    "df.head() # 默认前5行数据"
   ]
  },
  {
   "cell_type": "code",
   "execution_count": 16,
   "id": "37fe913f",
   "metadata": {},
   "outputs": [
    {
     "data": {
      "text/html": [
       "<div>\n",
       "<style scoped>\n",
       "    .dataframe tbody tr th:only-of-type {\n",
       "        vertical-align: middle;\n",
       "    }\n",
       "\n",
       "    .dataframe tbody tr th {\n",
       "        vertical-align: top;\n",
       "    }\n",
       "\n",
       "    .dataframe thead th {\n",
       "        text-align: right;\n",
       "    }\n",
       "</style>\n",
       "<table border=\"1\" class=\"dataframe\">\n",
       "  <thead>\n",
       "    <tr style=\"text-align: right;\">\n",
       "      <th></th>\n",
       "      <th>A</th>\n",
       "      <th>B</th>\n",
       "      <th>C</th>\n",
       "      <th>D</th>\n",
       "    </tr>\n",
       "  </thead>\n",
       "  <tbody>\n",
       "    <tr>\n",
       "      <th>2013-01-01</th>\n",
       "      <td>0.132573</td>\n",
       "      <td>-0.701502</td>\n",
       "      <td>-1.200405</td>\n",
       "      <td>0.555923</td>\n",
       "    </tr>\n",
       "    <tr>\n",
       "      <th>2013-01-02</th>\n",
       "      <td>-1.760077</td>\n",
       "      <td>-0.864887</td>\n",
       "      <td>0.664937</td>\n",
       "      <td>-1.509499</td>\n",
       "    </tr>\n",
       "    <tr>\n",
       "      <th>2013-01-03</th>\n",
       "      <td>-0.103424</td>\n",
       "      <td>0.853946</td>\n",
       "      <td>-0.057892</td>\n",
       "      <td>-0.608758</td>\n",
       "    </tr>\n",
       "  </tbody>\n",
       "</table>\n",
       "</div>"
      ],
      "text/plain": [
       "                   A         B         C         D\n",
       "2013-01-01  0.132573 -0.701502 -1.200405  0.555923\n",
       "2013-01-02 -1.760077 -0.864887  0.664937 -1.509499\n",
       "2013-01-03 -0.103424  0.853946 -0.057892 -0.608758"
      ]
     },
     "execution_count": 16,
     "metadata": {},
     "output_type": "execute_result"
    }
   ],
   "source": [
    "df.head(3) # 指定显示前行数"
   ]
  },
  {
   "cell_type": "code",
   "execution_count": 17,
   "id": "baa98c1d",
   "metadata": {},
   "outputs": [
    {
     "data": {
      "text/html": [
       "<div>\n",
       "<style scoped>\n",
       "    .dataframe tbody tr th:only-of-type {\n",
       "        vertical-align: middle;\n",
       "    }\n",
       "\n",
       "    .dataframe tbody tr th {\n",
       "        vertical-align: top;\n",
       "    }\n",
       "\n",
       "    .dataframe thead th {\n",
       "        text-align: right;\n",
       "    }\n",
       "</style>\n",
       "<table border=\"1\" class=\"dataframe\">\n",
       "  <thead>\n",
       "    <tr style=\"text-align: right;\">\n",
       "      <th></th>\n",
       "      <th>A</th>\n",
       "      <th>B</th>\n",
       "      <th>C</th>\n",
       "      <th>D</th>\n",
       "    </tr>\n",
       "  </thead>\n",
       "  <tbody>\n",
       "    <tr>\n",
       "      <th>2013-01-02</th>\n",
       "      <td>-1.760077</td>\n",
       "      <td>-0.864887</td>\n",
       "      <td>0.664937</td>\n",
       "      <td>-1.509499</td>\n",
       "    </tr>\n",
       "    <tr>\n",
       "      <th>2013-01-03</th>\n",
       "      <td>-0.103424</td>\n",
       "      <td>0.853946</td>\n",
       "      <td>-0.057892</td>\n",
       "      <td>-0.608758</td>\n",
       "    </tr>\n",
       "    <tr>\n",
       "      <th>2013-01-04</th>\n",
       "      <td>-0.098113</td>\n",
       "      <td>-0.539654</td>\n",
       "      <td>-0.074772</td>\n",
       "      <td>0.566189</td>\n",
       "    </tr>\n",
       "    <tr>\n",
       "      <th>2013-01-05</th>\n",
       "      <td>0.526374</td>\n",
       "      <td>-0.723935</td>\n",
       "      <td>-0.978592</td>\n",
       "      <td>-0.684789</td>\n",
       "    </tr>\n",
       "    <tr>\n",
       "      <th>2013-01-06</th>\n",
       "      <td>-0.052740</td>\n",
       "      <td>0.867664</td>\n",
       "      <td>-1.937692</td>\n",
       "      <td>-0.463876</td>\n",
       "    </tr>\n",
       "  </tbody>\n",
       "</table>\n",
       "</div>"
      ],
      "text/plain": [
       "                   A         B         C         D\n",
       "2013-01-02 -1.760077 -0.864887  0.664937 -1.509499\n",
       "2013-01-03 -0.103424  0.853946 -0.057892 -0.608758\n",
       "2013-01-04 -0.098113 -0.539654 -0.074772  0.566189\n",
       "2013-01-05  0.526374 -0.723935 -0.978592 -0.684789\n",
       "2013-01-06 -0.052740  0.867664 -1.937692 -0.463876"
      ]
     },
     "execution_count": 17,
     "metadata": {},
     "output_type": "execute_result"
    }
   ],
   "source": [
    "df.tail() # 默认显示数据最后5行"
   ]
  },
  {
   "cell_type": "code",
   "execution_count": 18,
   "id": "49ca4b46",
   "metadata": {},
   "outputs": [
    {
     "data": {
      "text/html": [
       "<div>\n",
       "<style scoped>\n",
       "    .dataframe tbody tr th:only-of-type {\n",
       "        vertical-align: middle;\n",
       "    }\n",
       "\n",
       "    .dataframe tbody tr th {\n",
       "        vertical-align: top;\n",
       "    }\n",
       "\n",
       "    .dataframe thead th {\n",
       "        text-align: right;\n",
       "    }\n",
       "</style>\n",
       "<table border=\"1\" class=\"dataframe\">\n",
       "  <thead>\n",
       "    <tr style=\"text-align: right;\">\n",
       "      <th></th>\n",
       "      <th>A</th>\n",
       "      <th>B</th>\n",
       "      <th>C</th>\n",
       "      <th>D</th>\n",
       "    </tr>\n",
       "  </thead>\n",
       "  <tbody>\n",
       "    <tr>\n",
       "      <th>2013-01-04</th>\n",
       "      <td>-0.098113</td>\n",
       "      <td>-0.539654</td>\n",
       "      <td>-0.074772</td>\n",
       "      <td>0.566189</td>\n",
       "    </tr>\n",
       "    <tr>\n",
       "      <th>2013-01-05</th>\n",
       "      <td>0.526374</td>\n",
       "      <td>-0.723935</td>\n",
       "      <td>-0.978592</td>\n",
       "      <td>-0.684789</td>\n",
       "    </tr>\n",
       "    <tr>\n",
       "      <th>2013-01-06</th>\n",
       "      <td>-0.052740</td>\n",
       "      <td>0.867664</td>\n",
       "      <td>-1.937692</td>\n",
       "      <td>-0.463876</td>\n",
       "    </tr>\n",
       "  </tbody>\n",
       "</table>\n",
       "</div>"
      ],
      "text/plain": [
       "                   A         B         C         D\n",
       "2013-01-04 -0.098113 -0.539654 -0.074772  0.566189\n",
       "2013-01-05  0.526374 -0.723935 -0.978592 -0.684789\n",
       "2013-01-06 -0.052740  0.867664 -1.937692 -0.463876"
      ]
     },
     "execution_count": 18,
     "metadata": {},
     "output_type": "execute_result"
    }
   ],
   "source": [
    "df.tail(3) # 指定显示后3行"
   ]
  },
  {
   "cell_type": "code",
   "execution_count": 19,
   "id": "c715a4b3",
   "metadata": {},
   "outputs": [
    {
     "data": {
      "text/plain": [
       "DatetimeIndex(['2013-01-01', '2013-01-02', '2013-01-03', '2013-01-04',\n",
       "               '2013-01-05', '2013-01-06'],\n",
       "              dtype='datetime64[ns]', freq='D')"
      ]
     },
     "execution_count": 19,
     "metadata": {},
     "output_type": "execute_result"
    }
   ],
   "source": [
    "df.index # 查看数据索引"
   ]
  },
  {
   "cell_type": "code",
   "execution_count": 20,
   "id": "b577ad0c",
   "metadata": {},
   "outputs": [
    {
     "data": {
      "text/plain": [
       "Index(['A', 'B', 'C', 'D'], dtype='object')"
      ]
     },
     "execution_count": 20,
     "metadata": {},
     "output_type": "execute_result"
    }
   ],
   "source": [
    "df.columns # 查看数据列名"
   ]
  },
  {
   "cell_type": "code",
   "execution_count": null,
   "id": "106a5f63",
   "metadata": {},
   "outputs": [],
   "source": []
  }
 ],
 "metadata": {
  "kernelspec": {
   "display_name": "Python 3",
   "language": "python",
   "name": "python3"
  },
  "language_info": {
   "codemirror_mode": {
    "name": "ipython",
    "version": 3
   },
   "file_extension": ".py",
   "mimetype": "text/x-python",
   "name": "python",
   "nbconvert_exporter": "python",
   "pygments_lexer": "ipython3",
   "version": "3.9.5"
  }
 },
 "nbformat": 4,
 "nbformat_minor": 5
}
