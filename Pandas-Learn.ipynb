{
 "cells": [
  {
   "cell_type": "markdown",
   "id": "4ce18266",
   "metadata": {},
   "source": [
    "### 1、导入三方库"
   ]
  },
  {
   "cell_type": "code",
   "execution_count": 1,
   "id": "514617a1",
   "metadata": {},
   "outputs": [],
   "source": [
    "import numpy as np\n",
    "import pandas as pd"
   ]
  },
  {
   "cell_type": "markdown",
   "id": "e06b2bb7",
   "metadata": {},
   "source": [
    "### 2、通过Series函数创建对象"
   ]
  },
  {
   "cell_type": "code",
   "execution_count": 2,
   "id": "a5217452",
   "metadata": {},
   "outputs": [
    {
     "data": {
      "text/plain": [
       "0    1.0\n",
       "1    3.0\n",
       "2    4.0\n",
       "3    NaN\n",
       "4    6.0\n",
       "5    8.0\n",
       "dtype: float64"
      ]
     },
     "execution_count": 2,
     "metadata": {},
     "output_type": "execute_result"
    }
   ],
   "source": [
    "s = pd.Series([1, 3, 4, np.nan, 6, 8])\n",
    "s"
   ]
  },
  {
   "cell_type": "markdown",
   "id": "70176e88",
   "metadata": {},
   "source": [
    "### 3、通过DataFrame创建对象（参数为Numpy数组）"
   ]
  },
  {
   "cell_type": "code",
   "execution_count": 3,
   "id": "b20bdc18",
   "metadata": {
    "scrolled": true
   },
   "outputs": [
    {
     "data": {
      "text/plain": [
       "DatetimeIndex(['2013-01-01', '2013-01-02', '2013-01-03', '2013-01-04',\n",
       "               '2013-01-05', '2013-01-06'],\n",
       "              dtype='datetime64[ns]', freq='D')"
      ]
     },
     "execution_count": 3,
     "metadata": {},
     "output_type": "execute_result"
    }
   ],
   "source": [
    "dates = pd.date_range(\"20130101\", periods=6) # 创建时间列表，参数1为起始日期，参数2为列表元素数量\n",
    "dates"
   ]
  },
  {
   "cell_type": "code",
   "execution_count": 4,
   "id": "9dc32521",
   "metadata": {},
   "outputs": [
    {
     "data": {
      "text/html": [
       "<div>\n",
       "<style scoped>\n",
       "    .dataframe tbody tr th:only-of-type {\n",
       "        vertical-align: middle;\n",
       "    }\n",
       "\n",
       "    .dataframe tbody tr th {\n",
       "        vertical-align: top;\n",
       "    }\n",
       "\n",
       "    .dataframe thead th {\n",
       "        text-align: right;\n",
       "    }\n",
       "</style>\n",
       "<table border=\"1\" class=\"dataframe\">\n",
       "  <thead>\n",
       "    <tr style=\"text-align: right;\">\n",
       "      <th></th>\n",
       "      <th>A</th>\n",
       "      <th>B</th>\n",
       "      <th>C</th>\n",
       "      <th>D</th>\n",
       "    </tr>\n",
       "  </thead>\n",
       "  <tbody>\n",
       "    <tr>\n",
       "      <th>2013-01-01</th>\n",
       "      <td>0.346420</td>\n",
       "      <td>-0.773438</td>\n",
       "      <td>-1.671157</td>\n",
       "      <td>-0.400386</td>\n",
       "    </tr>\n",
       "    <tr>\n",
       "      <th>2013-01-02</th>\n",
       "      <td>1.043511</td>\n",
       "      <td>1.096944</td>\n",
       "      <td>0.441934</td>\n",
       "      <td>-0.445428</td>\n",
       "    </tr>\n",
       "    <tr>\n",
       "      <th>2013-01-03</th>\n",
       "      <td>0.717100</td>\n",
       "      <td>0.048022</td>\n",
       "      <td>2.038377</td>\n",
       "      <td>0.509018</td>\n",
       "    </tr>\n",
       "    <tr>\n",
       "      <th>2013-01-04</th>\n",
       "      <td>-1.244099</td>\n",
       "      <td>-0.984392</td>\n",
       "      <td>-3.030937</td>\n",
       "      <td>-0.753909</td>\n",
       "    </tr>\n",
       "    <tr>\n",
       "      <th>2013-01-05</th>\n",
       "      <td>-0.167156</td>\n",
       "      <td>-0.531300</td>\n",
       "      <td>-0.182683</td>\n",
       "      <td>-0.782313</td>\n",
       "    </tr>\n",
       "    <tr>\n",
       "      <th>2013-01-06</th>\n",
       "      <td>1.866509</td>\n",
       "      <td>0.798083</td>\n",
       "      <td>-0.455088</td>\n",
       "      <td>-0.908690</td>\n",
       "    </tr>\n",
       "  </tbody>\n",
       "</table>\n",
       "</div>"
      ],
      "text/plain": [
       "                   A         B         C         D\n",
       "2013-01-01  0.346420 -0.773438 -1.671157 -0.400386\n",
       "2013-01-02  1.043511  1.096944  0.441934 -0.445428\n",
       "2013-01-03  0.717100  0.048022  2.038377  0.509018\n",
       "2013-01-04 -1.244099 -0.984392 -3.030937 -0.753909\n",
       "2013-01-05 -0.167156 -0.531300 -0.182683 -0.782313\n",
       "2013-01-06  1.866509  0.798083 -0.455088 -0.908690"
      ]
     },
     "execution_count": 4,
     "metadata": {},
     "output_type": "execute_result"
    }
   ],
   "source": [
    "df = pd.DataFrame(np.random.randn(6, 4), index=dates, columns=list(\"ABCD\")) # randn()返回值为标准正态分布中的值，参数为生成的数组维度\n",
    "df"
   ]
  },
  {
   "cell_type": "markdown",
   "id": "66d45407",
   "metadata": {},
   "source": [
    "### 4、通过DataFrame创建对象（参数为字典）"
   ]
  },
  {
   "cell_type": "code",
   "execution_count": 5,
   "id": "97ddbdfa",
   "metadata": {},
   "outputs": [
    {
     "data": {
      "text/html": [
       "<div>\n",
       "<style scoped>\n",
       "    .dataframe tbody tr th:only-of-type {\n",
       "        vertical-align: middle;\n",
       "    }\n",
       "\n",
       "    .dataframe tbody tr th {\n",
       "        vertical-align: top;\n",
       "    }\n",
       "\n",
       "    .dataframe thead th {\n",
       "        text-align: right;\n",
       "    }\n",
       "</style>\n",
       "<table border=\"1\" class=\"dataframe\">\n",
       "  <thead>\n",
       "    <tr style=\"text-align: right;\">\n",
       "      <th></th>\n",
       "      <th>A</th>\n",
       "      <th>B</th>\n",
       "      <th>C</th>\n",
       "      <th>D</th>\n",
       "      <th>E</th>\n",
       "      <th>F</th>\n",
       "    </tr>\n",
       "  </thead>\n",
       "  <tbody>\n",
       "    <tr>\n",
       "      <th>0</th>\n",
       "      <td>1.0</td>\n",
       "      <td>2021-08-09</td>\n",
       "      <td>1.0</td>\n",
       "      <td>3</td>\n",
       "      <td>test</td>\n",
       "      <td>Foo</td>\n",
       "    </tr>\n",
       "    <tr>\n",
       "      <th>1</th>\n",
       "      <td>1.0</td>\n",
       "      <td>2021-08-09</td>\n",
       "      <td>1.0</td>\n",
       "      <td>3</td>\n",
       "      <td>train</td>\n",
       "      <td>Foo</td>\n",
       "    </tr>\n",
       "    <tr>\n",
       "      <th>2</th>\n",
       "      <td>1.0</td>\n",
       "      <td>2021-08-09</td>\n",
       "      <td>1.0</td>\n",
       "      <td>3</td>\n",
       "      <td>test</td>\n",
       "      <td>Foo</td>\n",
       "    </tr>\n",
       "    <tr>\n",
       "      <th>3</th>\n",
       "      <td>1.0</td>\n",
       "      <td>2021-08-09</td>\n",
       "      <td>1.0</td>\n",
       "      <td>3</td>\n",
       "      <td>train</td>\n",
       "      <td>Foo</td>\n",
       "    </tr>\n",
       "  </tbody>\n",
       "</table>\n",
       "</div>"
      ],
      "text/plain": [
       "     A          B    C  D      E    F\n",
       "0  1.0 2021-08-09  1.0  3   test  Foo\n",
       "1  1.0 2021-08-09  1.0  3  train  Foo\n",
       "2  1.0 2021-08-09  1.0  3   test  Foo\n",
       "3  1.0 2021-08-09  1.0  3  train  Foo"
      ]
     },
     "execution_count": 5,
     "metadata": {},
     "output_type": "execute_result"
    }
   ],
   "source": [
    "data_dict = {\n",
    "    \"A\": 1.0,\n",
    "    \"B\": pd.Timestamp(\"20210809\"), \n",
    "    \"C\": pd.Series(1, index=list(range(4)), dtype=\"float32\"),  \n",
    "    \"D\": np.array([3] * 4, dtype=\"int32\"),                     \n",
    "    \"E\": pd.Categorical([\"test\", \"train\", \"test\", \"train\"]),\n",
    "    \"F\": \"Foo\",\n",
    "}\n",
    "df2 = pd.DataFrame(data_dict)\n",
    "df2"
   ]
  },
  {
   "cell_type": "code",
   "execution_count": 6,
   "id": "01d9215a",
   "metadata": {},
   "outputs": [
    {
     "data": {
      "text/plain": [
       "A           float64\n",
       "B    datetime64[ns]\n",
       "C           float32\n",
       "D             int32\n",
       "E          category\n",
       "F            object\n",
       "dtype: object"
      ]
     },
     "execution_count": 6,
     "metadata": {},
     "output_type": "execute_result"
    }
   ],
   "source": [
    "df2.dtypes"
   ]
  },
  {
   "cell_type": "markdown",
   "id": "2f2d96ba",
   "metadata": {},
   "source": [
    "#### 注释"
   ]
  },
  {
   "cell_type": "code",
   "execution_count": 7,
   "id": "dba7890a",
   "metadata": {},
   "outputs": [
    {
     "data": {
      "text/plain": [
       "Timestamp('2021-08-09 00:00:00')"
      ]
     },
     "execution_count": 7,
     "metadata": {},
     "output_type": "execute_result"
    }
   ],
   "source": [
    "pd.Timestamp(\"20210809\")   # 创建时间戳"
   ]
  },
  {
   "cell_type": "code",
   "execution_count": 8,
   "id": "7213b052",
   "metadata": {},
   "outputs": [
    {
     "data": {
      "text/plain": [
       "0    1.0\n",
       "1    1.0\n",
       "2    1.0\n",
       "3    1.0\n",
       "dtype: float32"
      ]
     },
     "execution_count": 8,
     "metadata": {},
     "output_type": "execute_result"
    }
   ],
   "source": [
    "pd.Series(1, index=list(range(4)), dtype=\"float32\") # 创建一维数组"
   ]
  },
  {
   "cell_type": "code",
   "execution_count": 9,
   "id": "08c3b4e7",
   "metadata": {},
   "outputs": [
    {
     "data": {
      "text/plain": [
       "array([3, 3, 3, 3])"
      ]
     },
     "execution_count": 9,
     "metadata": {},
     "output_type": "execute_result"
    }
   ],
   "source": [
    "np.array([3] * 4, dtype=\"int32\")  # 数组创建"
   ]
  },
  {
   "cell_type": "code",
   "execution_count": 10,
   "id": "6b8d4aff",
   "metadata": {},
   "outputs": [
    {
     "data": {
      "text/plain": [
       "['test', 'train', 'test', 'train']\n",
       "Categories (2, object): ['test', 'train']"
      ]
     },
     "execution_count": 10,
     "metadata": {},
     "output_type": "execute_result"
    }
   ],
   "source": [
    "pd.Categorical([\"test\", \"train\", \"test\", \"train\"]) # 创建category数据类型"
   ]
  },
  {
   "cell_type": "markdown",
   "id": "e7e0ceff",
   "metadata": {},
   "source": [
    "### 5、DataFrame对象对应方法"
   ]
  },
  {
   "cell_type": "markdown",
   "id": "d3954b3a",
   "metadata": {},
   "source": [
    "df2.A                  df2.bool\n",
    "df2.abs                df2.boxplot\n",
    "df2.add                df2.C\n",
    "df2.add_prefix         df2.clip\n",
    "df2.add_suffix         df2.columns\n",
    "df2.align              df2.copy\n",
    "df2.all                df2.count\n",
    "df2.any                df2.combine\n",
    "df2.append             df2.D\n",
    "df2.apply              df2.describe\n",
    "df2.applymap           df2.diff\n",
    "df2.B                  df2.duplicated"
   ]
  },
  {
   "cell_type": "markdown",
   "id": "5fc288a4",
   "metadata": {},
   "source": [
    "### 6、查看DataFrame对象中的数据"
   ]
  },
  {
   "cell_type": "code",
   "execution_count": 11,
   "id": "c3efb675",
   "metadata": {},
   "outputs": [
    {
     "data": {
      "text/html": [
       "<div>\n",
       "<style scoped>\n",
       "    .dataframe tbody tr th:only-of-type {\n",
       "        vertical-align: middle;\n",
       "    }\n",
       "\n",
       "    .dataframe tbody tr th {\n",
       "        vertical-align: top;\n",
       "    }\n",
       "\n",
       "    .dataframe thead th {\n",
       "        text-align: right;\n",
       "    }\n",
       "</style>\n",
       "<table border=\"1\" class=\"dataframe\">\n",
       "  <thead>\n",
       "    <tr style=\"text-align: right;\">\n",
       "      <th></th>\n",
       "      <th>A</th>\n",
       "      <th>B</th>\n",
       "      <th>C</th>\n",
       "      <th>D</th>\n",
       "    </tr>\n",
       "  </thead>\n",
       "  <tbody>\n",
       "    <tr>\n",
       "      <th>2013-01-01</th>\n",
       "      <td>0.346420</td>\n",
       "      <td>-0.773438</td>\n",
       "      <td>-1.671157</td>\n",
       "      <td>-0.400386</td>\n",
       "    </tr>\n",
       "    <tr>\n",
       "      <th>2013-01-02</th>\n",
       "      <td>1.043511</td>\n",
       "      <td>1.096944</td>\n",
       "      <td>0.441934</td>\n",
       "      <td>-0.445428</td>\n",
       "    </tr>\n",
       "    <tr>\n",
       "      <th>2013-01-03</th>\n",
       "      <td>0.717100</td>\n",
       "      <td>0.048022</td>\n",
       "      <td>2.038377</td>\n",
       "      <td>0.509018</td>\n",
       "    </tr>\n",
       "    <tr>\n",
       "      <th>2013-01-04</th>\n",
       "      <td>-1.244099</td>\n",
       "      <td>-0.984392</td>\n",
       "      <td>-3.030937</td>\n",
       "      <td>-0.753909</td>\n",
       "    </tr>\n",
       "    <tr>\n",
       "      <th>2013-01-05</th>\n",
       "      <td>-0.167156</td>\n",
       "      <td>-0.531300</td>\n",
       "      <td>-0.182683</td>\n",
       "      <td>-0.782313</td>\n",
       "    </tr>\n",
       "    <tr>\n",
       "      <th>2013-01-06</th>\n",
       "      <td>1.866509</td>\n",
       "      <td>0.798083</td>\n",
       "      <td>-0.455088</td>\n",
       "      <td>-0.908690</td>\n",
       "    </tr>\n",
       "  </tbody>\n",
       "</table>\n",
       "</div>"
      ],
      "text/plain": [
       "                   A         B         C         D\n",
       "2013-01-01  0.346420 -0.773438 -1.671157 -0.400386\n",
       "2013-01-02  1.043511  1.096944  0.441934 -0.445428\n",
       "2013-01-03  0.717100  0.048022  2.038377  0.509018\n",
       "2013-01-04 -1.244099 -0.984392 -3.030937 -0.753909\n",
       "2013-01-05 -0.167156 -0.531300 -0.182683 -0.782313\n",
       "2013-01-06  1.866509  0.798083 -0.455088 -0.908690"
      ]
     },
     "execution_count": 11,
     "metadata": {},
     "output_type": "execute_result"
    }
   ],
   "source": [
    "df"
   ]
  },
  {
   "cell_type": "code",
   "execution_count": 12,
   "id": "09845f95",
   "metadata": {},
   "outputs": [
    {
     "data": {
      "text/html": [
       "<div>\n",
       "<style scoped>\n",
       "    .dataframe tbody tr th:only-of-type {\n",
       "        vertical-align: middle;\n",
       "    }\n",
       "\n",
       "    .dataframe tbody tr th {\n",
       "        vertical-align: top;\n",
       "    }\n",
       "\n",
       "    .dataframe thead th {\n",
       "        text-align: right;\n",
       "    }\n",
       "</style>\n",
       "<table border=\"1\" class=\"dataframe\">\n",
       "  <thead>\n",
       "    <tr style=\"text-align: right;\">\n",
       "      <th></th>\n",
       "      <th>A</th>\n",
       "      <th>B</th>\n",
       "      <th>C</th>\n",
       "      <th>D</th>\n",
       "    </tr>\n",
       "  </thead>\n",
       "  <tbody>\n",
       "    <tr>\n",
       "      <th>2013-01-01</th>\n",
       "      <td>0.346420</td>\n",
       "      <td>-0.773438</td>\n",
       "      <td>-1.671157</td>\n",
       "      <td>-0.400386</td>\n",
       "    </tr>\n",
       "    <tr>\n",
       "      <th>2013-01-02</th>\n",
       "      <td>1.043511</td>\n",
       "      <td>1.096944</td>\n",
       "      <td>0.441934</td>\n",
       "      <td>-0.445428</td>\n",
       "    </tr>\n",
       "    <tr>\n",
       "      <th>2013-01-03</th>\n",
       "      <td>0.717100</td>\n",
       "      <td>0.048022</td>\n",
       "      <td>2.038377</td>\n",
       "      <td>0.509018</td>\n",
       "    </tr>\n",
       "    <tr>\n",
       "      <th>2013-01-04</th>\n",
       "      <td>-1.244099</td>\n",
       "      <td>-0.984392</td>\n",
       "      <td>-3.030937</td>\n",
       "      <td>-0.753909</td>\n",
       "    </tr>\n",
       "    <tr>\n",
       "      <th>2013-01-05</th>\n",
       "      <td>-0.167156</td>\n",
       "      <td>-0.531300</td>\n",
       "      <td>-0.182683</td>\n",
       "      <td>-0.782313</td>\n",
       "    </tr>\n",
       "  </tbody>\n",
       "</table>\n",
       "</div>"
      ],
      "text/plain": [
       "                   A         B         C         D\n",
       "2013-01-01  0.346420 -0.773438 -1.671157 -0.400386\n",
       "2013-01-02  1.043511  1.096944  0.441934 -0.445428\n",
       "2013-01-03  0.717100  0.048022  2.038377  0.509018\n",
       "2013-01-04 -1.244099 -0.984392 -3.030937 -0.753909\n",
       "2013-01-05 -0.167156 -0.531300 -0.182683 -0.782313"
      ]
     },
     "execution_count": 12,
     "metadata": {},
     "output_type": "execute_result"
    }
   ],
   "source": [
    "df.head() # 默认前5行数据"
   ]
  },
  {
   "cell_type": "code",
   "execution_count": 13,
   "id": "37fe913f",
   "metadata": {},
   "outputs": [
    {
     "data": {
      "text/html": [
       "<div>\n",
       "<style scoped>\n",
       "    .dataframe tbody tr th:only-of-type {\n",
       "        vertical-align: middle;\n",
       "    }\n",
       "\n",
       "    .dataframe tbody tr th {\n",
       "        vertical-align: top;\n",
       "    }\n",
       "\n",
       "    .dataframe thead th {\n",
       "        text-align: right;\n",
       "    }\n",
       "</style>\n",
       "<table border=\"1\" class=\"dataframe\">\n",
       "  <thead>\n",
       "    <tr style=\"text-align: right;\">\n",
       "      <th></th>\n",
       "      <th>A</th>\n",
       "      <th>B</th>\n",
       "      <th>C</th>\n",
       "      <th>D</th>\n",
       "    </tr>\n",
       "  </thead>\n",
       "  <tbody>\n",
       "    <tr>\n",
       "      <th>2013-01-01</th>\n",
       "      <td>0.346420</td>\n",
       "      <td>-0.773438</td>\n",
       "      <td>-1.671157</td>\n",
       "      <td>-0.400386</td>\n",
       "    </tr>\n",
       "    <tr>\n",
       "      <th>2013-01-02</th>\n",
       "      <td>1.043511</td>\n",
       "      <td>1.096944</td>\n",
       "      <td>0.441934</td>\n",
       "      <td>-0.445428</td>\n",
       "    </tr>\n",
       "    <tr>\n",
       "      <th>2013-01-03</th>\n",
       "      <td>0.717100</td>\n",
       "      <td>0.048022</td>\n",
       "      <td>2.038377</td>\n",
       "      <td>0.509018</td>\n",
       "    </tr>\n",
       "  </tbody>\n",
       "</table>\n",
       "</div>"
      ],
      "text/plain": [
       "                   A         B         C         D\n",
       "2013-01-01  0.346420 -0.773438 -1.671157 -0.400386\n",
       "2013-01-02  1.043511  1.096944  0.441934 -0.445428\n",
       "2013-01-03  0.717100  0.048022  2.038377  0.509018"
      ]
     },
     "execution_count": 13,
     "metadata": {},
     "output_type": "execute_result"
    }
   ],
   "source": [
    "df.head(3) # 指定显示前行数"
   ]
  },
  {
   "cell_type": "code",
   "execution_count": 14,
   "id": "1ab71180",
   "metadata": {},
   "outputs": [
    {
     "data": {
      "text/html": [
       "<div>\n",
       "<style scoped>\n",
       "    .dataframe tbody tr th:only-of-type {\n",
       "        vertical-align: middle;\n",
       "    }\n",
       "\n",
       "    .dataframe tbody tr th {\n",
       "        vertical-align: top;\n",
       "    }\n",
       "\n",
       "    .dataframe thead th {\n",
       "        text-align: right;\n",
       "    }\n",
       "</style>\n",
       "<table border=\"1\" class=\"dataframe\">\n",
       "  <thead>\n",
       "    <tr style=\"text-align: right;\">\n",
       "      <th></th>\n",
       "      <th>A</th>\n",
       "      <th>B</th>\n",
       "      <th>C</th>\n",
       "      <th>D</th>\n",
       "    </tr>\n",
       "  </thead>\n",
       "  <tbody>\n",
       "    <tr>\n",
       "      <th>2013-01-02</th>\n",
       "      <td>1.043511</td>\n",
       "      <td>1.096944</td>\n",
       "      <td>0.441934</td>\n",
       "      <td>-0.445428</td>\n",
       "    </tr>\n",
       "    <tr>\n",
       "      <th>2013-01-03</th>\n",
       "      <td>0.717100</td>\n",
       "      <td>0.048022</td>\n",
       "      <td>2.038377</td>\n",
       "      <td>0.509018</td>\n",
       "    </tr>\n",
       "    <tr>\n",
       "      <th>2013-01-04</th>\n",
       "      <td>-1.244099</td>\n",
       "      <td>-0.984392</td>\n",
       "      <td>-3.030937</td>\n",
       "      <td>-0.753909</td>\n",
       "    </tr>\n",
       "    <tr>\n",
       "      <th>2013-01-05</th>\n",
       "      <td>-0.167156</td>\n",
       "      <td>-0.531300</td>\n",
       "      <td>-0.182683</td>\n",
       "      <td>-0.782313</td>\n",
       "    </tr>\n",
       "    <tr>\n",
       "      <th>2013-01-06</th>\n",
       "      <td>1.866509</td>\n",
       "      <td>0.798083</td>\n",
       "      <td>-0.455088</td>\n",
       "      <td>-0.908690</td>\n",
       "    </tr>\n",
       "  </tbody>\n",
       "</table>\n",
       "</div>"
      ],
      "text/plain": [
       "                   A         B         C         D\n",
       "2013-01-02  1.043511  1.096944  0.441934 -0.445428\n",
       "2013-01-03  0.717100  0.048022  2.038377  0.509018\n",
       "2013-01-04 -1.244099 -0.984392 -3.030937 -0.753909\n",
       "2013-01-05 -0.167156 -0.531300 -0.182683 -0.782313\n",
       "2013-01-06  1.866509  0.798083 -0.455088 -0.908690"
      ]
     },
     "execution_count": 14,
     "metadata": {},
     "output_type": "execute_result"
    }
   ],
   "source": [
    "df.tail() # 默认显示数据最后5行"
   ]
  },
  {
   "cell_type": "code",
   "execution_count": 15,
   "id": "6d3b455d",
   "metadata": {},
   "outputs": [
    {
     "data": {
      "text/html": [
       "<div>\n",
       "<style scoped>\n",
       "    .dataframe tbody tr th:only-of-type {\n",
       "        vertical-align: middle;\n",
       "    }\n",
       "\n",
       "    .dataframe tbody tr th {\n",
       "        vertical-align: top;\n",
       "    }\n",
       "\n",
       "    .dataframe thead th {\n",
       "        text-align: right;\n",
       "    }\n",
       "</style>\n",
       "<table border=\"1\" class=\"dataframe\">\n",
       "  <thead>\n",
       "    <tr style=\"text-align: right;\">\n",
       "      <th></th>\n",
       "      <th>A</th>\n",
       "      <th>B</th>\n",
       "      <th>C</th>\n",
       "      <th>D</th>\n",
       "    </tr>\n",
       "  </thead>\n",
       "  <tbody>\n",
       "    <tr>\n",
       "      <th>2013-01-04</th>\n",
       "      <td>-1.244099</td>\n",
       "      <td>-0.984392</td>\n",
       "      <td>-3.030937</td>\n",
       "      <td>-0.753909</td>\n",
       "    </tr>\n",
       "    <tr>\n",
       "      <th>2013-01-05</th>\n",
       "      <td>-0.167156</td>\n",
       "      <td>-0.531300</td>\n",
       "      <td>-0.182683</td>\n",
       "      <td>-0.782313</td>\n",
       "    </tr>\n",
       "    <tr>\n",
       "      <th>2013-01-06</th>\n",
       "      <td>1.866509</td>\n",
       "      <td>0.798083</td>\n",
       "      <td>-0.455088</td>\n",
       "      <td>-0.908690</td>\n",
       "    </tr>\n",
       "  </tbody>\n",
       "</table>\n",
       "</div>"
      ],
      "text/plain": [
       "                   A         B         C         D\n",
       "2013-01-04 -1.244099 -0.984392 -3.030937 -0.753909\n",
       "2013-01-05 -0.167156 -0.531300 -0.182683 -0.782313\n",
       "2013-01-06  1.866509  0.798083 -0.455088 -0.908690"
      ]
     },
     "execution_count": 15,
     "metadata": {},
     "output_type": "execute_result"
    }
   ],
   "source": [
    "df.tail(3) # 指定显示后3行"
   ]
  },
  {
   "cell_type": "code",
   "execution_count": 16,
   "id": "686f380b",
   "metadata": {},
   "outputs": [
    {
     "data": {
      "text/plain": [
       "DatetimeIndex(['2013-01-01', '2013-01-02', '2013-01-03', '2013-01-04',\n",
       "               '2013-01-05', '2013-01-06'],\n",
       "              dtype='datetime64[ns]', freq='D')"
      ]
     },
     "execution_count": 16,
     "metadata": {},
     "output_type": "execute_result"
    }
   ],
   "source": [
    "df.index # 查看数据索引"
   ]
  },
  {
   "cell_type": "code",
   "execution_count": 17,
   "id": "8b3f6aa8",
   "metadata": {},
   "outputs": [
    {
     "data": {
      "text/plain": [
       "Index(['A', 'B', 'C', 'D'], dtype='object')"
      ]
     },
     "execution_count": 17,
     "metadata": {},
     "output_type": "execute_result"
    }
   ],
   "source": [
    "df.columns # 查看数据列名"
   ]
  },
  {
   "cell_type": "markdown",
   "id": "43211cc4",
   "metadata": {},
   "source": [
    "### 7、将DataFrame数据类型转化为numpy array数组"
   ]
  },
  {
   "cell_type": "code",
   "execution_count": 18,
   "id": "eea7d8e0",
   "metadata": {},
   "outputs": [
    {
     "data": {
      "text/plain": [
       "array([[ 0.34641994, -0.77343792, -1.6711566 , -0.40038629],\n",
       "       [ 1.0435113 ,  1.09694385,  0.44193409, -0.44542772],\n",
       "       [ 0.71710026,  0.04802185,  2.03837738,  0.50901776],\n",
       "       [-1.24409866, -0.9843915 , -3.03093705, -0.75390885],\n",
       "       [-0.16715573, -0.53130002, -0.18268267, -0.78231264],\n",
       "       [ 1.86650911,  0.79808258, -0.45508848, -0.90868998]])"
      ]
     },
     "execution_count": 18,
     "metadata": {},
     "output_type": "execute_result"
    }
   ],
   "source": [
    "df.to_numpy() # 纯浮点数类型转化速度较快，多数据类型转化速度慢"
   ]
  },
  {
   "cell_type": "markdown",
   "id": "e3674f05",
   "metadata": {},
   "source": [
    "### 8、DataFrame快速统计数据"
   ]
  },
  {
   "cell_type": "code",
   "execution_count": 19,
   "id": "222a5975",
   "metadata": {},
   "outputs": [
    {
     "data": {
      "text/html": [
       "<div>\n",
       "<style scoped>\n",
       "    .dataframe tbody tr th:only-of-type {\n",
       "        vertical-align: middle;\n",
       "    }\n",
       "\n",
       "    .dataframe tbody tr th {\n",
       "        vertical-align: top;\n",
       "    }\n",
       "\n",
       "    .dataframe thead th {\n",
       "        text-align: right;\n",
       "    }\n",
       "</style>\n",
       "<table border=\"1\" class=\"dataframe\">\n",
       "  <thead>\n",
       "    <tr style=\"text-align: right;\">\n",
       "      <th></th>\n",
       "      <th>A</th>\n",
       "      <th>B</th>\n",
       "      <th>C</th>\n",
       "      <th>D</th>\n",
       "    </tr>\n",
       "  </thead>\n",
       "  <tbody>\n",
       "    <tr>\n",
       "      <th>count</th>\n",
       "      <td>6.000000</td>\n",
       "      <td>6.000000</td>\n",
       "      <td>6.000000</td>\n",
       "      <td>6.000000</td>\n",
       "    </tr>\n",
       "    <tr>\n",
       "      <th>mean</th>\n",
       "      <td>0.427048</td>\n",
       "      <td>-0.057680</td>\n",
       "      <td>-0.476592</td>\n",
       "      <td>-0.463618</td>\n",
       "    </tr>\n",
       "    <tr>\n",
       "      <th>std</th>\n",
       "      <td>1.066632</td>\n",
       "      <td>0.856981</td>\n",
       "      <td>1.743976</td>\n",
       "      <td>0.516580</td>\n",
       "    </tr>\n",
       "    <tr>\n",
       "      <th>min</th>\n",
       "      <td>-1.244099</td>\n",
       "      <td>-0.984392</td>\n",
       "      <td>-3.030937</td>\n",
       "      <td>-0.908690</td>\n",
       "    </tr>\n",
       "    <tr>\n",
       "      <th>25%</th>\n",
       "      <td>-0.038762</td>\n",
       "      <td>-0.712903</td>\n",
       "      <td>-1.367140</td>\n",
       "      <td>-0.775212</td>\n",
       "    </tr>\n",
       "    <tr>\n",
       "      <th>50%</th>\n",
       "      <td>0.531760</td>\n",
       "      <td>-0.241639</td>\n",
       "      <td>-0.318886</td>\n",
       "      <td>-0.599668</td>\n",
       "    </tr>\n",
       "    <tr>\n",
       "      <th>75%</th>\n",
       "      <td>0.961909</td>\n",
       "      <td>0.610567</td>\n",
       "      <td>0.285780</td>\n",
       "      <td>-0.411647</td>\n",
       "    </tr>\n",
       "    <tr>\n",
       "      <th>max</th>\n",
       "      <td>1.866509</td>\n",
       "      <td>1.096944</td>\n",
       "      <td>2.038377</td>\n",
       "      <td>0.509018</td>\n",
       "    </tr>\n",
       "  </tbody>\n",
       "</table>\n",
       "</div>"
      ],
      "text/plain": [
       "              A         B         C         D\n",
       "count  6.000000  6.000000  6.000000  6.000000\n",
       "mean   0.427048 -0.057680 -0.476592 -0.463618\n",
       "std    1.066632  0.856981  1.743976  0.516580\n",
       "min   -1.244099 -0.984392 -3.030937 -0.908690\n",
       "25%   -0.038762 -0.712903 -1.367140 -0.775212\n",
       "50%    0.531760 -0.241639 -0.318886 -0.599668\n",
       "75%    0.961909  0.610567  0.285780 -0.411647\n",
       "max    1.866509  1.096944  2.038377  0.509018"
      ]
     },
     "execution_count": 19,
     "metadata": {},
     "output_type": "execute_result"
    }
   ],
   "source": [
    "df.describe()"
   ]
  },
  {
   "cell_type": "markdown",
   "id": "36a5e03e",
   "metadata": {},
   "source": [
    "### 9、将索引与列名的位置互换"
   ]
  },
  {
   "cell_type": "code",
   "execution_count": 20,
   "id": "0e98fff0",
   "metadata": {},
   "outputs": [
    {
     "data": {
      "text/html": [
       "<div>\n",
       "<style scoped>\n",
       "    .dataframe tbody tr th:only-of-type {\n",
       "        vertical-align: middle;\n",
       "    }\n",
       "\n",
       "    .dataframe tbody tr th {\n",
       "        vertical-align: top;\n",
       "    }\n",
       "\n",
       "    .dataframe thead th {\n",
       "        text-align: right;\n",
       "    }\n",
       "</style>\n",
       "<table border=\"1\" class=\"dataframe\">\n",
       "  <thead>\n",
       "    <tr style=\"text-align: right;\">\n",
       "      <th></th>\n",
       "      <th>A</th>\n",
       "      <th>B</th>\n",
       "      <th>C</th>\n",
       "      <th>D</th>\n",
       "    </tr>\n",
       "  </thead>\n",
       "  <tbody>\n",
       "    <tr>\n",
       "      <th>2013-01-01</th>\n",
       "      <td>0.346420</td>\n",
       "      <td>-0.773438</td>\n",
       "      <td>-1.671157</td>\n",
       "      <td>-0.400386</td>\n",
       "    </tr>\n",
       "    <tr>\n",
       "      <th>2013-01-02</th>\n",
       "      <td>1.043511</td>\n",
       "      <td>1.096944</td>\n",
       "      <td>0.441934</td>\n",
       "      <td>-0.445428</td>\n",
       "    </tr>\n",
       "    <tr>\n",
       "      <th>2013-01-03</th>\n",
       "      <td>0.717100</td>\n",
       "      <td>0.048022</td>\n",
       "      <td>2.038377</td>\n",
       "      <td>0.509018</td>\n",
       "    </tr>\n",
       "    <tr>\n",
       "      <th>2013-01-04</th>\n",
       "      <td>-1.244099</td>\n",
       "      <td>-0.984392</td>\n",
       "      <td>-3.030937</td>\n",
       "      <td>-0.753909</td>\n",
       "    </tr>\n",
       "    <tr>\n",
       "      <th>2013-01-05</th>\n",
       "      <td>-0.167156</td>\n",
       "      <td>-0.531300</td>\n",
       "      <td>-0.182683</td>\n",
       "      <td>-0.782313</td>\n",
       "    </tr>\n",
       "    <tr>\n",
       "      <th>2013-01-06</th>\n",
       "      <td>1.866509</td>\n",
       "      <td>0.798083</td>\n",
       "      <td>-0.455088</td>\n",
       "      <td>-0.908690</td>\n",
       "    </tr>\n",
       "  </tbody>\n",
       "</table>\n",
       "</div>"
      ],
      "text/plain": [
       "                   A         B         C         D\n",
       "2013-01-01  0.346420 -0.773438 -1.671157 -0.400386\n",
       "2013-01-02  1.043511  1.096944  0.441934 -0.445428\n",
       "2013-01-03  0.717100  0.048022  2.038377  0.509018\n",
       "2013-01-04 -1.244099 -0.984392 -3.030937 -0.753909\n",
       "2013-01-05 -0.167156 -0.531300 -0.182683 -0.782313\n",
       "2013-01-06  1.866509  0.798083 -0.455088 -0.908690"
      ]
     },
     "execution_count": 20,
     "metadata": {},
     "output_type": "execute_result"
    }
   ],
   "source": [
    "df"
   ]
  },
  {
   "cell_type": "code",
   "execution_count": 21,
   "id": "611c5733",
   "metadata": {},
   "outputs": [
    {
     "data": {
      "text/html": [
       "<div>\n",
       "<style scoped>\n",
       "    .dataframe tbody tr th:only-of-type {\n",
       "        vertical-align: middle;\n",
       "    }\n",
       "\n",
       "    .dataframe tbody tr th {\n",
       "        vertical-align: top;\n",
       "    }\n",
       "\n",
       "    .dataframe thead th {\n",
       "        text-align: right;\n",
       "    }\n",
       "</style>\n",
       "<table border=\"1\" class=\"dataframe\">\n",
       "  <thead>\n",
       "    <tr style=\"text-align: right;\">\n",
       "      <th></th>\n",
       "      <th>2013-01-01</th>\n",
       "      <th>2013-01-02</th>\n",
       "      <th>2013-01-03</th>\n",
       "      <th>2013-01-04</th>\n",
       "      <th>2013-01-05</th>\n",
       "      <th>2013-01-06</th>\n",
       "    </tr>\n",
       "  </thead>\n",
       "  <tbody>\n",
       "    <tr>\n",
       "      <th>A</th>\n",
       "      <td>0.346420</td>\n",
       "      <td>1.043511</td>\n",
       "      <td>0.717100</td>\n",
       "      <td>-1.244099</td>\n",
       "      <td>-0.167156</td>\n",
       "      <td>1.866509</td>\n",
       "    </tr>\n",
       "    <tr>\n",
       "      <th>B</th>\n",
       "      <td>-0.773438</td>\n",
       "      <td>1.096944</td>\n",
       "      <td>0.048022</td>\n",
       "      <td>-0.984392</td>\n",
       "      <td>-0.531300</td>\n",
       "      <td>0.798083</td>\n",
       "    </tr>\n",
       "    <tr>\n",
       "      <th>C</th>\n",
       "      <td>-1.671157</td>\n",
       "      <td>0.441934</td>\n",
       "      <td>2.038377</td>\n",
       "      <td>-3.030937</td>\n",
       "      <td>-0.182683</td>\n",
       "      <td>-0.455088</td>\n",
       "    </tr>\n",
       "    <tr>\n",
       "      <th>D</th>\n",
       "      <td>-0.400386</td>\n",
       "      <td>-0.445428</td>\n",
       "      <td>0.509018</td>\n",
       "      <td>-0.753909</td>\n",
       "      <td>-0.782313</td>\n",
       "      <td>-0.908690</td>\n",
       "    </tr>\n",
       "  </tbody>\n",
       "</table>\n",
       "</div>"
      ],
      "text/plain": [
       "   2013-01-01  2013-01-02  2013-01-03  2013-01-04  2013-01-05  2013-01-06\n",
       "A    0.346420    1.043511    0.717100   -1.244099   -0.167156    1.866509\n",
       "B   -0.773438    1.096944    0.048022   -0.984392   -0.531300    0.798083\n",
       "C   -1.671157    0.441934    2.038377   -3.030937   -0.182683   -0.455088\n",
       "D   -0.400386   -0.445428    0.509018   -0.753909   -0.782313   -0.908690"
      ]
     },
     "execution_count": 21,
     "metadata": {},
     "output_type": "execute_result"
    }
   ],
   "source": [
    "df.T # Transposing"
   ]
  },
  {
   "cell_type": "markdown",
   "id": "d6e61eb5",
   "metadata": {},
   "source": [
    "### 10、数据根据规则排序"
   ]
  },
  {
   "cell_type": "code",
   "execution_count": 22,
   "id": "4cb49bca",
   "metadata": {},
   "outputs": [
    {
     "data": {
      "text/html": [
       "<div>\n",
       "<style scoped>\n",
       "    .dataframe tbody tr th:only-of-type {\n",
       "        vertical-align: middle;\n",
       "    }\n",
       "\n",
       "    .dataframe tbody tr th {\n",
       "        vertical-align: top;\n",
       "    }\n",
       "\n",
       "    .dataframe thead th {\n",
       "        text-align: right;\n",
       "    }\n",
       "</style>\n",
       "<table border=\"1\" class=\"dataframe\">\n",
       "  <thead>\n",
       "    <tr style=\"text-align: right;\">\n",
       "      <th></th>\n",
       "      <th>D</th>\n",
       "      <th>C</th>\n",
       "      <th>B</th>\n",
       "      <th>A</th>\n",
       "    </tr>\n",
       "  </thead>\n",
       "  <tbody>\n",
       "    <tr>\n",
       "      <th>2013-01-01</th>\n",
       "      <td>-0.400386</td>\n",
       "      <td>-1.671157</td>\n",
       "      <td>-0.773438</td>\n",
       "      <td>0.346420</td>\n",
       "    </tr>\n",
       "    <tr>\n",
       "      <th>2013-01-02</th>\n",
       "      <td>-0.445428</td>\n",
       "      <td>0.441934</td>\n",
       "      <td>1.096944</td>\n",
       "      <td>1.043511</td>\n",
       "    </tr>\n",
       "    <tr>\n",
       "      <th>2013-01-03</th>\n",
       "      <td>0.509018</td>\n",
       "      <td>2.038377</td>\n",
       "      <td>0.048022</td>\n",
       "      <td>0.717100</td>\n",
       "    </tr>\n",
       "    <tr>\n",
       "      <th>2013-01-04</th>\n",
       "      <td>-0.753909</td>\n",
       "      <td>-3.030937</td>\n",
       "      <td>-0.984392</td>\n",
       "      <td>-1.244099</td>\n",
       "    </tr>\n",
       "    <tr>\n",
       "      <th>2013-01-05</th>\n",
       "      <td>-0.782313</td>\n",
       "      <td>-0.182683</td>\n",
       "      <td>-0.531300</td>\n",
       "      <td>-0.167156</td>\n",
       "    </tr>\n",
       "    <tr>\n",
       "      <th>2013-01-06</th>\n",
       "      <td>-0.908690</td>\n",
       "      <td>-0.455088</td>\n",
       "      <td>0.798083</td>\n",
       "      <td>1.866509</td>\n",
       "    </tr>\n",
       "  </tbody>\n",
       "</table>\n",
       "</div>"
      ],
      "text/plain": [
       "                   D         C         B         A\n",
       "2013-01-01 -0.400386 -1.671157 -0.773438  0.346420\n",
       "2013-01-02 -0.445428  0.441934  1.096944  1.043511\n",
       "2013-01-03  0.509018  2.038377  0.048022  0.717100\n",
       "2013-01-04 -0.753909 -3.030937 -0.984392 -1.244099\n",
       "2013-01-05 -0.782313 -0.182683 -0.531300 -0.167156\n",
       "2013-01-06 -0.908690 -0.455088  0.798083  1.866509"
      ]
     },
     "execution_count": 22,
     "metadata": {},
     "output_type": "execute_result"
    }
   ],
   "source": [
    "# 根据axis=1（列名）排序\n",
    "df.sort_index(axis=1, ascending=False) "
   ]
  },
  {
   "cell_type": "code",
   "execution_count": 23,
   "id": "36664bc2",
   "metadata": {},
   "outputs": [
    {
     "data": {
      "text/html": [
       "<div>\n",
       "<style scoped>\n",
       "    .dataframe tbody tr th:only-of-type {\n",
       "        vertical-align: middle;\n",
       "    }\n",
       "\n",
       "    .dataframe tbody tr th {\n",
       "        vertical-align: top;\n",
       "    }\n",
       "\n",
       "    .dataframe thead th {\n",
       "        text-align: right;\n",
       "    }\n",
       "</style>\n",
       "<table border=\"1\" class=\"dataframe\">\n",
       "  <thead>\n",
       "    <tr style=\"text-align: right;\">\n",
       "      <th></th>\n",
       "      <th>A</th>\n",
       "      <th>B</th>\n",
       "      <th>C</th>\n",
       "      <th>D</th>\n",
       "    </tr>\n",
       "  </thead>\n",
       "  <tbody>\n",
       "    <tr>\n",
       "      <th>2013-01-06</th>\n",
       "      <td>1.866509</td>\n",
       "      <td>0.798083</td>\n",
       "      <td>-0.455088</td>\n",
       "      <td>-0.908690</td>\n",
       "    </tr>\n",
       "    <tr>\n",
       "      <th>2013-01-05</th>\n",
       "      <td>-0.167156</td>\n",
       "      <td>-0.531300</td>\n",
       "      <td>-0.182683</td>\n",
       "      <td>-0.782313</td>\n",
       "    </tr>\n",
       "    <tr>\n",
       "      <th>2013-01-04</th>\n",
       "      <td>-1.244099</td>\n",
       "      <td>-0.984392</td>\n",
       "      <td>-3.030937</td>\n",
       "      <td>-0.753909</td>\n",
       "    </tr>\n",
       "    <tr>\n",
       "      <th>2013-01-03</th>\n",
       "      <td>0.717100</td>\n",
       "      <td>0.048022</td>\n",
       "      <td>2.038377</td>\n",
       "      <td>0.509018</td>\n",
       "    </tr>\n",
       "    <tr>\n",
       "      <th>2013-01-02</th>\n",
       "      <td>1.043511</td>\n",
       "      <td>1.096944</td>\n",
       "      <td>0.441934</td>\n",
       "      <td>-0.445428</td>\n",
       "    </tr>\n",
       "    <tr>\n",
       "      <th>2013-01-01</th>\n",
       "      <td>0.346420</td>\n",
       "      <td>-0.773438</td>\n",
       "      <td>-1.671157</td>\n",
       "      <td>-0.400386</td>\n",
       "    </tr>\n",
       "  </tbody>\n",
       "</table>\n",
       "</div>"
      ],
      "text/plain": [
       "                   A         B         C         D\n",
       "2013-01-06  1.866509  0.798083 -0.455088 -0.908690\n",
       "2013-01-05 -0.167156 -0.531300 -0.182683 -0.782313\n",
       "2013-01-04 -1.244099 -0.984392 -3.030937 -0.753909\n",
       "2013-01-03  0.717100  0.048022  2.038377  0.509018\n",
       "2013-01-02  1.043511  1.096944  0.441934 -0.445428\n",
       "2013-01-01  0.346420 -0.773438 -1.671157 -0.400386"
      ]
     },
     "execution_count": 23,
     "metadata": {},
     "output_type": "execute_result"
    }
   ],
   "source": [
    "# 根据axis=0（索引）排序\n",
    "df.sort_index(axis=0, ascending=False)"
   ]
  },
  {
   "cell_type": "code",
   "execution_count": 24,
   "id": "b2974d03",
   "metadata": {},
   "outputs": [
    {
     "data": {
      "text/html": [
       "<div>\n",
       "<style scoped>\n",
       "    .dataframe tbody tr th:only-of-type {\n",
       "        vertical-align: middle;\n",
       "    }\n",
       "\n",
       "    .dataframe tbody tr th {\n",
       "        vertical-align: top;\n",
       "    }\n",
       "\n",
       "    .dataframe thead th {\n",
       "        text-align: right;\n",
       "    }\n",
       "</style>\n",
       "<table border=\"1\" class=\"dataframe\">\n",
       "  <thead>\n",
       "    <tr style=\"text-align: right;\">\n",
       "      <th></th>\n",
       "      <th>A</th>\n",
       "      <th>B</th>\n",
       "      <th>C</th>\n",
       "      <th>D</th>\n",
       "    </tr>\n",
       "  </thead>\n",
       "  <tbody>\n",
       "    <tr>\n",
       "      <th>2013-01-04</th>\n",
       "      <td>-1.244099</td>\n",
       "      <td>-0.984392</td>\n",
       "      <td>-3.030937</td>\n",
       "      <td>-0.753909</td>\n",
       "    </tr>\n",
       "    <tr>\n",
       "      <th>2013-01-05</th>\n",
       "      <td>-0.167156</td>\n",
       "      <td>-0.531300</td>\n",
       "      <td>-0.182683</td>\n",
       "      <td>-0.782313</td>\n",
       "    </tr>\n",
       "    <tr>\n",
       "      <th>2013-01-01</th>\n",
       "      <td>0.346420</td>\n",
       "      <td>-0.773438</td>\n",
       "      <td>-1.671157</td>\n",
       "      <td>-0.400386</td>\n",
       "    </tr>\n",
       "    <tr>\n",
       "      <th>2013-01-03</th>\n",
       "      <td>0.717100</td>\n",
       "      <td>0.048022</td>\n",
       "      <td>2.038377</td>\n",
       "      <td>0.509018</td>\n",
       "    </tr>\n",
       "    <tr>\n",
       "      <th>2013-01-02</th>\n",
       "      <td>1.043511</td>\n",
       "      <td>1.096944</td>\n",
       "      <td>0.441934</td>\n",
       "      <td>-0.445428</td>\n",
       "    </tr>\n",
       "    <tr>\n",
       "      <th>2013-01-06</th>\n",
       "      <td>1.866509</td>\n",
       "      <td>0.798083</td>\n",
       "      <td>-0.455088</td>\n",
       "      <td>-0.908690</td>\n",
       "    </tr>\n",
       "  </tbody>\n",
       "</table>\n",
       "</div>"
      ],
      "text/plain": [
       "                   A         B         C         D\n",
       "2013-01-04 -1.244099 -0.984392 -3.030937 -0.753909\n",
       "2013-01-05 -0.167156 -0.531300 -0.182683 -0.782313\n",
       "2013-01-01  0.346420 -0.773438 -1.671157 -0.400386\n",
       "2013-01-03  0.717100  0.048022  2.038377  0.509018\n",
       "2013-01-02  1.043511  1.096944  0.441934 -0.445428\n",
       "2013-01-06  1.866509  0.798083 -0.455088 -0.908690"
      ]
     },
     "execution_count": 24,
     "metadata": {},
     "output_type": "execute_result"
    }
   ],
   "source": [
    "# 指定列的值进行排序，默认升序排列\n",
    "df.sort_values(by=\"A\")"
   ]
  },
  {
   "cell_type": "code",
   "execution_count": 25,
   "id": "67e71ecb",
   "metadata": {},
   "outputs": [
    {
     "data": {
      "text/html": [
       "<div>\n",
       "<style scoped>\n",
       "    .dataframe tbody tr th:only-of-type {\n",
       "        vertical-align: middle;\n",
       "    }\n",
       "\n",
       "    .dataframe tbody tr th {\n",
       "        vertical-align: top;\n",
       "    }\n",
       "\n",
       "    .dataframe thead th {\n",
       "        text-align: right;\n",
       "    }\n",
       "</style>\n",
       "<table border=\"1\" class=\"dataframe\">\n",
       "  <thead>\n",
       "    <tr style=\"text-align: right;\">\n",
       "      <th></th>\n",
       "      <th>A</th>\n",
       "      <th>B</th>\n",
       "      <th>C</th>\n",
       "      <th>D</th>\n",
       "    </tr>\n",
       "  </thead>\n",
       "  <tbody>\n",
       "    <tr>\n",
       "      <th>2013-01-06</th>\n",
       "      <td>1.866509</td>\n",
       "      <td>0.798083</td>\n",
       "      <td>-0.455088</td>\n",
       "      <td>-0.908690</td>\n",
       "    </tr>\n",
       "    <tr>\n",
       "      <th>2013-01-02</th>\n",
       "      <td>1.043511</td>\n",
       "      <td>1.096944</td>\n",
       "      <td>0.441934</td>\n",
       "      <td>-0.445428</td>\n",
       "    </tr>\n",
       "    <tr>\n",
       "      <th>2013-01-03</th>\n",
       "      <td>0.717100</td>\n",
       "      <td>0.048022</td>\n",
       "      <td>2.038377</td>\n",
       "      <td>0.509018</td>\n",
       "    </tr>\n",
       "    <tr>\n",
       "      <th>2013-01-01</th>\n",
       "      <td>0.346420</td>\n",
       "      <td>-0.773438</td>\n",
       "      <td>-1.671157</td>\n",
       "      <td>-0.400386</td>\n",
       "    </tr>\n",
       "    <tr>\n",
       "      <th>2013-01-05</th>\n",
       "      <td>-0.167156</td>\n",
       "      <td>-0.531300</td>\n",
       "      <td>-0.182683</td>\n",
       "      <td>-0.782313</td>\n",
       "    </tr>\n",
       "    <tr>\n",
       "      <th>2013-01-04</th>\n",
       "      <td>-1.244099</td>\n",
       "      <td>-0.984392</td>\n",
       "      <td>-3.030937</td>\n",
       "      <td>-0.753909</td>\n",
       "    </tr>\n",
       "  </tbody>\n",
       "</table>\n",
       "</div>"
      ],
      "text/plain": [
       "                   A         B         C         D\n",
       "2013-01-06  1.866509  0.798083 -0.455088 -0.908690\n",
       "2013-01-02  1.043511  1.096944  0.441934 -0.445428\n",
       "2013-01-03  0.717100  0.048022  2.038377  0.509018\n",
       "2013-01-01  0.346420 -0.773438 -1.671157 -0.400386\n",
       "2013-01-05 -0.167156 -0.531300 -0.182683 -0.782313\n",
       "2013-01-04 -1.244099 -0.984392 -3.030937 -0.753909"
      ]
     },
     "execution_count": 25,
     "metadata": {},
     "output_type": "execute_result"
    }
   ],
   "source": [
    "# 指定列的值进行排序\n",
    "df.sort_values(by=\"A\", ascending=False)"
   ]
  },
  {
   "cell_type": "markdown",
   "id": "5fcfa18a",
   "metadata": {},
   "source": [
    "### 11、数据的选择"
   ]
  },
  {
   "cell_type": "markdown",
   "id": "164073d4",
   "metadata": {},
   "source": [
    "### 12、获取指定列数据"
   ]
  },
  {
   "cell_type": "code",
   "execution_count": 26,
   "id": "4373307f",
   "metadata": {},
   "outputs": [
    {
     "data": {
      "text/html": [
       "<div>\n",
       "<style scoped>\n",
       "    .dataframe tbody tr th:only-of-type {\n",
       "        vertical-align: middle;\n",
       "    }\n",
       "\n",
       "    .dataframe tbody tr th {\n",
       "        vertical-align: top;\n",
       "    }\n",
       "\n",
       "    .dataframe thead th {\n",
       "        text-align: right;\n",
       "    }\n",
       "</style>\n",
       "<table border=\"1\" class=\"dataframe\">\n",
       "  <thead>\n",
       "    <tr style=\"text-align: right;\">\n",
       "      <th></th>\n",
       "      <th>A</th>\n",
       "      <th>B</th>\n",
       "      <th>C</th>\n",
       "      <th>D</th>\n",
       "    </tr>\n",
       "  </thead>\n",
       "  <tbody>\n",
       "    <tr>\n",
       "      <th>2013-01-01</th>\n",
       "      <td>0.346420</td>\n",
       "      <td>-0.773438</td>\n",
       "      <td>-1.671157</td>\n",
       "      <td>-0.400386</td>\n",
       "    </tr>\n",
       "    <tr>\n",
       "      <th>2013-01-02</th>\n",
       "      <td>1.043511</td>\n",
       "      <td>1.096944</td>\n",
       "      <td>0.441934</td>\n",
       "      <td>-0.445428</td>\n",
       "    </tr>\n",
       "    <tr>\n",
       "      <th>2013-01-03</th>\n",
       "      <td>0.717100</td>\n",
       "      <td>0.048022</td>\n",
       "      <td>2.038377</td>\n",
       "      <td>0.509018</td>\n",
       "    </tr>\n",
       "    <tr>\n",
       "      <th>2013-01-04</th>\n",
       "      <td>-1.244099</td>\n",
       "      <td>-0.984392</td>\n",
       "      <td>-3.030937</td>\n",
       "      <td>-0.753909</td>\n",
       "    </tr>\n",
       "    <tr>\n",
       "      <th>2013-01-05</th>\n",
       "      <td>-0.167156</td>\n",
       "      <td>-0.531300</td>\n",
       "      <td>-0.182683</td>\n",
       "      <td>-0.782313</td>\n",
       "    </tr>\n",
       "    <tr>\n",
       "      <th>2013-01-06</th>\n",
       "      <td>1.866509</td>\n",
       "      <td>0.798083</td>\n",
       "      <td>-0.455088</td>\n",
       "      <td>-0.908690</td>\n",
       "    </tr>\n",
       "  </tbody>\n",
       "</table>\n",
       "</div>"
      ],
      "text/plain": [
       "                   A         B         C         D\n",
       "2013-01-01  0.346420 -0.773438 -1.671157 -0.400386\n",
       "2013-01-02  1.043511  1.096944  0.441934 -0.445428\n",
       "2013-01-03  0.717100  0.048022  2.038377  0.509018\n",
       "2013-01-04 -1.244099 -0.984392 -3.030937 -0.753909\n",
       "2013-01-05 -0.167156 -0.531300 -0.182683 -0.782313\n",
       "2013-01-06  1.866509  0.798083 -0.455088 -0.908690"
      ]
     },
     "execution_count": 26,
     "metadata": {},
     "output_type": "execute_result"
    }
   ],
   "source": [
    "df"
   ]
  },
  {
   "cell_type": "code",
   "execution_count": 27,
   "id": "d791a6ed",
   "metadata": {},
   "outputs": [
    {
     "data": {
      "text/plain": [
       "2013-01-01    0.346420\n",
       "2013-01-02    1.043511\n",
       "2013-01-03    0.717100\n",
       "2013-01-04   -1.244099\n",
       "2013-01-05   -0.167156\n",
       "2013-01-06    1.866509\n",
       "Freq: D, Name: A, dtype: float64"
      ]
     },
     "execution_count": 27,
     "metadata": {},
     "output_type": "execute_result"
    }
   ],
   "source": [
    "df[\"A\"]"
   ]
  },
  {
   "cell_type": "code",
   "execution_count": 28,
   "id": "37f20dc7",
   "metadata": {},
   "outputs": [
    {
     "data": {
      "text/plain": [
       "2013-01-01    0.346420\n",
       "2013-01-02    1.043511\n",
       "2013-01-03    0.717100\n",
       "2013-01-04   -1.244099\n",
       "2013-01-05   -0.167156\n",
       "2013-01-06    1.866509\n",
       "Freq: D, Name: A, dtype: float64"
      ]
     },
     "execution_count": 28,
     "metadata": {},
     "output_type": "execute_result"
    }
   ],
   "source": [
    "df.A"
   ]
  },
  {
   "cell_type": "markdown",
   "id": "583730ea",
   "metadata": {},
   "source": [
    "### 13、通过切片方式获取指定行数据"
   ]
  },
  {
   "cell_type": "code",
   "execution_count": 29,
   "id": "32e82da1",
   "metadata": {},
   "outputs": [
    {
     "data": {
      "text/html": [
       "<div>\n",
       "<style scoped>\n",
       "    .dataframe tbody tr th:only-of-type {\n",
       "        vertical-align: middle;\n",
       "    }\n",
       "\n",
       "    .dataframe tbody tr th {\n",
       "        vertical-align: top;\n",
       "    }\n",
       "\n",
       "    .dataframe thead th {\n",
       "        text-align: right;\n",
       "    }\n",
       "</style>\n",
       "<table border=\"1\" class=\"dataframe\">\n",
       "  <thead>\n",
       "    <tr style=\"text-align: right;\">\n",
       "      <th></th>\n",
       "      <th>A</th>\n",
       "      <th>B</th>\n",
       "      <th>C</th>\n",
       "      <th>D</th>\n",
       "    </tr>\n",
       "  </thead>\n",
       "  <tbody>\n",
       "    <tr>\n",
       "      <th>2013-01-01</th>\n",
       "      <td>0.346420</td>\n",
       "      <td>-0.773438</td>\n",
       "      <td>-1.671157</td>\n",
       "      <td>-0.400386</td>\n",
       "    </tr>\n",
       "    <tr>\n",
       "      <th>2013-01-02</th>\n",
       "      <td>1.043511</td>\n",
       "      <td>1.096944</td>\n",
       "      <td>0.441934</td>\n",
       "      <td>-0.445428</td>\n",
       "    </tr>\n",
       "    <tr>\n",
       "      <th>2013-01-03</th>\n",
       "      <td>0.717100</td>\n",
       "      <td>0.048022</td>\n",
       "      <td>2.038377</td>\n",
       "      <td>0.509018</td>\n",
       "    </tr>\n",
       "    <tr>\n",
       "      <th>2013-01-04</th>\n",
       "      <td>-1.244099</td>\n",
       "      <td>-0.984392</td>\n",
       "      <td>-3.030937</td>\n",
       "      <td>-0.753909</td>\n",
       "    </tr>\n",
       "    <tr>\n",
       "      <th>2013-01-05</th>\n",
       "      <td>-0.167156</td>\n",
       "      <td>-0.531300</td>\n",
       "      <td>-0.182683</td>\n",
       "      <td>-0.782313</td>\n",
       "    </tr>\n",
       "    <tr>\n",
       "      <th>2013-01-06</th>\n",
       "      <td>1.866509</td>\n",
       "      <td>0.798083</td>\n",
       "      <td>-0.455088</td>\n",
       "      <td>-0.908690</td>\n",
       "    </tr>\n",
       "  </tbody>\n",
       "</table>\n",
       "</div>"
      ],
      "text/plain": [
       "                   A         B         C         D\n",
       "2013-01-01  0.346420 -0.773438 -1.671157 -0.400386\n",
       "2013-01-02  1.043511  1.096944  0.441934 -0.445428\n",
       "2013-01-03  0.717100  0.048022  2.038377  0.509018\n",
       "2013-01-04 -1.244099 -0.984392 -3.030937 -0.753909\n",
       "2013-01-05 -0.167156 -0.531300 -0.182683 -0.782313\n",
       "2013-01-06  1.866509  0.798083 -0.455088 -0.908690"
      ]
     },
     "execution_count": 29,
     "metadata": {},
     "output_type": "execute_result"
    }
   ],
   "source": [
    "df"
   ]
  },
  {
   "cell_type": "code",
   "execution_count": 30,
   "id": "97455443",
   "metadata": {},
   "outputs": [
    {
     "data": {
      "text/html": [
       "<div>\n",
       "<style scoped>\n",
       "    .dataframe tbody tr th:only-of-type {\n",
       "        vertical-align: middle;\n",
       "    }\n",
       "\n",
       "    .dataframe tbody tr th {\n",
       "        vertical-align: top;\n",
       "    }\n",
       "\n",
       "    .dataframe thead th {\n",
       "        text-align: right;\n",
       "    }\n",
       "</style>\n",
       "<table border=\"1\" class=\"dataframe\">\n",
       "  <thead>\n",
       "    <tr style=\"text-align: right;\">\n",
       "      <th></th>\n",
       "      <th>A</th>\n",
       "      <th>B</th>\n",
       "      <th>C</th>\n",
       "      <th>D</th>\n",
       "    </tr>\n",
       "  </thead>\n",
       "  <tbody>\n",
       "    <tr>\n",
       "      <th>2013-01-02</th>\n",
       "      <td>1.043511</td>\n",
       "      <td>1.096944</td>\n",
       "      <td>0.441934</td>\n",
       "      <td>-0.445428</td>\n",
       "    </tr>\n",
       "    <tr>\n",
       "      <th>2013-01-03</th>\n",
       "      <td>0.717100</td>\n",
       "      <td>0.048022</td>\n",
       "      <td>2.038377</td>\n",
       "      <td>0.509018</td>\n",
       "    </tr>\n",
       "  </tbody>\n",
       "</table>\n",
       "</div>"
      ],
      "text/plain": [
       "                   A         B         C         D\n",
       "2013-01-02  1.043511  1.096944  0.441934 -0.445428\n",
       "2013-01-03  0.717100  0.048022  2.038377  0.509018"
      ]
     },
     "execution_count": 30,
     "metadata": {},
     "output_type": "execute_result"
    }
   ],
   "source": [
    "df[1:3]"
   ]
  },
  {
   "cell_type": "code",
   "execution_count": 31,
   "id": "6ac3dce7",
   "metadata": {},
   "outputs": [
    {
     "data": {
      "text/html": [
       "<div>\n",
       "<style scoped>\n",
       "    .dataframe tbody tr th:only-of-type {\n",
       "        vertical-align: middle;\n",
       "    }\n",
       "\n",
       "    .dataframe tbody tr th {\n",
       "        vertical-align: top;\n",
       "    }\n",
       "\n",
       "    .dataframe thead th {\n",
       "        text-align: right;\n",
       "    }\n",
       "</style>\n",
       "<table border=\"1\" class=\"dataframe\">\n",
       "  <thead>\n",
       "    <tr style=\"text-align: right;\">\n",
       "      <th></th>\n",
       "      <th>A</th>\n",
       "      <th>B</th>\n",
       "      <th>C</th>\n",
       "      <th>D</th>\n",
       "    </tr>\n",
       "  </thead>\n",
       "  <tbody>\n",
       "    <tr>\n",
       "      <th>2013-01-02</th>\n",
       "      <td>1.043511</td>\n",
       "      <td>1.096944</td>\n",
       "      <td>0.441934</td>\n",
       "      <td>-0.445428</td>\n",
       "    </tr>\n",
       "    <tr>\n",
       "      <th>2013-01-03</th>\n",
       "      <td>0.717100</td>\n",
       "      <td>0.048022</td>\n",
       "      <td>2.038377</td>\n",
       "      <td>0.509018</td>\n",
       "    </tr>\n",
       "  </tbody>\n",
       "</table>\n",
       "</div>"
      ],
      "text/plain": [
       "                   A         B         C         D\n",
       "2013-01-02  1.043511  1.096944  0.441934 -0.445428\n",
       "2013-01-03  0.717100  0.048022  2.038377  0.509018"
      ]
     },
     "execution_count": 31,
     "metadata": {},
     "output_type": "execute_result"
    }
   ],
   "source": [
    "df[\"20130102\":\"20130103\"]"
   ]
  },
  {
   "cell_type": "markdown",
   "id": "15da92ba",
   "metadata": {},
   "source": [
    "### 14、根据标签选择数据"
   ]
  },
  {
   "cell_type": "code",
   "execution_count": 32,
   "id": "118b6838",
   "metadata": {},
   "outputs": [
    {
     "data": {
      "text/plain": [
       "DatetimeIndex(['2013-01-01', '2013-01-02', '2013-01-03', '2013-01-04',\n",
       "               '2013-01-05', '2013-01-06'],\n",
       "              dtype='datetime64[ns]', freq='D')"
      ]
     },
     "execution_count": 32,
     "metadata": {},
     "output_type": "execute_result"
    }
   ],
   "source": [
    "dates"
   ]
  },
  {
   "cell_type": "code",
   "execution_count": 33,
   "id": "a076777e",
   "metadata": {},
   "outputs": [
    {
     "data": {
      "text/plain": [
       "A    0.346420\n",
       "B   -0.773438\n",
       "C   -1.671157\n",
       "D   -0.400386\n",
       "Name: 2013-01-01 00:00:00, dtype: float64"
      ]
     },
     "execution_count": 33,
     "metadata": {},
     "output_type": "execute_result"
    }
   ],
   "source": [
    "df.loc[dates[0]] # 索引"
   ]
  },
  {
   "cell_type": "code",
   "execution_count": 34,
   "id": "2ba79ab3",
   "metadata": {},
   "outputs": [
    {
     "data": {
      "text/html": [
       "<div>\n",
       "<style scoped>\n",
       "    .dataframe tbody tr th:only-of-type {\n",
       "        vertical-align: middle;\n",
       "    }\n",
       "\n",
       "    .dataframe tbody tr th {\n",
       "        vertical-align: top;\n",
       "    }\n",
       "\n",
       "    .dataframe thead th {\n",
       "        text-align: right;\n",
       "    }\n",
       "</style>\n",
       "<table border=\"1\" class=\"dataframe\">\n",
       "  <thead>\n",
       "    <tr style=\"text-align: right;\">\n",
       "      <th></th>\n",
       "      <th>A</th>\n",
       "      <th>C</th>\n",
       "    </tr>\n",
       "  </thead>\n",
       "  <tbody>\n",
       "    <tr>\n",
       "      <th>2013-01-01</th>\n",
       "      <td>0.346420</td>\n",
       "      <td>-1.671157</td>\n",
       "    </tr>\n",
       "    <tr>\n",
       "      <th>2013-01-02</th>\n",
       "      <td>1.043511</td>\n",
       "      <td>0.441934</td>\n",
       "    </tr>\n",
       "    <tr>\n",
       "      <th>2013-01-03</th>\n",
       "      <td>0.717100</td>\n",
       "      <td>2.038377</td>\n",
       "    </tr>\n",
       "    <tr>\n",
       "      <th>2013-01-04</th>\n",
       "      <td>-1.244099</td>\n",
       "      <td>-3.030937</td>\n",
       "    </tr>\n",
       "    <tr>\n",
       "      <th>2013-01-05</th>\n",
       "      <td>-0.167156</td>\n",
       "      <td>-0.182683</td>\n",
       "    </tr>\n",
       "    <tr>\n",
       "      <th>2013-01-06</th>\n",
       "      <td>1.866509</td>\n",
       "      <td>-0.455088</td>\n",
       "    </tr>\n",
       "  </tbody>\n",
       "</table>\n",
       "</div>"
      ],
      "text/plain": [
       "                   A         C\n",
       "2013-01-01  0.346420 -1.671157\n",
       "2013-01-02  1.043511  0.441934\n",
       "2013-01-03  0.717100  2.038377\n",
       "2013-01-04 -1.244099 -3.030937\n",
       "2013-01-05 -0.167156 -0.182683\n",
       "2013-01-06  1.866509 -0.455088"
      ]
     },
     "execution_count": 34,
     "metadata": {},
     "output_type": "execute_result"
    }
   ],
   "source": [
    "df.loc[:, [\"A\", \"C\"]] # 参数1：索引范围，参数2：列名"
   ]
  },
  {
   "cell_type": "code",
   "execution_count": 36,
   "id": "e9949934",
   "metadata": {},
   "outputs": [
    {
     "data": {
      "text/html": [
       "<div>\n",
       "<style scoped>\n",
       "    .dataframe tbody tr th:only-of-type {\n",
       "        vertical-align: middle;\n",
       "    }\n",
       "\n",
       "    .dataframe tbody tr th {\n",
       "        vertical-align: top;\n",
       "    }\n",
       "\n",
       "    .dataframe thead th {\n",
       "        text-align: right;\n",
       "    }\n",
       "</style>\n",
       "<table border=\"1\" class=\"dataframe\">\n",
       "  <thead>\n",
       "    <tr style=\"text-align: right;\">\n",
       "      <th></th>\n",
       "      <th>A</th>\n",
       "      <th>C</th>\n",
       "    </tr>\n",
       "  </thead>\n",
       "  <tbody>\n",
       "    <tr>\n",
       "      <th>2013-01-02</th>\n",
       "      <td>1.043511</td>\n",
       "      <td>0.441934</td>\n",
       "    </tr>\n",
       "    <tr>\n",
       "      <th>2013-01-03</th>\n",
       "      <td>0.717100</td>\n",
       "      <td>2.038377</td>\n",
       "    </tr>\n",
       "    <tr>\n",
       "      <th>2013-01-04</th>\n",
       "      <td>-1.244099</td>\n",
       "      <td>-3.030937</td>\n",
       "    </tr>\n",
       "  </tbody>\n",
       "</table>\n",
       "</div>"
      ],
      "text/plain": [
       "                   A         C\n",
       "2013-01-02  1.043511  0.441934\n",
       "2013-01-03  0.717100  2.038377\n",
       "2013-01-04 -1.244099 -3.030937"
      ]
     },
     "execution_count": 36,
     "metadata": {},
     "output_type": "execute_result"
    }
   ],
   "source": [
    "df.loc[\"20130102\": \"20130104\", [\"A\", \"C\"]]"
   ]
  },
  {
   "cell_type": "code",
   "execution_count": 38,
   "id": "2c9c1265",
   "metadata": {},
   "outputs": [
    {
     "data": {
      "text/plain": [
       "A    0.346420\n",
       "C   -1.671157\n",
       "Name: 2013-01-01 00:00:00, dtype: float64"
      ]
     },
     "execution_count": 38,
     "metadata": {},
     "output_type": "execute_result"
    }
   ],
   "source": [
    "df.loc[\"20130101\", [\"A\", \"C\"]] "
   ]
  },
  {
   "cell_type": "markdown",
   "id": "84894ed1",
   "metadata": {},
   "source": [
    "### 15、获取指定值"
   ]
  },
  {
   "cell_type": "code",
   "execution_count": 39,
   "id": "013bbfae",
   "metadata": {},
   "outputs": [
    {
     "data": {
      "text/plain": [
       "0.3464199409258815"
      ]
     },
     "execution_count": 39,
     "metadata": {},
     "output_type": "execute_result"
    }
   ],
   "source": [
    "df.loc[dates[0], \"A\"]"
   ]
  },
  {
   "cell_type": "code",
   "execution_count": 40,
   "id": "f7dbeab2",
   "metadata": {},
   "outputs": [
    {
     "data": {
      "text/plain": [
       "0.3464199409258815"
      ]
     },
     "execution_count": 40,
     "metadata": {},
     "output_type": "execute_result"
    }
   ],
   "source": [
    "df.at[dates[0], \"A\"]"
   ]
  },
  {
   "cell_type": "markdown",
   "id": "5ed04100",
   "metadata": {},
   "source": [
    "### 16、通过索引获取数据"
   ]
  },
  {
   "cell_type": "code",
   "execution_count": 41,
   "id": "51cfd908",
   "metadata": {},
   "outputs": [
    {
     "data": {
      "text/plain": [
       "A    0.346420\n",
       "B   -0.773438\n",
       "C   -1.671157\n",
       "D   -0.400386\n",
       "Name: 2013-01-01 00:00:00, dtype: float64"
      ]
     },
     "execution_count": 41,
     "metadata": {},
     "output_type": "execute_result"
    }
   ],
   "source": [
    "df.iloc[0]"
   ]
  },
  {
   "cell_type": "markdown",
   "id": "36b0ebd4",
   "metadata": {},
   "source": [
    "### 17、通过切片获取数据"
   ]
  },
  {
   "cell_type": "code",
   "execution_count": 42,
   "id": "e8fb571a",
   "metadata": {},
   "outputs": [
    {
     "data": {
      "text/html": [
       "<div>\n",
       "<style scoped>\n",
       "    .dataframe tbody tr th:only-of-type {\n",
       "        vertical-align: middle;\n",
       "    }\n",
       "\n",
       "    .dataframe tbody tr th {\n",
       "        vertical-align: top;\n",
       "    }\n",
       "\n",
       "    .dataframe thead th {\n",
       "        text-align: right;\n",
       "    }\n",
       "</style>\n",
       "<table border=\"1\" class=\"dataframe\">\n",
       "  <thead>\n",
       "    <tr style=\"text-align: right;\">\n",
       "      <th></th>\n",
       "      <th>A</th>\n",
       "      <th>B</th>\n",
       "    </tr>\n",
       "  </thead>\n",
       "  <tbody>\n",
       "    <tr>\n",
       "      <th>2013-01-04</th>\n",
       "      <td>-1.244099</td>\n",
       "      <td>-0.984392</td>\n",
       "    </tr>\n",
       "    <tr>\n",
       "      <th>2013-01-05</th>\n",
       "      <td>-0.167156</td>\n",
       "      <td>-0.531300</td>\n",
       "    </tr>\n",
       "  </tbody>\n",
       "</table>\n",
       "</div>"
      ],
      "text/plain": [
       "                   A         B\n",
       "2013-01-04 -1.244099 -0.984392\n",
       "2013-01-05 -0.167156 -0.531300"
      ]
     },
     "execution_count": 42,
     "metadata": {},
     "output_type": "execute_result"
    }
   ],
   "source": [
    "df.iloc[3:5, 0:2]"
   ]
  },
  {
   "cell_type": "code",
   "execution_count": 43,
   "id": "0f1b2bf9",
   "metadata": {},
   "outputs": [
    {
     "data": {
      "text/html": [
       "<div>\n",
       "<style scoped>\n",
       "    .dataframe tbody tr th:only-of-type {\n",
       "        vertical-align: middle;\n",
       "    }\n",
       "\n",
       "    .dataframe tbody tr th {\n",
       "        vertical-align: top;\n",
       "    }\n",
       "\n",
       "    .dataframe thead th {\n",
       "        text-align: right;\n",
       "    }\n",
       "</style>\n",
       "<table border=\"1\" class=\"dataframe\">\n",
       "  <thead>\n",
       "    <tr style=\"text-align: right;\">\n",
       "      <th></th>\n",
       "      <th>A</th>\n",
       "      <th>B</th>\n",
       "      <th>C</th>\n",
       "      <th>D</th>\n",
       "    </tr>\n",
       "  </thead>\n",
       "  <tbody>\n",
       "    <tr>\n",
       "      <th>2013-01-02</th>\n",
       "      <td>1.043511</td>\n",
       "      <td>1.096944</td>\n",
       "      <td>0.441934</td>\n",
       "      <td>-0.445428</td>\n",
       "    </tr>\n",
       "    <tr>\n",
       "      <th>2013-01-03</th>\n",
       "      <td>0.717100</td>\n",
       "      <td>0.048022</td>\n",
       "      <td>2.038377</td>\n",
       "      <td>0.509018</td>\n",
       "    </tr>\n",
       "  </tbody>\n",
       "</table>\n",
       "</div>"
      ],
      "text/plain": [
       "                   A         B         C         D\n",
       "2013-01-02  1.043511  1.096944  0.441934 -0.445428\n",
       "2013-01-03  0.717100  0.048022  2.038377  0.509018"
      ]
     },
     "execution_count": 43,
     "metadata": {},
     "output_type": "execute_result"
    }
   ],
   "source": [
    "df.iloc[1:3]"
   ]
  },
  {
   "cell_type": "code",
   "execution_count": 45,
   "id": "c2ec9229",
   "metadata": {},
   "outputs": [
    {
     "data": {
      "text/html": [
       "<div>\n",
       "<style scoped>\n",
       "    .dataframe tbody tr th:only-of-type {\n",
       "        vertical-align: middle;\n",
       "    }\n",
       "\n",
       "    .dataframe tbody tr th {\n",
       "        vertical-align: top;\n",
       "    }\n",
       "\n",
       "    .dataframe thead th {\n",
       "        text-align: right;\n",
       "    }\n",
       "</style>\n",
       "<table border=\"1\" class=\"dataframe\">\n",
       "  <thead>\n",
       "    <tr style=\"text-align: right;\">\n",
       "      <th></th>\n",
       "      <th>C</th>\n",
       "      <th>D</th>\n",
       "    </tr>\n",
       "  </thead>\n",
       "  <tbody>\n",
       "    <tr>\n",
       "      <th>2013-01-01</th>\n",
       "      <td>-1.671157</td>\n",
       "      <td>-0.400386</td>\n",
       "    </tr>\n",
       "    <tr>\n",
       "      <th>2013-01-02</th>\n",
       "      <td>0.441934</td>\n",
       "      <td>-0.445428</td>\n",
       "    </tr>\n",
       "    <tr>\n",
       "      <th>2013-01-04</th>\n",
       "      <td>-3.030937</td>\n",
       "      <td>-0.753909</td>\n",
       "    </tr>\n",
       "  </tbody>\n",
       "</table>\n",
       "</div>"
      ],
      "text/plain": [
       "                   C         D\n",
       "2013-01-01 -1.671157 -0.400386\n",
       "2013-01-02  0.441934 -0.445428\n",
       "2013-01-04 -3.030937 -0.753909"
      ]
     },
     "execution_count": 45,
     "metadata": {},
     "output_type": "execute_result"
    }
   ],
   "source": [
    "df.iloc[[0, 1, 3], [2, 3]]"
   ]
  },
  {
   "cell_type": "markdown",
   "id": "e548d5fa",
   "metadata": {},
   "source": [
    "### 18、通过索引获取指定值"
   ]
  },
  {
   "cell_type": "code",
   "execution_count": 46,
   "id": "02b382d0",
   "metadata": {},
   "outputs": [
    {
     "data": {
      "text/plain": [
       "0.3464199409258815"
      ]
     },
     "execution_count": 46,
     "metadata": {},
     "output_type": "execute_result"
    }
   ],
   "source": [
    "df.iloc[0, 0]"
   ]
  },
  {
   "cell_type": "code",
   "execution_count": 47,
   "id": "56ab4f7d",
   "metadata": {},
   "outputs": [
    {
     "data": {
      "text/plain": [
       "0.3464199409258815"
      ]
     },
     "execution_count": 47,
     "metadata": {},
     "output_type": "execute_result"
    }
   ],
   "source": [
    "df.iat[0, 0]"
   ]
  },
  {
   "cell_type": "markdown",
   "id": "89877b1b",
   "metadata": {},
   "source": [
    "### 19、条件筛选数据"
   ]
  },
  {
   "cell_type": "code",
   "execution_count": 48,
   "id": "2d7c40fd",
   "metadata": {},
   "outputs": [
    {
     "data": {
      "text/html": [
       "<div>\n",
       "<style scoped>\n",
       "    .dataframe tbody tr th:only-of-type {\n",
       "        vertical-align: middle;\n",
       "    }\n",
       "\n",
       "    .dataframe tbody tr th {\n",
       "        vertical-align: top;\n",
       "    }\n",
       "\n",
       "    .dataframe thead th {\n",
       "        text-align: right;\n",
       "    }\n",
       "</style>\n",
       "<table border=\"1\" class=\"dataframe\">\n",
       "  <thead>\n",
       "    <tr style=\"text-align: right;\">\n",
       "      <th></th>\n",
       "      <th>A</th>\n",
       "      <th>B</th>\n",
       "      <th>C</th>\n",
       "      <th>D</th>\n",
       "    </tr>\n",
       "  </thead>\n",
       "  <tbody>\n",
       "    <tr>\n",
       "      <th>2013-01-01</th>\n",
       "      <td>0.346420</td>\n",
       "      <td>-0.773438</td>\n",
       "      <td>-1.671157</td>\n",
       "      <td>-0.400386</td>\n",
       "    </tr>\n",
       "    <tr>\n",
       "      <th>2013-01-02</th>\n",
       "      <td>1.043511</td>\n",
       "      <td>1.096944</td>\n",
       "      <td>0.441934</td>\n",
       "      <td>-0.445428</td>\n",
       "    </tr>\n",
       "    <tr>\n",
       "      <th>2013-01-03</th>\n",
       "      <td>0.717100</td>\n",
       "      <td>0.048022</td>\n",
       "      <td>2.038377</td>\n",
       "      <td>0.509018</td>\n",
       "    </tr>\n",
       "    <tr>\n",
       "      <th>2013-01-06</th>\n",
       "      <td>1.866509</td>\n",
       "      <td>0.798083</td>\n",
       "      <td>-0.455088</td>\n",
       "      <td>-0.908690</td>\n",
       "    </tr>\n",
       "  </tbody>\n",
       "</table>\n",
       "</div>"
      ],
      "text/plain": [
       "                   A         B         C         D\n",
       "2013-01-01  0.346420 -0.773438 -1.671157 -0.400386\n",
       "2013-01-02  1.043511  1.096944  0.441934 -0.445428\n",
       "2013-01-03  0.717100  0.048022  2.038377  0.509018\n",
       "2013-01-06  1.866509  0.798083 -0.455088 -0.908690"
      ]
     },
     "execution_count": 48,
     "metadata": {},
     "output_type": "execute_result"
    }
   ],
   "source": [
    "df[df[\"A\"] > 0] # 指定列数据"
   ]
  },
  {
   "cell_type": "code",
   "execution_count": 49,
   "id": "5a8970da",
   "metadata": {},
   "outputs": [
    {
     "data": {
      "text/html": [
       "<div>\n",
       "<style scoped>\n",
       "    .dataframe tbody tr th:only-of-type {\n",
       "        vertical-align: middle;\n",
       "    }\n",
       "\n",
       "    .dataframe tbody tr th {\n",
       "        vertical-align: top;\n",
       "    }\n",
       "\n",
       "    .dataframe thead th {\n",
       "        text-align: right;\n",
       "    }\n",
       "</style>\n",
       "<table border=\"1\" class=\"dataframe\">\n",
       "  <thead>\n",
       "    <tr style=\"text-align: right;\">\n",
       "      <th></th>\n",
       "      <th>A</th>\n",
       "      <th>B</th>\n",
       "      <th>C</th>\n",
       "      <th>D</th>\n",
       "    </tr>\n",
       "  </thead>\n",
       "  <tbody>\n",
       "    <tr>\n",
       "      <th>2013-01-04</th>\n",
       "      <td>-1.244099</td>\n",
       "      <td>-0.984392</td>\n",
       "      <td>-3.030937</td>\n",
       "      <td>-0.753909</td>\n",
       "    </tr>\n",
       "    <tr>\n",
       "      <th>2013-01-05</th>\n",
       "      <td>-0.167156</td>\n",
       "      <td>-0.531300</td>\n",
       "      <td>-0.182683</td>\n",
       "      <td>-0.782313</td>\n",
       "    </tr>\n",
       "  </tbody>\n",
       "</table>\n",
       "</div>"
      ],
      "text/plain": [
       "                   A         B         C         D\n",
       "2013-01-04 -1.244099 -0.984392 -3.030937 -0.753909\n",
       "2013-01-05 -0.167156 -0.531300 -0.182683 -0.782313"
      ]
     },
     "execution_count": 49,
     "metadata": {},
     "output_type": "execute_result"
    }
   ],
   "source": [
    "df[df[\"A\"] < 0]"
   ]
  },
  {
   "cell_type": "code",
   "execution_count": 50,
   "id": "936d25f4",
   "metadata": {},
   "outputs": [
    {
     "data": {
      "text/html": [
       "<div>\n",
       "<style scoped>\n",
       "    .dataframe tbody tr th:only-of-type {\n",
       "        vertical-align: middle;\n",
       "    }\n",
       "\n",
       "    .dataframe tbody tr th {\n",
       "        vertical-align: top;\n",
       "    }\n",
       "\n",
       "    .dataframe thead th {\n",
       "        text-align: right;\n",
       "    }\n",
       "</style>\n",
       "<table border=\"1\" class=\"dataframe\">\n",
       "  <thead>\n",
       "    <tr style=\"text-align: right;\">\n",
       "      <th></th>\n",
       "      <th>A</th>\n",
       "      <th>B</th>\n",
       "      <th>C</th>\n",
       "      <th>D</th>\n",
       "    </tr>\n",
       "  </thead>\n",
       "  <tbody>\n",
       "    <tr>\n",
       "      <th>2013-01-01</th>\n",
       "      <td>0.346420</td>\n",
       "      <td>NaN</td>\n",
       "      <td>NaN</td>\n",
       "      <td>NaN</td>\n",
       "    </tr>\n",
       "    <tr>\n",
       "      <th>2013-01-02</th>\n",
       "      <td>1.043511</td>\n",
       "      <td>1.096944</td>\n",
       "      <td>0.441934</td>\n",
       "      <td>NaN</td>\n",
       "    </tr>\n",
       "    <tr>\n",
       "      <th>2013-01-03</th>\n",
       "      <td>0.717100</td>\n",
       "      <td>0.048022</td>\n",
       "      <td>2.038377</td>\n",
       "      <td>0.509018</td>\n",
       "    </tr>\n",
       "    <tr>\n",
       "      <th>2013-01-04</th>\n",
       "      <td>NaN</td>\n",
       "      <td>NaN</td>\n",
       "      <td>NaN</td>\n",
       "      <td>NaN</td>\n",
       "    </tr>\n",
       "    <tr>\n",
       "      <th>2013-01-05</th>\n",
       "      <td>NaN</td>\n",
       "      <td>NaN</td>\n",
       "      <td>NaN</td>\n",
       "      <td>NaN</td>\n",
       "    </tr>\n",
       "    <tr>\n",
       "      <th>2013-01-06</th>\n",
       "      <td>1.866509</td>\n",
       "      <td>0.798083</td>\n",
       "      <td>NaN</td>\n",
       "      <td>NaN</td>\n",
       "    </tr>\n",
       "  </tbody>\n",
       "</table>\n",
       "</div>"
      ],
      "text/plain": [
       "                   A         B         C         D\n",
       "2013-01-01  0.346420       NaN       NaN       NaN\n",
       "2013-01-02  1.043511  1.096944  0.441934       NaN\n",
       "2013-01-03  0.717100  0.048022  2.038377  0.509018\n",
       "2013-01-04       NaN       NaN       NaN       NaN\n",
       "2013-01-05       NaN       NaN       NaN       NaN\n",
       "2013-01-06  1.866509  0.798083       NaN       NaN"
      ]
     },
     "execution_count": 50,
     "metadata": {},
     "output_type": "execute_result"
    }
   ],
   "source": [
    "df[df > 0]  # 筛选整个对象数据"
   ]
  },
  {
   "cell_type": "markdown",
   "id": "f9a3a015",
   "metadata": {},
   "source": [
    "### 20、通过 isin() 函数筛选数据"
   ]
  },
  {
   "cell_type": "code",
   "execution_count": 51,
   "id": "ab0eaaa7",
   "metadata": {},
   "outputs": [],
   "source": [
    "df2 = df.copy()  # 复制对象"
   ]
  },
  {
   "cell_type": "code",
   "execution_count": 52,
   "id": "86bfb162",
   "metadata": {},
   "outputs": [],
   "source": [
    "df2[\"E\"] = [\"one\", \"one\", \"two\", \"three\", \"four\", \"three\"] # 插入列数据"
   ]
  },
  {
   "cell_type": "code",
   "execution_count": 53,
   "id": "5a81bcc9",
   "metadata": {},
   "outputs": [
    {
     "data": {
      "text/html": [
       "<div>\n",
       "<style scoped>\n",
       "    .dataframe tbody tr th:only-of-type {\n",
       "        vertical-align: middle;\n",
       "    }\n",
       "\n",
       "    .dataframe tbody tr th {\n",
       "        vertical-align: top;\n",
       "    }\n",
       "\n",
       "    .dataframe thead th {\n",
       "        text-align: right;\n",
       "    }\n",
       "</style>\n",
       "<table border=\"1\" class=\"dataframe\">\n",
       "  <thead>\n",
       "    <tr style=\"text-align: right;\">\n",
       "      <th></th>\n",
       "      <th>A</th>\n",
       "      <th>B</th>\n",
       "      <th>C</th>\n",
       "      <th>D</th>\n",
       "      <th>E</th>\n",
       "    </tr>\n",
       "  </thead>\n",
       "  <tbody>\n",
       "    <tr>\n",
       "      <th>2013-01-01</th>\n",
       "      <td>0.346420</td>\n",
       "      <td>-0.773438</td>\n",
       "      <td>-1.671157</td>\n",
       "      <td>-0.400386</td>\n",
       "      <td>one</td>\n",
       "    </tr>\n",
       "    <tr>\n",
       "      <th>2013-01-02</th>\n",
       "      <td>1.043511</td>\n",
       "      <td>1.096944</td>\n",
       "      <td>0.441934</td>\n",
       "      <td>-0.445428</td>\n",
       "      <td>one</td>\n",
       "    </tr>\n",
       "    <tr>\n",
       "      <th>2013-01-03</th>\n",
       "      <td>0.717100</td>\n",
       "      <td>0.048022</td>\n",
       "      <td>2.038377</td>\n",
       "      <td>0.509018</td>\n",
       "      <td>two</td>\n",
       "    </tr>\n",
       "    <tr>\n",
       "      <th>2013-01-04</th>\n",
       "      <td>-1.244099</td>\n",
       "      <td>-0.984392</td>\n",
       "      <td>-3.030937</td>\n",
       "      <td>-0.753909</td>\n",
       "      <td>three</td>\n",
       "    </tr>\n",
       "    <tr>\n",
       "      <th>2013-01-05</th>\n",
       "      <td>-0.167156</td>\n",
       "      <td>-0.531300</td>\n",
       "      <td>-0.182683</td>\n",
       "      <td>-0.782313</td>\n",
       "      <td>four</td>\n",
       "    </tr>\n",
       "    <tr>\n",
       "      <th>2013-01-06</th>\n",
       "      <td>1.866509</td>\n",
       "      <td>0.798083</td>\n",
       "      <td>-0.455088</td>\n",
       "      <td>-0.908690</td>\n",
       "      <td>three</td>\n",
       "    </tr>\n",
       "  </tbody>\n",
       "</table>\n",
       "</div>"
      ],
      "text/plain": [
       "                   A         B         C         D      E\n",
       "2013-01-01  0.346420 -0.773438 -1.671157 -0.400386    one\n",
       "2013-01-02  1.043511  1.096944  0.441934 -0.445428    one\n",
       "2013-01-03  0.717100  0.048022  2.038377  0.509018    two\n",
       "2013-01-04 -1.244099 -0.984392 -3.030937 -0.753909  three\n",
       "2013-01-05 -0.167156 -0.531300 -0.182683 -0.782313   four\n",
       "2013-01-06  1.866509  0.798083 -0.455088 -0.908690  three"
      ]
     },
     "execution_count": 53,
     "metadata": {},
     "output_type": "execute_result"
    }
   ],
   "source": [
    "df2"
   ]
  },
  {
   "cell_type": "code",
   "execution_count": 54,
   "id": "d49c70b8",
   "metadata": {},
   "outputs": [
    {
     "data": {
      "text/html": [
       "<div>\n",
       "<style scoped>\n",
       "    .dataframe tbody tr th:only-of-type {\n",
       "        vertical-align: middle;\n",
       "    }\n",
       "\n",
       "    .dataframe tbody tr th {\n",
       "        vertical-align: top;\n",
       "    }\n",
       "\n",
       "    .dataframe thead th {\n",
       "        text-align: right;\n",
       "    }\n",
       "</style>\n",
       "<table border=\"1\" class=\"dataframe\">\n",
       "  <thead>\n",
       "    <tr style=\"text-align: right;\">\n",
       "      <th></th>\n",
       "      <th>A</th>\n",
       "      <th>B</th>\n",
       "      <th>C</th>\n",
       "      <th>D</th>\n",
       "      <th>E</th>\n",
       "    </tr>\n",
       "  </thead>\n",
       "  <tbody>\n",
       "    <tr>\n",
       "      <th>2013-01-01</th>\n",
       "      <td>0.346420</td>\n",
       "      <td>-0.773438</td>\n",
       "      <td>-1.671157</td>\n",
       "      <td>-0.400386</td>\n",
       "      <td>one</td>\n",
       "    </tr>\n",
       "    <tr>\n",
       "      <th>2013-01-02</th>\n",
       "      <td>1.043511</td>\n",
       "      <td>1.096944</td>\n",
       "      <td>0.441934</td>\n",
       "      <td>-0.445428</td>\n",
       "      <td>one</td>\n",
       "    </tr>\n",
       "  </tbody>\n",
       "</table>\n",
       "</div>"
      ],
      "text/plain": [
       "                   A         B         C         D    E\n",
       "2013-01-01  0.346420 -0.773438 -1.671157 -0.400386  one\n",
       "2013-01-02  1.043511  1.096944  0.441934 -0.445428  one"
      ]
     },
     "execution_count": 54,
     "metadata": {},
     "output_type": "execute_result"
    }
   ],
   "source": [
    "df2[df2[\"E\"].isin([\"one\"])]"
   ]
  },
  {
   "cell_type": "markdown",
   "id": "d53d4091",
   "metadata": {},
   "source": [
    "### 21、插入数据会通过索引自动对齐"
   ]
  },
  {
   "cell_type": "code",
   "execution_count": 55,
   "id": "adce8628",
   "metadata": {},
   "outputs": [],
   "source": [
    "s1 = pd.Series([1,2,3,4,5,6], index=pd.date_range(\"20130102\", periods=6))"
   ]
  },
  {
   "cell_type": "code",
   "execution_count": 56,
   "id": "e581dbb7",
   "metadata": {},
   "outputs": [
    {
     "data": {
      "text/plain": [
       "2013-01-02    1\n",
       "2013-01-03    2\n",
       "2013-01-04    3\n",
       "2013-01-05    4\n",
       "2013-01-06    5\n",
       "2013-01-07    6\n",
       "Freq: D, dtype: int64"
      ]
     },
     "execution_count": 56,
     "metadata": {},
     "output_type": "execute_result"
    }
   ],
   "source": [
    "s1"
   ]
  },
  {
   "cell_type": "code",
   "execution_count": 57,
   "id": "082943d7",
   "metadata": {},
   "outputs": [
    {
     "data": {
      "text/html": [
       "<div>\n",
       "<style scoped>\n",
       "    .dataframe tbody tr th:only-of-type {\n",
       "        vertical-align: middle;\n",
       "    }\n",
       "\n",
       "    .dataframe tbody tr th {\n",
       "        vertical-align: top;\n",
       "    }\n",
       "\n",
       "    .dataframe thead th {\n",
       "        text-align: right;\n",
       "    }\n",
       "</style>\n",
       "<table border=\"1\" class=\"dataframe\">\n",
       "  <thead>\n",
       "    <tr style=\"text-align: right;\">\n",
       "      <th></th>\n",
       "      <th>A</th>\n",
       "      <th>B</th>\n",
       "      <th>C</th>\n",
       "      <th>D</th>\n",
       "    </tr>\n",
       "  </thead>\n",
       "  <tbody>\n",
       "    <tr>\n",
       "      <th>2013-01-01</th>\n",
       "      <td>0.346420</td>\n",
       "      <td>-0.773438</td>\n",
       "      <td>-1.671157</td>\n",
       "      <td>-0.400386</td>\n",
       "    </tr>\n",
       "    <tr>\n",
       "      <th>2013-01-02</th>\n",
       "      <td>1.043511</td>\n",
       "      <td>1.096944</td>\n",
       "      <td>0.441934</td>\n",
       "      <td>-0.445428</td>\n",
       "    </tr>\n",
       "    <tr>\n",
       "      <th>2013-01-03</th>\n",
       "      <td>0.717100</td>\n",
       "      <td>0.048022</td>\n",
       "      <td>2.038377</td>\n",
       "      <td>0.509018</td>\n",
       "    </tr>\n",
       "    <tr>\n",
       "      <th>2013-01-04</th>\n",
       "      <td>-1.244099</td>\n",
       "      <td>-0.984392</td>\n",
       "      <td>-3.030937</td>\n",
       "      <td>-0.753909</td>\n",
       "    </tr>\n",
       "    <tr>\n",
       "      <th>2013-01-05</th>\n",
       "      <td>-0.167156</td>\n",
       "      <td>-0.531300</td>\n",
       "      <td>-0.182683</td>\n",
       "      <td>-0.782313</td>\n",
       "    </tr>\n",
       "    <tr>\n",
       "      <th>2013-01-06</th>\n",
       "      <td>1.866509</td>\n",
       "      <td>0.798083</td>\n",
       "      <td>-0.455088</td>\n",
       "      <td>-0.908690</td>\n",
       "    </tr>\n",
       "  </tbody>\n",
       "</table>\n",
       "</div>"
      ],
      "text/plain": [
       "                   A         B         C         D\n",
       "2013-01-01  0.346420 -0.773438 -1.671157 -0.400386\n",
       "2013-01-02  1.043511  1.096944  0.441934 -0.445428\n",
       "2013-01-03  0.717100  0.048022  2.038377  0.509018\n",
       "2013-01-04 -1.244099 -0.984392 -3.030937 -0.753909\n",
       "2013-01-05 -0.167156 -0.531300 -0.182683 -0.782313\n",
       "2013-01-06  1.866509  0.798083 -0.455088 -0.908690"
      ]
     },
     "execution_count": 57,
     "metadata": {},
     "output_type": "execute_result"
    }
   ],
   "source": [
    "df"
   ]
  },
  {
   "cell_type": "code",
   "execution_count": 58,
   "id": "7cf72d1f",
   "metadata": {},
   "outputs": [],
   "source": [
    "df[\"F\"] = s1  # 超出索引范围数据将删除"
   ]
  },
  {
   "cell_type": "code",
   "execution_count": 59,
   "id": "1c1e60ed",
   "metadata": {},
   "outputs": [
    {
     "data": {
      "text/html": [
       "<div>\n",
       "<style scoped>\n",
       "    .dataframe tbody tr th:only-of-type {\n",
       "        vertical-align: middle;\n",
       "    }\n",
       "\n",
       "    .dataframe tbody tr th {\n",
       "        vertical-align: top;\n",
       "    }\n",
       "\n",
       "    .dataframe thead th {\n",
       "        text-align: right;\n",
       "    }\n",
       "</style>\n",
       "<table border=\"1\" class=\"dataframe\">\n",
       "  <thead>\n",
       "    <tr style=\"text-align: right;\">\n",
       "      <th></th>\n",
       "      <th>A</th>\n",
       "      <th>B</th>\n",
       "      <th>C</th>\n",
       "      <th>D</th>\n",
       "      <th>F</th>\n",
       "    </tr>\n",
       "  </thead>\n",
       "  <tbody>\n",
       "    <tr>\n",
       "      <th>2013-01-01</th>\n",
       "      <td>0.346420</td>\n",
       "      <td>-0.773438</td>\n",
       "      <td>-1.671157</td>\n",
       "      <td>-0.400386</td>\n",
       "      <td>NaN</td>\n",
       "    </tr>\n",
       "    <tr>\n",
       "      <th>2013-01-02</th>\n",
       "      <td>1.043511</td>\n",
       "      <td>1.096944</td>\n",
       "      <td>0.441934</td>\n",
       "      <td>-0.445428</td>\n",
       "      <td>1.0</td>\n",
       "    </tr>\n",
       "    <tr>\n",
       "      <th>2013-01-03</th>\n",
       "      <td>0.717100</td>\n",
       "      <td>0.048022</td>\n",
       "      <td>2.038377</td>\n",
       "      <td>0.509018</td>\n",
       "      <td>2.0</td>\n",
       "    </tr>\n",
       "    <tr>\n",
       "      <th>2013-01-04</th>\n",
       "      <td>-1.244099</td>\n",
       "      <td>-0.984392</td>\n",
       "      <td>-3.030937</td>\n",
       "      <td>-0.753909</td>\n",
       "      <td>3.0</td>\n",
       "    </tr>\n",
       "    <tr>\n",
       "      <th>2013-01-05</th>\n",
       "      <td>-0.167156</td>\n",
       "      <td>-0.531300</td>\n",
       "      <td>-0.182683</td>\n",
       "      <td>-0.782313</td>\n",
       "      <td>4.0</td>\n",
       "    </tr>\n",
       "    <tr>\n",
       "      <th>2013-01-06</th>\n",
       "      <td>1.866509</td>\n",
       "      <td>0.798083</td>\n",
       "      <td>-0.455088</td>\n",
       "      <td>-0.908690</td>\n",
       "      <td>5.0</td>\n",
       "    </tr>\n",
       "  </tbody>\n",
       "</table>\n",
       "</div>"
      ],
      "text/plain": [
       "                   A         B         C         D    F\n",
       "2013-01-01  0.346420 -0.773438 -1.671157 -0.400386  NaN\n",
       "2013-01-02  1.043511  1.096944  0.441934 -0.445428  1.0\n",
       "2013-01-03  0.717100  0.048022  2.038377  0.509018  2.0\n",
       "2013-01-04 -1.244099 -0.984392 -3.030937 -0.753909  3.0\n",
       "2013-01-05 -0.167156 -0.531300 -0.182683 -0.782313  4.0\n",
       "2013-01-06  1.866509  0.798083 -0.455088 -0.908690  5.0"
      ]
     },
     "execution_count": 59,
     "metadata": {},
     "output_type": "execute_result"
    }
   ],
   "source": [
    "df"
   ]
  },
  {
   "cell_type": "markdown",
   "id": "8079ed02",
   "metadata": {},
   "source": [
    "### 22、通过标签修改数据"
   ]
  },
  {
   "cell_type": "code",
   "execution_count": 60,
   "id": "eee1a7a7",
   "metadata": {},
   "outputs": [],
   "source": [
    "df.at[dates[0], \"A\"] = 0"
   ]
  },
  {
   "cell_type": "code",
   "execution_count": 61,
   "id": "aa8aaa2a",
   "metadata": {},
   "outputs": [
    {
     "data": {
      "text/html": [
       "<div>\n",
       "<style scoped>\n",
       "    .dataframe tbody tr th:only-of-type {\n",
       "        vertical-align: middle;\n",
       "    }\n",
       "\n",
       "    .dataframe tbody tr th {\n",
       "        vertical-align: top;\n",
       "    }\n",
       "\n",
       "    .dataframe thead th {\n",
       "        text-align: right;\n",
       "    }\n",
       "</style>\n",
       "<table border=\"1\" class=\"dataframe\">\n",
       "  <thead>\n",
       "    <tr style=\"text-align: right;\">\n",
       "      <th></th>\n",
       "      <th>A</th>\n",
       "      <th>B</th>\n",
       "      <th>C</th>\n",
       "      <th>D</th>\n",
       "      <th>F</th>\n",
       "    </tr>\n",
       "  </thead>\n",
       "  <tbody>\n",
       "    <tr>\n",
       "      <th>2013-01-01</th>\n",
       "      <td>0.000000</td>\n",
       "      <td>-0.773438</td>\n",
       "      <td>-1.671157</td>\n",
       "      <td>-0.400386</td>\n",
       "      <td>NaN</td>\n",
       "    </tr>\n",
       "    <tr>\n",
       "      <th>2013-01-02</th>\n",
       "      <td>1.043511</td>\n",
       "      <td>1.096944</td>\n",
       "      <td>0.441934</td>\n",
       "      <td>-0.445428</td>\n",
       "      <td>1.0</td>\n",
       "    </tr>\n",
       "    <tr>\n",
       "      <th>2013-01-03</th>\n",
       "      <td>0.717100</td>\n",
       "      <td>0.048022</td>\n",
       "      <td>2.038377</td>\n",
       "      <td>0.509018</td>\n",
       "      <td>2.0</td>\n",
       "    </tr>\n",
       "    <tr>\n",
       "      <th>2013-01-04</th>\n",
       "      <td>-1.244099</td>\n",
       "      <td>-0.984392</td>\n",
       "      <td>-3.030937</td>\n",
       "      <td>-0.753909</td>\n",
       "      <td>3.0</td>\n",
       "    </tr>\n",
       "    <tr>\n",
       "      <th>2013-01-05</th>\n",
       "      <td>-0.167156</td>\n",
       "      <td>-0.531300</td>\n",
       "      <td>-0.182683</td>\n",
       "      <td>-0.782313</td>\n",
       "      <td>4.0</td>\n",
       "    </tr>\n",
       "    <tr>\n",
       "      <th>2013-01-06</th>\n",
       "      <td>1.866509</td>\n",
       "      <td>0.798083</td>\n",
       "      <td>-0.455088</td>\n",
       "      <td>-0.908690</td>\n",
       "      <td>5.0</td>\n",
       "    </tr>\n",
       "  </tbody>\n",
       "</table>\n",
       "</div>"
      ],
      "text/plain": [
       "                   A         B         C         D    F\n",
       "2013-01-01  0.000000 -0.773438 -1.671157 -0.400386  NaN\n",
       "2013-01-02  1.043511  1.096944  0.441934 -0.445428  1.0\n",
       "2013-01-03  0.717100  0.048022  2.038377  0.509018  2.0\n",
       "2013-01-04 -1.244099 -0.984392 -3.030937 -0.753909  3.0\n",
       "2013-01-05 -0.167156 -0.531300 -0.182683 -0.782313  4.0\n",
       "2013-01-06  1.866509  0.798083 -0.455088 -0.908690  5.0"
      ]
     },
     "execution_count": 61,
     "metadata": {},
     "output_type": "execute_result"
    }
   ],
   "source": [
    "df"
   ]
  },
  {
   "cell_type": "markdown",
   "id": "89d1c45d",
   "metadata": {},
   "source": [
    "### 23、通过位置修改数据"
   ]
  },
  {
   "cell_type": "code",
   "execution_count": 62,
   "id": "77de8c12",
   "metadata": {},
   "outputs": [],
   "source": [
    "df.iat[0, 1] = 0"
   ]
  },
  {
   "cell_type": "code",
   "execution_count": 63,
   "id": "d89f81f0",
   "metadata": {},
   "outputs": [
    {
     "data": {
      "text/html": [
       "<div>\n",
       "<style scoped>\n",
       "    .dataframe tbody tr th:only-of-type {\n",
       "        vertical-align: middle;\n",
       "    }\n",
       "\n",
       "    .dataframe tbody tr th {\n",
       "        vertical-align: top;\n",
       "    }\n",
       "\n",
       "    .dataframe thead th {\n",
       "        text-align: right;\n",
       "    }\n",
       "</style>\n",
       "<table border=\"1\" class=\"dataframe\">\n",
       "  <thead>\n",
       "    <tr style=\"text-align: right;\">\n",
       "      <th></th>\n",
       "      <th>A</th>\n",
       "      <th>B</th>\n",
       "      <th>C</th>\n",
       "      <th>D</th>\n",
       "      <th>F</th>\n",
       "    </tr>\n",
       "  </thead>\n",
       "  <tbody>\n",
       "    <tr>\n",
       "      <th>2013-01-01</th>\n",
       "      <td>0.000000</td>\n",
       "      <td>0.000000</td>\n",
       "      <td>-1.671157</td>\n",
       "      <td>-0.400386</td>\n",
       "      <td>NaN</td>\n",
       "    </tr>\n",
       "    <tr>\n",
       "      <th>2013-01-02</th>\n",
       "      <td>1.043511</td>\n",
       "      <td>1.096944</td>\n",
       "      <td>0.441934</td>\n",
       "      <td>-0.445428</td>\n",
       "      <td>1.0</td>\n",
       "    </tr>\n",
       "    <tr>\n",
       "      <th>2013-01-03</th>\n",
       "      <td>0.717100</td>\n",
       "      <td>0.048022</td>\n",
       "      <td>2.038377</td>\n",
       "      <td>0.509018</td>\n",
       "      <td>2.0</td>\n",
       "    </tr>\n",
       "    <tr>\n",
       "      <th>2013-01-04</th>\n",
       "      <td>-1.244099</td>\n",
       "      <td>-0.984392</td>\n",
       "      <td>-3.030937</td>\n",
       "      <td>-0.753909</td>\n",
       "      <td>3.0</td>\n",
       "    </tr>\n",
       "    <tr>\n",
       "      <th>2013-01-05</th>\n",
       "      <td>-0.167156</td>\n",
       "      <td>-0.531300</td>\n",
       "      <td>-0.182683</td>\n",
       "      <td>-0.782313</td>\n",
       "      <td>4.0</td>\n",
       "    </tr>\n",
       "    <tr>\n",
       "      <th>2013-01-06</th>\n",
       "      <td>1.866509</td>\n",
       "      <td>0.798083</td>\n",
       "      <td>-0.455088</td>\n",
       "      <td>-0.908690</td>\n",
       "      <td>5.0</td>\n",
       "    </tr>\n",
       "  </tbody>\n",
       "</table>\n",
       "</div>"
      ],
      "text/plain": [
       "                   A         B         C         D    F\n",
       "2013-01-01  0.000000  0.000000 -1.671157 -0.400386  NaN\n",
       "2013-01-02  1.043511  1.096944  0.441934 -0.445428  1.0\n",
       "2013-01-03  0.717100  0.048022  2.038377  0.509018  2.0\n",
       "2013-01-04 -1.244099 -0.984392 -3.030937 -0.753909  3.0\n",
       "2013-01-05 -0.167156 -0.531300 -0.182683 -0.782313  4.0\n",
       "2013-01-06  1.866509  0.798083 -0.455088 -0.908690  5.0"
      ]
     },
     "execution_count": 63,
     "metadata": {},
     "output_type": "execute_result"
    }
   ],
   "source": [
    "df"
   ]
  },
  {
   "cell_type": "markdown",
   "id": "3167261f",
   "metadata": {},
   "source": [
    "### 24、批量修改数据"
   ]
  },
  {
   "cell_type": "code",
   "execution_count": 65,
   "id": "121bf663",
   "metadata": {},
   "outputs": [],
   "source": [
    "df.loc[:, \"D\"] = np.array([5] * len(df))"
   ]
  },
  {
   "cell_type": "code",
   "execution_count": 66,
   "id": "356e9159",
   "metadata": {},
   "outputs": [
    {
     "data": {
      "text/html": [
       "<div>\n",
       "<style scoped>\n",
       "    .dataframe tbody tr th:only-of-type {\n",
       "        vertical-align: middle;\n",
       "    }\n",
       "\n",
       "    .dataframe tbody tr th {\n",
       "        vertical-align: top;\n",
       "    }\n",
       "\n",
       "    .dataframe thead th {\n",
       "        text-align: right;\n",
       "    }\n",
       "</style>\n",
       "<table border=\"1\" class=\"dataframe\">\n",
       "  <thead>\n",
       "    <tr style=\"text-align: right;\">\n",
       "      <th></th>\n",
       "      <th>A</th>\n",
       "      <th>B</th>\n",
       "      <th>C</th>\n",
       "      <th>D</th>\n",
       "      <th>F</th>\n",
       "    </tr>\n",
       "  </thead>\n",
       "  <tbody>\n",
       "    <tr>\n",
       "      <th>2013-01-01</th>\n",
       "      <td>0.000000</td>\n",
       "      <td>0.000000</td>\n",
       "      <td>-1.671157</td>\n",
       "      <td>5</td>\n",
       "      <td>NaN</td>\n",
       "    </tr>\n",
       "    <tr>\n",
       "      <th>2013-01-02</th>\n",
       "      <td>1.043511</td>\n",
       "      <td>1.096944</td>\n",
       "      <td>0.441934</td>\n",
       "      <td>5</td>\n",
       "      <td>1.0</td>\n",
       "    </tr>\n",
       "    <tr>\n",
       "      <th>2013-01-03</th>\n",
       "      <td>0.717100</td>\n",
       "      <td>0.048022</td>\n",
       "      <td>2.038377</td>\n",
       "      <td>5</td>\n",
       "      <td>2.0</td>\n",
       "    </tr>\n",
       "    <tr>\n",
       "      <th>2013-01-04</th>\n",
       "      <td>-1.244099</td>\n",
       "      <td>-0.984392</td>\n",
       "      <td>-3.030937</td>\n",
       "      <td>5</td>\n",
       "      <td>3.0</td>\n",
       "    </tr>\n",
       "    <tr>\n",
       "      <th>2013-01-05</th>\n",
       "      <td>-0.167156</td>\n",
       "      <td>-0.531300</td>\n",
       "      <td>-0.182683</td>\n",
       "      <td>5</td>\n",
       "      <td>4.0</td>\n",
       "    </tr>\n",
       "    <tr>\n",
       "      <th>2013-01-06</th>\n",
       "      <td>1.866509</td>\n",
       "      <td>0.798083</td>\n",
       "      <td>-0.455088</td>\n",
       "      <td>5</td>\n",
       "      <td>5.0</td>\n",
       "    </tr>\n",
       "  </tbody>\n",
       "</table>\n",
       "</div>"
      ],
      "text/plain": [
       "                   A         B         C  D    F\n",
       "2013-01-01  0.000000  0.000000 -1.671157  5  NaN\n",
       "2013-01-02  1.043511  1.096944  0.441934  5  1.0\n",
       "2013-01-03  0.717100  0.048022  2.038377  5  2.0\n",
       "2013-01-04 -1.244099 -0.984392 -3.030937  5  3.0\n",
       "2013-01-05 -0.167156 -0.531300 -0.182683  5  4.0\n",
       "2013-01-06  1.866509  0.798083 -0.455088  5  5.0"
      ]
     },
     "execution_count": 66,
     "metadata": {},
     "output_type": "execute_result"
    }
   ],
   "source": [
    "df"
   ]
  },
  {
   "cell_type": "code",
   "execution_count": 70,
   "id": "5c8570fc",
   "metadata": {},
   "outputs": [],
   "source": [
    "df2 = df.copy()"
   ]
  },
  {
   "cell_type": "code",
   "execution_count": 72,
   "id": "349764b2",
   "metadata": {},
   "outputs": [],
   "source": [
    "df2 = -df2"
   ]
  },
  {
   "cell_type": "code",
   "execution_count": 73,
   "id": "27931b63",
   "metadata": {},
   "outputs": [
    {
     "data": {
      "text/html": [
       "<div>\n",
       "<style scoped>\n",
       "    .dataframe tbody tr th:only-of-type {\n",
       "        vertical-align: middle;\n",
       "    }\n",
       "\n",
       "    .dataframe tbody tr th {\n",
       "        vertical-align: top;\n",
       "    }\n",
       "\n",
       "    .dataframe thead th {\n",
       "        text-align: right;\n",
       "    }\n",
       "</style>\n",
       "<table border=\"1\" class=\"dataframe\">\n",
       "  <thead>\n",
       "    <tr style=\"text-align: right;\">\n",
       "      <th></th>\n",
       "      <th>A</th>\n",
       "      <th>B</th>\n",
       "      <th>C</th>\n",
       "      <th>D</th>\n",
       "      <th>F</th>\n",
       "    </tr>\n",
       "  </thead>\n",
       "  <tbody>\n",
       "    <tr>\n",
       "      <th>2013-01-01</th>\n",
       "      <td>-0.000000</td>\n",
       "      <td>-0.000000</td>\n",
       "      <td>1.671157</td>\n",
       "      <td>5.0</td>\n",
       "      <td>NaN</td>\n",
       "    </tr>\n",
       "    <tr>\n",
       "      <th>2013-01-02</th>\n",
       "      <td>1.043511</td>\n",
       "      <td>1.096944</td>\n",
       "      <td>0.441934</td>\n",
       "      <td>5.0</td>\n",
       "      <td>1.0</td>\n",
       "    </tr>\n",
       "    <tr>\n",
       "      <th>2013-01-03</th>\n",
       "      <td>0.717100</td>\n",
       "      <td>0.048022</td>\n",
       "      <td>2.038377</td>\n",
       "      <td>5.0</td>\n",
       "      <td>2.0</td>\n",
       "    </tr>\n",
       "    <tr>\n",
       "      <th>2013-01-04</th>\n",
       "      <td>1.244099</td>\n",
       "      <td>0.984392</td>\n",
       "      <td>3.030937</td>\n",
       "      <td>5.0</td>\n",
       "      <td>3.0</td>\n",
       "    </tr>\n",
       "    <tr>\n",
       "      <th>2013-01-05</th>\n",
       "      <td>0.167156</td>\n",
       "      <td>0.531300</td>\n",
       "      <td>0.182683</td>\n",
       "      <td>5.0</td>\n",
       "      <td>4.0</td>\n",
       "    </tr>\n",
       "    <tr>\n",
       "      <th>2013-01-06</th>\n",
       "      <td>1.866509</td>\n",
       "      <td>0.798083</td>\n",
       "      <td>0.455088</td>\n",
       "      <td>5.0</td>\n",
       "      <td>5.0</td>\n",
       "    </tr>\n",
       "  </tbody>\n",
       "</table>\n",
       "</div>"
      ],
      "text/plain": [
       "                   A         B         C    D    F\n",
       "2013-01-01 -0.000000 -0.000000  1.671157  5.0  NaN\n",
       "2013-01-02  1.043511  1.096944  0.441934  5.0  1.0\n",
       "2013-01-03  0.717100  0.048022  2.038377  5.0  2.0\n",
       "2013-01-04  1.244099  0.984392  3.030937  5.0  3.0\n",
       "2013-01-05  0.167156  0.531300  0.182683  5.0  4.0\n",
       "2013-01-06  1.866509  0.798083  0.455088  5.0  5.0"
      ]
     },
     "execution_count": 73,
     "metadata": {},
     "output_type": "execute_result"
    }
   ],
   "source": [
    "df2"
   ]
  },
  {
   "cell_type": "code",
   "execution_count": 74,
   "id": "e7dc04ed",
   "metadata": {},
   "outputs": [],
   "source": [
    "df2 = -df2"
   ]
  },
  {
   "cell_type": "code",
   "execution_count": 75,
   "id": "8849ebd9",
   "metadata": {},
   "outputs": [
    {
     "data": {
      "text/html": [
       "<div>\n",
       "<style scoped>\n",
       "    .dataframe tbody tr th:only-of-type {\n",
       "        vertical-align: middle;\n",
       "    }\n",
       "\n",
       "    .dataframe tbody tr th {\n",
       "        vertical-align: top;\n",
       "    }\n",
       "\n",
       "    .dataframe thead th {\n",
       "        text-align: right;\n",
       "    }\n",
       "</style>\n",
       "<table border=\"1\" class=\"dataframe\">\n",
       "  <thead>\n",
       "    <tr style=\"text-align: right;\">\n",
       "      <th></th>\n",
       "      <th>A</th>\n",
       "      <th>B</th>\n",
       "      <th>C</th>\n",
       "      <th>D</th>\n",
       "      <th>F</th>\n",
       "    </tr>\n",
       "  </thead>\n",
       "  <tbody>\n",
       "    <tr>\n",
       "      <th>2013-01-01</th>\n",
       "      <td>0.000000</td>\n",
       "      <td>0.000000</td>\n",
       "      <td>-1.671157</td>\n",
       "      <td>-5.0</td>\n",
       "      <td>NaN</td>\n",
       "    </tr>\n",
       "    <tr>\n",
       "      <th>2013-01-02</th>\n",
       "      <td>-1.043511</td>\n",
       "      <td>-1.096944</td>\n",
       "      <td>-0.441934</td>\n",
       "      <td>-5.0</td>\n",
       "      <td>-1.0</td>\n",
       "    </tr>\n",
       "    <tr>\n",
       "      <th>2013-01-03</th>\n",
       "      <td>-0.717100</td>\n",
       "      <td>-0.048022</td>\n",
       "      <td>-2.038377</td>\n",
       "      <td>-5.0</td>\n",
       "      <td>-2.0</td>\n",
       "    </tr>\n",
       "    <tr>\n",
       "      <th>2013-01-04</th>\n",
       "      <td>-1.244099</td>\n",
       "      <td>-0.984392</td>\n",
       "      <td>-3.030937</td>\n",
       "      <td>-5.0</td>\n",
       "      <td>-3.0</td>\n",
       "    </tr>\n",
       "    <tr>\n",
       "      <th>2013-01-05</th>\n",
       "      <td>-0.167156</td>\n",
       "      <td>-0.531300</td>\n",
       "      <td>-0.182683</td>\n",
       "      <td>-5.0</td>\n",
       "      <td>-4.0</td>\n",
       "    </tr>\n",
       "    <tr>\n",
       "      <th>2013-01-06</th>\n",
       "      <td>-1.866509</td>\n",
       "      <td>-0.798083</td>\n",
       "      <td>-0.455088</td>\n",
       "      <td>-5.0</td>\n",
       "      <td>-5.0</td>\n",
       "    </tr>\n",
       "  </tbody>\n",
       "</table>\n",
       "</div>"
      ],
      "text/plain": [
       "                   A         B         C    D    F\n",
       "2013-01-01  0.000000  0.000000 -1.671157 -5.0  NaN\n",
       "2013-01-02 -1.043511 -1.096944 -0.441934 -5.0 -1.0\n",
       "2013-01-03 -0.717100 -0.048022 -2.038377 -5.0 -2.0\n",
       "2013-01-04 -1.244099 -0.984392 -3.030937 -5.0 -3.0\n",
       "2013-01-05 -0.167156 -0.531300 -0.182683 -5.0 -4.0\n",
       "2013-01-06 -1.866509 -0.798083 -0.455088 -5.0 -5.0"
      ]
     },
     "execution_count": 75,
     "metadata": {},
     "output_type": "execute_result"
    }
   ],
   "source": [
    "df2"
   ]
  },
  {
   "cell_type": "code",
   "execution_count": 76,
   "id": "66b040c1",
   "metadata": {},
   "outputs": [],
   "source": [
    "df2 = -df2"
   ]
  },
  {
   "cell_type": "code",
   "execution_count": 77,
   "id": "c731d645",
   "metadata": {},
   "outputs": [
    {
     "data": {
      "text/html": [
       "<div>\n",
       "<style scoped>\n",
       "    .dataframe tbody tr th:only-of-type {\n",
       "        vertical-align: middle;\n",
       "    }\n",
       "\n",
       "    .dataframe tbody tr th {\n",
       "        vertical-align: top;\n",
       "    }\n",
       "\n",
       "    .dataframe thead th {\n",
       "        text-align: right;\n",
       "    }\n",
       "</style>\n",
       "<table border=\"1\" class=\"dataframe\">\n",
       "  <thead>\n",
       "    <tr style=\"text-align: right;\">\n",
       "      <th></th>\n",
       "      <th>A</th>\n",
       "      <th>B</th>\n",
       "      <th>C</th>\n",
       "      <th>D</th>\n",
       "      <th>F</th>\n",
       "    </tr>\n",
       "  </thead>\n",
       "  <tbody>\n",
       "    <tr>\n",
       "      <th>2013-01-01</th>\n",
       "      <td>-0.000000</td>\n",
       "      <td>-0.000000</td>\n",
       "      <td>1.671157</td>\n",
       "      <td>5.0</td>\n",
       "      <td>NaN</td>\n",
       "    </tr>\n",
       "    <tr>\n",
       "      <th>2013-01-02</th>\n",
       "      <td>1.043511</td>\n",
       "      <td>1.096944</td>\n",
       "      <td>0.441934</td>\n",
       "      <td>5.0</td>\n",
       "      <td>1.0</td>\n",
       "    </tr>\n",
       "    <tr>\n",
       "      <th>2013-01-03</th>\n",
       "      <td>0.717100</td>\n",
       "      <td>0.048022</td>\n",
       "      <td>2.038377</td>\n",
       "      <td>5.0</td>\n",
       "      <td>2.0</td>\n",
       "    </tr>\n",
       "    <tr>\n",
       "      <th>2013-01-04</th>\n",
       "      <td>1.244099</td>\n",
       "      <td>0.984392</td>\n",
       "      <td>3.030937</td>\n",
       "      <td>5.0</td>\n",
       "      <td>3.0</td>\n",
       "    </tr>\n",
       "    <tr>\n",
       "      <th>2013-01-05</th>\n",
       "      <td>0.167156</td>\n",
       "      <td>0.531300</td>\n",
       "      <td>0.182683</td>\n",
       "      <td>5.0</td>\n",
       "      <td>4.0</td>\n",
       "    </tr>\n",
       "    <tr>\n",
       "      <th>2013-01-06</th>\n",
       "      <td>1.866509</td>\n",
       "      <td>0.798083</td>\n",
       "      <td>0.455088</td>\n",
       "      <td>5.0</td>\n",
       "      <td>5.0</td>\n",
       "    </tr>\n",
       "  </tbody>\n",
       "</table>\n",
       "</div>"
      ],
      "text/plain": [
       "                   A         B         C    D    F\n",
       "2013-01-01 -0.000000 -0.000000  1.671157  5.0  NaN\n",
       "2013-01-02  1.043511  1.096944  0.441934  5.0  1.0\n",
       "2013-01-03  0.717100  0.048022  2.038377  5.0  2.0\n",
       "2013-01-04  1.244099  0.984392  3.030937  5.0  3.0\n",
       "2013-01-05  0.167156  0.531300  0.182683  5.0  4.0\n",
       "2013-01-06  1.866509  0.798083  0.455088  5.0  5.0"
      ]
     },
     "execution_count": 77,
     "metadata": {},
     "output_type": "execute_result"
    }
   ],
   "source": [
    "df2"
   ]
  },
  {
   "cell_type": "markdown",
   "id": "f6e4b8f9",
   "metadata": {},
   "source": [
    "### 25、删除具有数据缺失的行"
   ]
  },
  {
   "cell_type": "code",
   "execution_count": 78,
   "id": "8923d56a",
   "metadata": {},
   "outputs": [
    {
     "data": {
      "text/html": [
       "<div>\n",
       "<style scoped>\n",
       "    .dataframe tbody tr th:only-of-type {\n",
       "        vertical-align: middle;\n",
       "    }\n",
       "\n",
       "    .dataframe tbody tr th {\n",
       "        vertical-align: top;\n",
       "    }\n",
       "\n",
       "    .dataframe thead th {\n",
       "        text-align: right;\n",
       "    }\n",
       "</style>\n",
       "<table border=\"1\" class=\"dataframe\">\n",
       "  <thead>\n",
       "    <tr style=\"text-align: right;\">\n",
       "      <th></th>\n",
       "      <th>A</th>\n",
       "      <th>B</th>\n",
       "      <th>C</th>\n",
       "      <th>D</th>\n",
       "      <th>F</th>\n",
       "    </tr>\n",
       "  </thead>\n",
       "  <tbody>\n",
       "    <tr>\n",
       "      <th>2013-01-02</th>\n",
       "      <td>1.043511</td>\n",
       "      <td>1.096944</td>\n",
       "      <td>0.441934</td>\n",
       "      <td>5.0</td>\n",
       "      <td>1.0</td>\n",
       "    </tr>\n",
       "    <tr>\n",
       "      <th>2013-01-03</th>\n",
       "      <td>0.717100</td>\n",
       "      <td>0.048022</td>\n",
       "      <td>2.038377</td>\n",
       "      <td>5.0</td>\n",
       "      <td>2.0</td>\n",
       "    </tr>\n",
       "    <tr>\n",
       "      <th>2013-01-04</th>\n",
       "      <td>1.244099</td>\n",
       "      <td>0.984392</td>\n",
       "      <td>3.030937</td>\n",
       "      <td>5.0</td>\n",
       "      <td>3.0</td>\n",
       "    </tr>\n",
       "    <tr>\n",
       "      <th>2013-01-05</th>\n",
       "      <td>0.167156</td>\n",
       "      <td>0.531300</td>\n",
       "      <td>0.182683</td>\n",
       "      <td>5.0</td>\n",
       "      <td>4.0</td>\n",
       "    </tr>\n",
       "    <tr>\n",
       "      <th>2013-01-06</th>\n",
       "      <td>1.866509</td>\n",
       "      <td>0.798083</td>\n",
       "      <td>0.455088</td>\n",
       "      <td>5.0</td>\n",
       "      <td>5.0</td>\n",
       "    </tr>\n",
       "  </tbody>\n",
       "</table>\n",
       "</div>"
      ],
      "text/plain": [
       "                   A         B         C    D    F\n",
       "2013-01-02  1.043511  1.096944  0.441934  5.0  1.0\n",
       "2013-01-03  0.717100  0.048022  2.038377  5.0  2.0\n",
       "2013-01-04  1.244099  0.984392  3.030937  5.0  3.0\n",
       "2013-01-05  0.167156  0.531300  0.182683  5.0  4.0\n",
       "2013-01-06  1.866509  0.798083  0.455088  5.0  5.0"
      ]
     },
     "execution_count": 78,
     "metadata": {},
     "output_type": "execute_result"
    }
   ],
   "source": [
    "df2.dropna(how=\"any\")   # 返回操作之后的数据，不改变原数据"
   ]
  },
  {
   "cell_type": "markdown",
   "id": "83a32942",
   "metadata": {},
   "source": [
    "### 26、指定值填充数据缺失位置"
   ]
  },
  {
   "cell_type": "code",
   "execution_count": 82,
   "id": "7389819c",
   "metadata": {},
   "outputs": [
    {
     "data": {
      "text/html": [
       "<div>\n",
       "<style scoped>\n",
       "    .dataframe tbody tr th:only-of-type {\n",
       "        vertical-align: middle;\n",
       "    }\n",
       "\n",
       "    .dataframe tbody tr th {\n",
       "        vertical-align: top;\n",
       "    }\n",
       "\n",
       "    .dataframe thead th {\n",
       "        text-align: right;\n",
       "    }\n",
       "</style>\n",
       "<table border=\"1\" class=\"dataframe\">\n",
       "  <thead>\n",
       "    <tr style=\"text-align: right;\">\n",
       "      <th></th>\n",
       "      <th>A</th>\n",
       "      <th>B</th>\n",
       "      <th>C</th>\n",
       "      <th>D</th>\n",
       "      <th>F</th>\n",
       "    </tr>\n",
       "  </thead>\n",
       "  <tbody>\n",
       "    <tr>\n",
       "      <th>2013-01-01</th>\n",
       "      <td>-0.000000</td>\n",
       "      <td>-0.000000</td>\n",
       "      <td>1.671157</td>\n",
       "      <td>5.0</td>\n",
       "      <td>test</td>\n",
       "    </tr>\n",
       "    <tr>\n",
       "      <th>2013-01-02</th>\n",
       "      <td>1.043511</td>\n",
       "      <td>1.096944</td>\n",
       "      <td>0.441934</td>\n",
       "      <td>5.0</td>\n",
       "      <td>1.0</td>\n",
       "    </tr>\n",
       "    <tr>\n",
       "      <th>2013-01-03</th>\n",
       "      <td>0.717100</td>\n",
       "      <td>0.048022</td>\n",
       "      <td>2.038377</td>\n",
       "      <td>5.0</td>\n",
       "      <td>2.0</td>\n",
       "    </tr>\n",
       "    <tr>\n",
       "      <th>2013-01-04</th>\n",
       "      <td>1.244099</td>\n",
       "      <td>0.984392</td>\n",
       "      <td>3.030937</td>\n",
       "      <td>5.0</td>\n",
       "      <td>3.0</td>\n",
       "    </tr>\n",
       "    <tr>\n",
       "      <th>2013-01-05</th>\n",
       "      <td>0.167156</td>\n",
       "      <td>0.531300</td>\n",
       "      <td>0.182683</td>\n",
       "      <td>5.0</td>\n",
       "      <td>4.0</td>\n",
       "    </tr>\n",
       "    <tr>\n",
       "      <th>2013-01-06</th>\n",
       "      <td>1.866509</td>\n",
       "      <td>0.798083</td>\n",
       "      <td>0.455088</td>\n",
       "      <td>5.0</td>\n",
       "      <td>5.0</td>\n",
       "    </tr>\n",
       "  </tbody>\n",
       "</table>\n",
       "</div>"
      ],
      "text/plain": [
       "                   A         B         C    D     F\n",
       "2013-01-01 -0.000000 -0.000000  1.671157  5.0  test\n",
       "2013-01-02  1.043511  1.096944  0.441934  5.0   1.0\n",
       "2013-01-03  0.717100  0.048022  2.038377  5.0   2.0\n",
       "2013-01-04  1.244099  0.984392  3.030937  5.0   3.0\n",
       "2013-01-05  0.167156  0.531300  0.182683  5.0   4.0\n",
       "2013-01-06  1.866509  0.798083  0.455088  5.0   5.0"
      ]
     },
     "execution_count": 82,
     "metadata": {},
     "output_type": "execute_result"
    }
   ],
   "source": [
    "df2.fillna(value=\"test\") # 返回操作之后的数据，不改变原数据"
   ]
  },
  {
   "cell_type": "markdown",
   "id": "c4c20504",
   "metadata": {},
   "source": [
    "### 27、判断整个数据对象的值是否为缺失值"
   ]
  },
  {
   "cell_type": "code",
   "execution_count": 84,
   "id": "b7193484",
   "metadata": {},
   "outputs": [
    {
     "data": {
      "text/html": [
       "<div>\n",
       "<style scoped>\n",
       "    .dataframe tbody tr th:only-of-type {\n",
       "        vertical-align: middle;\n",
       "    }\n",
       "\n",
       "    .dataframe tbody tr th {\n",
       "        vertical-align: top;\n",
       "    }\n",
       "\n",
       "    .dataframe thead th {\n",
       "        text-align: right;\n",
       "    }\n",
       "</style>\n",
       "<table border=\"1\" class=\"dataframe\">\n",
       "  <thead>\n",
       "    <tr style=\"text-align: right;\">\n",
       "      <th></th>\n",
       "      <th>A</th>\n",
       "      <th>B</th>\n",
       "      <th>C</th>\n",
       "      <th>D</th>\n",
       "      <th>F</th>\n",
       "    </tr>\n",
       "  </thead>\n",
       "  <tbody>\n",
       "    <tr>\n",
       "      <th>2013-01-01</th>\n",
       "      <td>False</td>\n",
       "      <td>False</td>\n",
       "      <td>False</td>\n",
       "      <td>False</td>\n",
       "      <td>True</td>\n",
       "    </tr>\n",
       "    <tr>\n",
       "      <th>2013-01-02</th>\n",
       "      <td>False</td>\n",
       "      <td>False</td>\n",
       "      <td>False</td>\n",
       "      <td>False</td>\n",
       "      <td>False</td>\n",
       "    </tr>\n",
       "    <tr>\n",
       "      <th>2013-01-03</th>\n",
       "      <td>False</td>\n",
       "      <td>False</td>\n",
       "      <td>False</td>\n",
       "      <td>False</td>\n",
       "      <td>False</td>\n",
       "    </tr>\n",
       "    <tr>\n",
       "      <th>2013-01-04</th>\n",
       "      <td>False</td>\n",
       "      <td>False</td>\n",
       "      <td>False</td>\n",
       "      <td>False</td>\n",
       "      <td>False</td>\n",
       "    </tr>\n",
       "    <tr>\n",
       "      <th>2013-01-05</th>\n",
       "      <td>False</td>\n",
       "      <td>False</td>\n",
       "      <td>False</td>\n",
       "      <td>False</td>\n",
       "      <td>False</td>\n",
       "    </tr>\n",
       "    <tr>\n",
       "      <th>2013-01-06</th>\n",
       "      <td>False</td>\n",
       "      <td>False</td>\n",
       "      <td>False</td>\n",
       "      <td>False</td>\n",
       "      <td>False</td>\n",
       "    </tr>\n",
       "  </tbody>\n",
       "</table>\n",
       "</div>"
      ],
      "text/plain": [
       "                A      B      C      D      F\n",
       "2013-01-01  False  False  False  False   True\n",
       "2013-01-02  False  False  False  False  False\n",
       "2013-01-03  False  False  False  False  False\n",
       "2013-01-04  False  False  False  False  False\n",
       "2013-01-05  False  False  False  False  False\n",
       "2013-01-06  False  False  False  False  False"
      ]
     },
     "execution_count": 84,
     "metadata": {},
     "output_type": "execute_result"
    }
   ],
   "source": [
    "pd.isna(df2)"
   ]
  },
  {
   "cell_type": "markdown",
   "id": "296a3ad9",
   "metadata": {},
   "source": [
    "### 28、获取描述性统计数据"
   ]
  },
  {
   "cell_type": "code",
   "execution_count": 86,
   "id": "357c6d50",
   "metadata": {},
   "outputs": [
    {
     "data": {
      "text/plain": [
       "A    0.839729\n",
       "B    0.576457\n",
       "C    1.303363\n",
       "D    5.000000\n",
       "F    3.000000\n",
       "dtype: float64"
      ]
     },
     "execution_count": 86,
     "metadata": {},
     "output_type": "execute_result"
    }
   ],
   "source": [
    "df2.mean() # 通过列进行计算"
   ]
  },
  {
   "cell_type": "code",
   "execution_count": 88,
   "id": "e3d1c307",
   "metadata": {},
   "outputs": [
    {
     "data": {
      "text/plain": [
       "2013-01-01    1.667789\n",
       "2013-01-02    1.716478\n",
       "2013-01-03    1.960700\n",
       "2013-01-04    2.651885\n",
       "2013-01-05    1.976228\n",
       "2013-01-06    2.623936\n",
       "Freq: D, dtype: float64"
      ]
     },
     "execution_count": 88,
     "metadata": {},
     "output_type": "execute_result"
    }
   ],
   "source": [
    "df2.mean(1) # 通过行进行计算"
   ]
  },
  {
   "cell_type": "markdown",
   "id": "f2fb22c0",
   "metadata": {},
   "source": [
    "### 29、通过指定数据格式格式化DataFrame数据"
   ]
  },
  {
   "cell_type": "code",
   "execution_count": 97,
   "id": "0b360143",
   "metadata": {},
   "outputs": [],
   "source": [
    "s = pd.Series([1, 3, 5, np.nan, 6, 8], index=dates).shift(-3) # shift(): 在数据生成过程中的位移数"
   ]
  },
  {
   "cell_type": "code",
   "execution_count": 98,
   "id": "46176f02",
   "metadata": {},
   "outputs": [
    {
     "data": {
      "text/plain": [
       "2013-01-01    NaN\n",
       "2013-01-02    6.0\n",
       "2013-01-03    8.0\n",
       "2013-01-04    NaN\n",
       "2013-01-05    NaN\n",
       "2013-01-06    NaN\n",
       "Freq: D, dtype: float64"
      ]
     },
     "execution_count": 98,
     "metadata": {},
     "output_type": "execute_result"
    }
   ],
   "source": [
    "s"
   ]
  },
  {
   "cell_type": "code",
   "execution_count": 100,
   "id": "b580ff4a",
   "metadata": {},
   "outputs": [
    {
     "data": {
      "text/html": [
       "<div>\n",
       "<style scoped>\n",
       "    .dataframe tbody tr th:only-of-type {\n",
       "        vertical-align: middle;\n",
       "    }\n",
       "\n",
       "    .dataframe tbody tr th {\n",
       "        vertical-align: top;\n",
       "    }\n",
       "\n",
       "    .dataframe thead th {\n",
       "        text-align: right;\n",
       "    }\n",
       "</style>\n",
       "<table border=\"1\" class=\"dataframe\">\n",
       "  <thead>\n",
       "    <tr style=\"text-align: right;\">\n",
       "      <th></th>\n",
       "      <th>A</th>\n",
       "      <th>B</th>\n",
       "      <th>C</th>\n",
       "      <th>D</th>\n",
       "      <th>F</th>\n",
       "    </tr>\n",
       "  </thead>\n",
       "  <tbody>\n",
       "    <tr>\n",
       "      <th>2013-01-01</th>\n",
       "      <td>NaN</td>\n",
       "      <td>NaN</td>\n",
       "      <td>NaN</td>\n",
       "      <td>NaN</td>\n",
       "      <td>NaN</td>\n",
       "    </tr>\n",
       "    <tr>\n",
       "      <th>2013-01-02</th>\n",
       "      <td>-4.956489</td>\n",
       "      <td>-4.903056</td>\n",
       "      <td>-5.558066</td>\n",
       "      <td>-1.0</td>\n",
       "      <td>-5.0</td>\n",
       "    </tr>\n",
       "    <tr>\n",
       "      <th>2013-01-03</th>\n",
       "      <td>-7.282900</td>\n",
       "      <td>-7.951978</td>\n",
       "      <td>-5.961623</td>\n",
       "      <td>-3.0</td>\n",
       "      <td>-6.0</td>\n",
       "    </tr>\n",
       "    <tr>\n",
       "      <th>2013-01-04</th>\n",
       "      <td>NaN</td>\n",
       "      <td>NaN</td>\n",
       "      <td>NaN</td>\n",
       "      <td>NaN</td>\n",
       "      <td>NaN</td>\n",
       "    </tr>\n",
       "    <tr>\n",
       "      <th>2013-01-05</th>\n",
       "      <td>NaN</td>\n",
       "      <td>NaN</td>\n",
       "      <td>NaN</td>\n",
       "      <td>NaN</td>\n",
       "      <td>NaN</td>\n",
       "    </tr>\n",
       "    <tr>\n",
       "      <th>2013-01-06</th>\n",
       "      <td>NaN</td>\n",
       "      <td>NaN</td>\n",
       "      <td>NaN</td>\n",
       "      <td>NaN</td>\n",
       "      <td>NaN</td>\n",
       "    </tr>\n",
       "  </tbody>\n",
       "</table>\n",
       "</div>"
      ],
      "text/plain": [
       "                   A         B         C    D    F\n",
       "2013-01-01       NaN       NaN       NaN  NaN  NaN\n",
       "2013-01-02 -4.956489 -4.903056 -5.558066 -1.0 -5.0\n",
       "2013-01-03 -7.282900 -7.951978 -5.961623 -3.0 -6.0\n",
       "2013-01-04       NaN       NaN       NaN  NaN  NaN\n",
       "2013-01-05       NaN       NaN       NaN  NaN  NaN\n",
       "2013-01-06       NaN       NaN       NaN  NaN  NaN"
      ]
     },
     "execution_count": 100,
     "metadata": {},
     "output_type": "execute_result"
    }
   ],
   "source": [
    "df.sub(s, axis=\"index\")"
   ]
  },
  {
   "cell_type": "markdown",
   "id": "a22728ff",
   "metadata": {},
   "source": [
    "### 30、对数据进行处理"
   ]
  },
  {
   "cell_type": "code",
   "execution_count": 102,
   "id": "a7758487",
   "metadata": {},
   "outputs": [
    {
     "data": {
      "text/html": [
       "<div>\n",
       "<style scoped>\n",
       "    .dataframe tbody tr th:only-of-type {\n",
       "        vertical-align: middle;\n",
       "    }\n",
       "\n",
       "    .dataframe tbody tr th {\n",
       "        vertical-align: top;\n",
       "    }\n",
       "\n",
       "    .dataframe thead th {\n",
       "        text-align: right;\n",
       "    }\n",
       "</style>\n",
       "<table border=\"1\" class=\"dataframe\">\n",
       "  <thead>\n",
       "    <tr style=\"text-align: right;\">\n",
       "      <th></th>\n",
       "      <th>A</th>\n",
       "      <th>B</th>\n",
       "      <th>C</th>\n",
       "      <th>D</th>\n",
       "      <th>F</th>\n",
       "    </tr>\n",
       "  </thead>\n",
       "  <tbody>\n",
       "    <tr>\n",
       "      <th>2013-01-01</th>\n",
       "      <td>0.000000</td>\n",
       "      <td>0.000000</td>\n",
       "      <td>-1.671157</td>\n",
       "      <td>5</td>\n",
       "      <td>NaN</td>\n",
       "    </tr>\n",
       "    <tr>\n",
       "      <th>2013-01-02</th>\n",
       "      <td>1.043511</td>\n",
       "      <td>1.096944</td>\n",
       "      <td>0.441934</td>\n",
       "      <td>5</td>\n",
       "      <td>1.0</td>\n",
       "    </tr>\n",
       "    <tr>\n",
       "      <th>2013-01-03</th>\n",
       "      <td>0.717100</td>\n",
       "      <td>0.048022</td>\n",
       "      <td>2.038377</td>\n",
       "      <td>5</td>\n",
       "      <td>2.0</td>\n",
       "    </tr>\n",
       "    <tr>\n",
       "      <th>2013-01-04</th>\n",
       "      <td>-1.244099</td>\n",
       "      <td>-0.984392</td>\n",
       "      <td>-3.030937</td>\n",
       "      <td>5</td>\n",
       "      <td>3.0</td>\n",
       "    </tr>\n",
       "    <tr>\n",
       "      <th>2013-01-05</th>\n",
       "      <td>-0.167156</td>\n",
       "      <td>-0.531300</td>\n",
       "      <td>-0.182683</td>\n",
       "      <td>5</td>\n",
       "      <td>4.0</td>\n",
       "    </tr>\n",
       "    <tr>\n",
       "      <th>2013-01-06</th>\n",
       "      <td>1.866509</td>\n",
       "      <td>0.798083</td>\n",
       "      <td>-0.455088</td>\n",
       "      <td>5</td>\n",
       "      <td>5.0</td>\n",
       "    </tr>\n",
       "  </tbody>\n",
       "</table>\n",
       "</div>"
      ],
      "text/plain": [
       "                   A         B         C  D    F\n",
       "2013-01-01  0.000000  0.000000 -1.671157  5  NaN\n",
       "2013-01-02  1.043511  1.096944  0.441934  5  1.0\n",
       "2013-01-03  0.717100  0.048022  2.038377  5  2.0\n",
       "2013-01-04 -1.244099 -0.984392 -3.030937  5  3.0\n",
       "2013-01-05 -0.167156 -0.531300 -0.182683  5  4.0\n",
       "2013-01-06  1.866509  0.798083 -0.455088  5  5.0"
      ]
     },
     "execution_count": 102,
     "metadata": {},
     "output_type": "execute_result"
    }
   ],
   "source": [
    "df"
   ]
  },
  {
   "cell_type": "code",
   "execution_count": 103,
   "id": "7f60a799",
   "metadata": {},
   "outputs": [
    {
     "data": {
      "text/html": [
       "<div>\n",
       "<style scoped>\n",
       "    .dataframe tbody tr th:only-of-type {\n",
       "        vertical-align: middle;\n",
       "    }\n",
       "\n",
       "    .dataframe tbody tr th {\n",
       "        vertical-align: top;\n",
       "    }\n",
       "\n",
       "    .dataframe thead th {\n",
       "        text-align: right;\n",
       "    }\n",
       "</style>\n",
       "<table border=\"1\" class=\"dataframe\">\n",
       "  <thead>\n",
       "    <tr style=\"text-align: right;\">\n",
       "      <th></th>\n",
       "      <th>A</th>\n",
       "      <th>B</th>\n",
       "      <th>C</th>\n",
       "      <th>D</th>\n",
       "      <th>F</th>\n",
       "    </tr>\n",
       "  </thead>\n",
       "  <tbody>\n",
       "    <tr>\n",
       "      <th>2013-01-01</th>\n",
       "      <td>0.000000</td>\n",
       "      <td>0.000000</td>\n",
       "      <td>-1.671157</td>\n",
       "      <td>5</td>\n",
       "      <td>NaN</td>\n",
       "    </tr>\n",
       "    <tr>\n",
       "      <th>2013-01-02</th>\n",
       "      <td>1.043511</td>\n",
       "      <td>1.096944</td>\n",
       "      <td>-1.229223</td>\n",
       "      <td>10</td>\n",
       "      <td>1.0</td>\n",
       "    </tr>\n",
       "    <tr>\n",
       "      <th>2013-01-03</th>\n",
       "      <td>1.760612</td>\n",
       "      <td>1.144966</td>\n",
       "      <td>0.809155</td>\n",
       "      <td>15</td>\n",
       "      <td>3.0</td>\n",
       "    </tr>\n",
       "    <tr>\n",
       "      <th>2013-01-04</th>\n",
       "      <td>0.516513</td>\n",
       "      <td>0.160574</td>\n",
       "      <td>-2.221782</td>\n",
       "      <td>20</td>\n",
       "      <td>6.0</td>\n",
       "    </tr>\n",
       "    <tr>\n",
       "      <th>2013-01-05</th>\n",
       "      <td>0.349357</td>\n",
       "      <td>-0.370726</td>\n",
       "      <td>-2.404465</td>\n",
       "      <td>25</td>\n",
       "      <td>10.0</td>\n",
       "    </tr>\n",
       "    <tr>\n",
       "      <th>2013-01-06</th>\n",
       "      <td>2.215866</td>\n",
       "      <td>0.427357</td>\n",
       "      <td>-2.859553</td>\n",
       "      <td>30</td>\n",
       "      <td>15.0</td>\n",
       "    </tr>\n",
       "  </tbody>\n",
       "</table>\n",
       "</div>"
      ],
      "text/plain": [
       "                   A         B         C   D     F\n",
       "2013-01-01  0.000000  0.000000 -1.671157   5   NaN\n",
       "2013-01-02  1.043511  1.096944 -1.229223  10   1.0\n",
       "2013-01-03  1.760612  1.144966  0.809155  15   3.0\n",
       "2013-01-04  0.516513  0.160574 -2.221782  20   6.0\n",
       "2013-01-05  0.349357 -0.370726 -2.404465  25  10.0\n",
       "2013-01-06  2.215866  0.427357 -2.859553  30  15.0"
      ]
     },
     "execution_count": 103,
     "metadata": {},
     "output_type": "execute_result"
    }
   ],
   "source": [
    "df.apply(np.cumsum)   # 数据逐条累加"
   ]
  },
  {
   "cell_type": "code",
   "execution_count": 104,
   "id": "a2237536",
   "metadata": {},
   "outputs": [
    {
     "data": {
      "text/plain": [
       "A    3.110608\n",
       "B    2.081335\n",
       "C    5.069314\n",
       "D    0.000000\n",
       "F    4.000000\n",
       "dtype: float64"
      ]
     },
     "execution_count": 104,
     "metadata": {},
     "output_type": "execute_result"
    }
   ],
   "source": [
    "df.apply(lambda x: x.max() - x.min())"
   ]
  },
  {
   "cell_type": "markdown",
   "id": "2916d634",
   "metadata": {},
   "source": [
    "### 31、统计元素值出现次数"
   ]
  },
  {
   "cell_type": "code",
   "execution_count": 105,
   "id": "4bf9506c",
   "metadata": {},
   "outputs": [],
   "source": [
    "s = pd.Series(np.random.randint(0, 7, size=10))"
   ]
  },
  {
   "cell_type": "code",
   "execution_count": 106,
   "id": "698cafc8",
   "metadata": {},
   "outputs": [
    {
     "data": {
      "text/plain": [
       "0    5\n",
       "1    4\n",
       "2    3\n",
       "3    2\n",
       "4    1\n",
       "5    4\n",
       "6    1\n",
       "7    4\n",
       "8    0\n",
       "9    6\n",
       "dtype: int32"
      ]
     },
     "execution_count": 106,
     "metadata": {},
     "output_type": "execute_result"
    }
   ],
   "source": [
    "s"
   ]
  },
  {
   "cell_type": "code",
   "execution_count": 107,
   "id": "bb4a4c41",
   "metadata": {},
   "outputs": [
    {
     "data": {
      "text/plain": [
       "4    3\n",
       "1    2\n",
       "0    1\n",
       "2    1\n",
       "3    1\n",
       "5    1\n",
       "6    1\n",
       "dtype: int64"
      ]
     },
     "execution_count": 107,
     "metadata": {},
     "output_type": "execute_result"
    }
   ],
   "source": [
    "s.value_counts()"
   ]
  },
  {
   "cell_type": "markdown",
   "id": "9d94f658",
   "metadata": {},
   "source": [
    "### 32、操作数据对象中的字符串"
   ]
  },
  {
   "cell_type": "code",
   "execution_count": 108,
   "id": "c1ac98bb",
   "metadata": {},
   "outputs": [],
   "source": [
    "s = pd.Series([\"A\", \"B\", \"C\", \"Aba\", np.nan, \"cat\"])"
   ]
  },
  {
   "cell_type": "code",
   "execution_count": 109,
   "id": "20dd282d",
   "metadata": {},
   "outputs": [
    {
     "data": {
      "text/plain": [
       "0      a\n",
       "1      b\n",
       "2      c\n",
       "3    aba\n",
       "4    NaN\n",
       "5    cat\n",
       "dtype: object"
      ]
     },
     "execution_count": 109,
     "metadata": {},
     "output_type": "execute_result"
    }
   ],
   "source": [
    "s.str.lower()"
   ]
  },
  {
   "cell_type": "markdown",
   "id": "a0290891",
   "metadata": {},
   "source": [
    "### 33、行之间数据连接"
   ]
  },
  {
   "cell_type": "code",
   "execution_count": 110,
   "id": "ca82f940",
   "metadata": {},
   "outputs": [],
   "source": [
    "df = pd.DataFrame(np.random.randn(10, 4))"
   ]
  },
  {
   "cell_type": "code",
   "execution_count": 111,
   "id": "cae7f991",
   "metadata": {},
   "outputs": [
    {
     "data": {
      "text/html": [
       "<div>\n",
       "<style scoped>\n",
       "    .dataframe tbody tr th:only-of-type {\n",
       "        vertical-align: middle;\n",
       "    }\n",
       "\n",
       "    .dataframe tbody tr th {\n",
       "        vertical-align: top;\n",
       "    }\n",
       "\n",
       "    .dataframe thead th {\n",
       "        text-align: right;\n",
       "    }\n",
       "</style>\n",
       "<table border=\"1\" class=\"dataframe\">\n",
       "  <thead>\n",
       "    <tr style=\"text-align: right;\">\n",
       "      <th></th>\n",
       "      <th>0</th>\n",
       "      <th>1</th>\n",
       "      <th>2</th>\n",
       "      <th>3</th>\n",
       "    </tr>\n",
       "  </thead>\n",
       "  <tbody>\n",
       "    <tr>\n",
       "      <th>0</th>\n",
       "      <td>0.937746</td>\n",
       "      <td>0.728470</td>\n",
       "      <td>-0.321864</td>\n",
       "      <td>0.368064</td>\n",
       "    </tr>\n",
       "    <tr>\n",
       "      <th>1</th>\n",
       "      <td>-1.236044</td>\n",
       "      <td>-0.310402</td>\n",
       "      <td>0.301394</td>\n",
       "      <td>-0.085649</td>\n",
       "    </tr>\n",
       "    <tr>\n",
       "      <th>2</th>\n",
       "      <td>-0.135228</td>\n",
       "      <td>-1.111247</td>\n",
       "      <td>0.040793</td>\n",
       "      <td>0.036359</td>\n",
       "    </tr>\n",
       "    <tr>\n",
       "      <th>3</th>\n",
       "      <td>-0.242592</td>\n",
       "      <td>-0.580969</td>\n",
       "      <td>-0.559883</td>\n",
       "      <td>-0.813214</td>\n",
       "    </tr>\n",
       "    <tr>\n",
       "      <th>4</th>\n",
       "      <td>0.692862</td>\n",
       "      <td>0.721485</td>\n",
       "      <td>0.647349</td>\n",
       "      <td>1.116522</td>\n",
       "    </tr>\n",
       "    <tr>\n",
       "      <th>5</th>\n",
       "      <td>-0.691467</td>\n",
       "      <td>-1.973678</td>\n",
       "      <td>-0.022896</td>\n",
       "      <td>1.540627</td>\n",
       "    </tr>\n",
       "    <tr>\n",
       "      <th>6</th>\n",
       "      <td>1.049544</td>\n",
       "      <td>0.405071</td>\n",
       "      <td>0.505944</td>\n",
       "      <td>-0.568906</td>\n",
       "    </tr>\n",
       "    <tr>\n",
       "      <th>7</th>\n",
       "      <td>-0.103845</td>\n",
       "      <td>0.813997</td>\n",
       "      <td>-2.207577</td>\n",
       "      <td>-1.070558</td>\n",
       "    </tr>\n",
       "    <tr>\n",
       "      <th>8</th>\n",
       "      <td>0.164952</td>\n",
       "      <td>1.183412</td>\n",
       "      <td>-1.713572</td>\n",
       "      <td>0.343722</td>\n",
       "    </tr>\n",
       "    <tr>\n",
       "      <th>9</th>\n",
       "      <td>0.310229</td>\n",
       "      <td>-0.759742</td>\n",
       "      <td>-0.409551</td>\n",
       "      <td>-1.294061</td>\n",
       "    </tr>\n",
       "  </tbody>\n",
       "</table>\n",
       "</div>"
      ],
      "text/plain": [
       "          0         1         2         3\n",
       "0  0.937746  0.728470 -0.321864  0.368064\n",
       "1 -1.236044 -0.310402  0.301394 -0.085649\n",
       "2 -0.135228 -1.111247  0.040793  0.036359\n",
       "3 -0.242592 -0.580969 -0.559883 -0.813214\n",
       "4  0.692862  0.721485  0.647349  1.116522\n",
       "5 -0.691467 -1.973678 -0.022896  1.540627\n",
       "6  1.049544  0.405071  0.505944 -0.568906\n",
       "7 -0.103845  0.813997 -2.207577 -1.070558\n",
       "8  0.164952  1.183412 -1.713572  0.343722\n",
       "9  0.310229 -0.759742 -0.409551 -1.294061"
      ]
     },
     "execution_count": 111,
     "metadata": {},
     "output_type": "execute_result"
    }
   ],
   "source": [
    "df"
   ]
  },
  {
   "cell_type": "code",
   "execution_count": 112,
   "id": "01a16809",
   "metadata": {},
   "outputs": [],
   "source": [
    "pieces = [df[3:7], df[:3], df[7:]]"
   ]
  },
  {
   "cell_type": "code",
   "execution_count": 113,
   "id": "cd0c5d49",
   "metadata": {},
   "outputs": [
    {
     "data": {
      "text/html": [
       "<div>\n",
       "<style scoped>\n",
       "    .dataframe tbody tr th:only-of-type {\n",
       "        vertical-align: middle;\n",
       "    }\n",
       "\n",
       "    .dataframe tbody tr th {\n",
       "        vertical-align: top;\n",
       "    }\n",
       "\n",
       "    .dataframe thead th {\n",
       "        text-align: right;\n",
       "    }\n",
       "</style>\n",
       "<table border=\"1\" class=\"dataframe\">\n",
       "  <thead>\n",
       "    <tr style=\"text-align: right;\">\n",
       "      <th></th>\n",
       "      <th>0</th>\n",
       "      <th>1</th>\n",
       "      <th>2</th>\n",
       "      <th>3</th>\n",
       "    </tr>\n",
       "  </thead>\n",
       "  <tbody>\n",
       "    <tr>\n",
       "      <th>3</th>\n",
       "      <td>-0.242592</td>\n",
       "      <td>-0.580969</td>\n",
       "      <td>-0.559883</td>\n",
       "      <td>-0.813214</td>\n",
       "    </tr>\n",
       "    <tr>\n",
       "      <th>4</th>\n",
       "      <td>0.692862</td>\n",
       "      <td>0.721485</td>\n",
       "      <td>0.647349</td>\n",
       "      <td>1.116522</td>\n",
       "    </tr>\n",
       "    <tr>\n",
       "      <th>5</th>\n",
       "      <td>-0.691467</td>\n",
       "      <td>-1.973678</td>\n",
       "      <td>-0.022896</td>\n",
       "      <td>1.540627</td>\n",
       "    </tr>\n",
       "    <tr>\n",
       "      <th>6</th>\n",
       "      <td>1.049544</td>\n",
       "      <td>0.405071</td>\n",
       "      <td>0.505944</td>\n",
       "      <td>-0.568906</td>\n",
       "    </tr>\n",
       "    <tr>\n",
       "      <th>0</th>\n",
       "      <td>0.937746</td>\n",
       "      <td>0.728470</td>\n",
       "      <td>-0.321864</td>\n",
       "      <td>0.368064</td>\n",
       "    </tr>\n",
       "    <tr>\n",
       "      <th>1</th>\n",
       "      <td>-1.236044</td>\n",
       "      <td>-0.310402</td>\n",
       "      <td>0.301394</td>\n",
       "      <td>-0.085649</td>\n",
       "    </tr>\n",
       "    <tr>\n",
       "      <th>2</th>\n",
       "      <td>-0.135228</td>\n",
       "      <td>-1.111247</td>\n",
       "      <td>0.040793</td>\n",
       "      <td>0.036359</td>\n",
       "    </tr>\n",
       "    <tr>\n",
       "      <th>7</th>\n",
       "      <td>-0.103845</td>\n",
       "      <td>0.813997</td>\n",
       "      <td>-2.207577</td>\n",
       "      <td>-1.070558</td>\n",
       "    </tr>\n",
       "    <tr>\n",
       "      <th>8</th>\n",
       "      <td>0.164952</td>\n",
       "      <td>1.183412</td>\n",
       "      <td>-1.713572</td>\n",
       "      <td>0.343722</td>\n",
       "    </tr>\n",
       "    <tr>\n",
       "      <th>9</th>\n",
       "      <td>0.310229</td>\n",
       "      <td>-0.759742</td>\n",
       "      <td>-0.409551</td>\n",
       "      <td>-1.294061</td>\n",
       "    </tr>\n",
       "  </tbody>\n",
       "</table>\n",
       "</div>"
      ],
      "text/plain": [
       "          0         1         2         3\n",
       "3 -0.242592 -0.580969 -0.559883 -0.813214\n",
       "4  0.692862  0.721485  0.647349  1.116522\n",
       "5 -0.691467 -1.973678 -0.022896  1.540627\n",
       "6  1.049544  0.405071  0.505944 -0.568906\n",
       "0  0.937746  0.728470 -0.321864  0.368064\n",
       "1 -1.236044 -0.310402  0.301394 -0.085649\n",
       "2 -0.135228 -1.111247  0.040793  0.036359\n",
       "7 -0.103845  0.813997 -2.207577 -1.070558\n",
       "8  0.164952  1.183412 -1.713572  0.343722\n",
       "9  0.310229 -0.759742 -0.409551 -1.294061"
      ]
     },
     "execution_count": 113,
     "metadata": {},
     "output_type": "execute_result"
    }
   ],
   "source": [
    "pd.concat(pieces)"
   ]
  },
  {
   "cell_type": "markdown",
   "id": "5b1d8059",
   "metadata": {},
   "source": [
    "### 34、列之间数据连接"
   ]
  },
  {
   "cell_type": "code",
   "execution_count": 114,
   "id": "95d9810e",
   "metadata": {},
   "outputs": [],
   "source": [
    "left = pd.DataFrame({\"key\": [\"foo\", \"foo\"], \"lval\": [1, 2]})"
   ]
  },
  {
   "cell_type": "code",
   "execution_count": 115,
   "id": "96ed0393",
   "metadata": {},
   "outputs": [],
   "source": [
    "right = pd.DataFrame({\"key\": [\"foo\", \"foo\"], \"lval\": [4, 5]})"
   ]
  },
  {
   "cell_type": "code",
   "execution_count": 116,
   "id": "9c3bbbb9",
   "metadata": {},
   "outputs": [
    {
     "data": {
      "text/html": [
       "<div>\n",
       "<style scoped>\n",
       "    .dataframe tbody tr th:only-of-type {\n",
       "        vertical-align: middle;\n",
       "    }\n",
       "\n",
       "    .dataframe tbody tr th {\n",
       "        vertical-align: top;\n",
       "    }\n",
       "\n",
       "    .dataframe thead th {\n",
       "        text-align: right;\n",
       "    }\n",
       "</style>\n",
       "<table border=\"1\" class=\"dataframe\">\n",
       "  <thead>\n",
       "    <tr style=\"text-align: right;\">\n",
       "      <th></th>\n",
       "      <th>key</th>\n",
       "      <th>lval</th>\n",
       "    </tr>\n",
       "  </thead>\n",
       "  <tbody>\n",
       "    <tr>\n",
       "      <th>0</th>\n",
       "      <td>foo</td>\n",
       "      <td>1</td>\n",
       "    </tr>\n",
       "    <tr>\n",
       "      <th>1</th>\n",
       "      <td>foo</td>\n",
       "      <td>2</td>\n",
       "    </tr>\n",
       "  </tbody>\n",
       "</table>\n",
       "</div>"
      ],
      "text/plain": [
       "   key  lval\n",
       "0  foo     1\n",
       "1  foo     2"
      ]
     },
     "execution_count": 116,
     "metadata": {},
     "output_type": "execute_result"
    }
   ],
   "source": [
    "left"
   ]
  },
  {
   "cell_type": "code",
   "execution_count": 117,
   "id": "bdf84838",
   "metadata": {},
   "outputs": [
    {
     "data": {
      "text/html": [
       "<div>\n",
       "<style scoped>\n",
       "    .dataframe tbody tr th:only-of-type {\n",
       "        vertical-align: middle;\n",
       "    }\n",
       "\n",
       "    .dataframe tbody tr th {\n",
       "        vertical-align: top;\n",
       "    }\n",
       "\n",
       "    .dataframe thead th {\n",
       "        text-align: right;\n",
       "    }\n",
       "</style>\n",
       "<table border=\"1\" class=\"dataframe\">\n",
       "  <thead>\n",
       "    <tr style=\"text-align: right;\">\n",
       "      <th></th>\n",
       "      <th>key</th>\n",
       "      <th>lval</th>\n",
       "    </tr>\n",
       "  </thead>\n",
       "  <tbody>\n",
       "    <tr>\n",
       "      <th>0</th>\n",
       "      <td>foo</td>\n",
       "      <td>4</td>\n",
       "    </tr>\n",
       "    <tr>\n",
       "      <th>1</th>\n",
       "      <td>foo</td>\n",
       "      <td>5</td>\n",
       "    </tr>\n",
       "  </tbody>\n",
       "</table>\n",
       "</div>"
      ],
      "text/plain": [
       "   key  lval\n",
       "0  foo     4\n",
       "1  foo     5"
      ]
     },
     "execution_count": 117,
     "metadata": {},
     "output_type": "execute_result"
    }
   ],
   "source": [
    "right"
   ]
  },
  {
   "cell_type": "code",
   "execution_count": 118,
   "id": "37992d9b",
   "metadata": {},
   "outputs": [
    {
     "data": {
      "text/html": [
       "<div>\n",
       "<style scoped>\n",
       "    .dataframe tbody tr th:only-of-type {\n",
       "        vertical-align: middle;\n",
       "    }\n",
       "\n",
       "    .dataframe tbody tr th {\n",
       "        vertical-align: top;\n",
       "    }\n",
       "\n",
       "    .dataframe thead th {\n",
       "        text-align: right;\n",
       "    }\n",
       "</style>\n",
       "<table border=\"1\" class=\"dataframe\">\n",
       "  <thead>\n",
       "    <tr style=\"text-align: right;\">\n",
       "      <th></th>\n",
       "      <th>key</th>\n",
       "      <th>lval_x</th>\n",
       "      <th>lval_y</th>\n",
       "    </tr>\n",
       "  </thead>\n",
       "  <tbody>\n",
       "    <tr>\n",
       "      <th>0</th>\n",
       "      <td>foo</td>\n",
       "      <td>1</td>\n",
       "      <td>4</td>\n",
       "    </tr>\n",
       "    <tr>\n",
       "      <th>1</th>\n",
       "      <td>foo</td>\n",
       "      <td>1</td>\n",
       "      <td>5</td>\n",
       "    </tr>\n",
       "    <tr>\n",
       "      <th>2</th>\n",
       "      <td>foo</td>\n",
       "      <td>2</td>\n",
       "      <td>4</td>\n",
       "    </tr>\n",
       "    <tr>\n",
       "      <th>3</th>\n",
       "      <td>foo</td>\n",
       "      <td>2</td>\n",
       "      <td>5</td>\n",
       "    </tr>\n",
       "  </tbody>\n",
       "</table>\n",
       "</div>"
      ],
      "text/plain": [
       "   key  lval_x  lval_y\n",
       "0  foo       1       4\n",
       "1  foo       1       5\n",
       "2  foo       2       4\n",
       "3  foo       2       5"
      ]
     },
     "execution_count": 118,
     "metadata": {},
     "output_type": "execute_result"
    }
   ],
   "source": [
    "pd.merge(left, right, on=\"key\")"
   ]
  },
  {
   "cell_type": "code",
   "execution_count": 119,
   "id": "5bebc90d",
   "metadata": {},
   "outputs": [],
   "source": [
    "left = pd.DataFrame({\"key\": [\"foo\", \"bar\"], \"lval\": [1, 2]})"
   ]
  },
  {
   "cell_type": "code",
   "execution_count": 120,
   "id": "27a11e39",
   "metadata": {},
   "outputs": [],
   "source": [
    "right = pd.DataFrame({\"key\": [\"foo\", \"bar\"], \"lval\": [4, 5]})"
   ]
  },
  {
   "cell_type": "code",
   "execution_count": 121,
   "id": "d01b2cbb",
   "metadata": {},
   "outputs": [
    {
     "data": {
      "text/html": [
       "<div>\n",
       "<style scoped>\n",
       "    .dataframe tbody tr th:only-of-type {\n",
       "        vertical-align: middle;\n",
       "    }\n",
       "\n",
       "    .dataframe tbody tr th {\n",
       "        vertical-align: top;\n",
       "    }\n",
       "\n",
       "    .dataframe thead th {\n",
       "        text-align: right;\n",
       "    }\n",
       "</style>\n",
       "<table border=\"1\" class=\"dataframe\">\n",
       "  <thead>\n",
       "    <tr style=\"text-align: right;\">\n",
       "      <th></th>\n",
       "      <th>key</th>\n",
       "      <th>lval_x</th>\n",
       "      <th>lval_y</th>\n",
       "    </tr>\n",
       "  </thead>\n",
       "  <tbody>\n",
       "    <tr>\n",
       "      <th>0</th>\n",
       "      <td>foo</td>\n",
       "      <td>1</td>\n",
       "      <td>4</td>\n",
       "    </tr>\n",
       "    <tr>\n",
       "      <th>1</th>\n",
       "      <td>bar</td>\n",
       "      <td>2</td>\n",
       "      <td>5</td>\n",
       "    </tr>\n",
       "  </tbody>\n",
       "</table>\n",
       "</div>"
      ],
      "text/plain": [
       "   key  lval_x  lval_y\n",
       "0  foo       1       4\n",
       "1  bar       2       5"
      ]
     },
     "execution_count": 121,
     "metadata": {},
     "output_type": "execute_result"
    }
   ],
   "source": [
    "pd.merge(left, right, on=\"key\")"
   ]
  },
  {
   "cell_type": "code",
   "execution_count": null,
   "id": "babbda18",
   "metadata": {},
   "outputs": [],
   "source": []
  }
 ],
 "metadata": {
  "kernelspec": {
   "display_name": "Python 3",
   "language": "python",
   "name": "python3"
  },
  "language_info": {
   "codemirror_mode": {
    "name": "ipython",
    "version": 3
   },
   "file_extension": ".py",
   "mimetype": "text/x-python",
   "name": "python",
   "nbconvert_exporter": "python",
   "pygments_lexer": "ipython3",
   "version": "3.9.5"
  }
 },
 "nbformat": 4,
 "nbformat_minor": 5
}
